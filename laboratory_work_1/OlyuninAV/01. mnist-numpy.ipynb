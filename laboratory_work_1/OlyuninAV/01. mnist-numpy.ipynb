{
 "cells": [
  {
   "cell_type": "markdown",
   "metadata": {},
   "source": [
    "## 00. Load & Visualize MNIST Dataset"
   ]
  },
  {
   "cell_type": "code",
   "execution_count": 1,
   "metadata": {},
   "outputs": [],
   "source": [
    "import os\n",
    "DATA_PATH = os.path.abspath(os.path.join(os.getcwd(), '..\\\\..\\\\data\\\\MNIST'))\n",
    "\n",
    "hyperparams = {\n",
    "    \"batch_size\": 64,\n",
    "    \"learning_rate\": 0.1,\n",
    "    \"hidden_size\": 300,\n",
    "    \"epochs\": 20\n",
    "}"
   ]
  },
  {
   "cell_type": "code",
   "execution_count": 2,
   "metadata": {},
   "outputs": [
    {
     "data": {
      "text/plain": [
       "((60000, 784), (10000, 784))"
      ]
     },
     "execution_count": 2,
     "metadata": {},
     "output_type": "execute_result"
    }
   ],
   "source": [
    "import numpy as np\n",
    "\n",
    "class MNISTDataset():\n",
    "    def __init__(self, path_to_images: os.PathLike, path_to_labels: os.PathLike):\n",
    "        with open(path_to_images, 'rb') as f:\n",
    "            self.images = np.frombuffer(f.read(), np.uint8, offset=16)\n",
    "            self.images = self.images.reshape(-1, 28*28)\n",
    "            self.images = self.images / 255.0\n",
    "\n",
    "        with open(path_to_labels, 'rb') as f:\n",
    "            self.labels = np.frombuffer(f.read(), np.uint8, offset=8)\n",
    "\n",
    "train_dataset = MNISTDataset(path_to_images=os.path.join(DATA_PATH, 'train-images.idx3-ubyte'),\n",
    "                             path_to_labels=os.path.join(DATA_PATH, 'train-labels.idx1-ubyte'))\n",
    "\n",
    "test_dataset = MNISTDataset(path_to_images=os.path.join(DATA_PATH, 't10k-images.idx3-ubyte'),\n",
    "                             path_to_labels=os.path.join(DATA_PATH, 't10k-labels.idx1-ubyte'))\n",
    "train_dataset.images.shape, test_dataset.images.shape"
   ]
  },
  {
   "cell_type": "code",
   "execution_count": 3,
   "metadata": {},
   "outputs": [
    {
     "data": {
      "image/png": "[encoded data removed]",
      "text/plain": [
       "<Figure size 1000x500 with 10 Axes>"
      ]
     },
     "metadata": {},
     "output_type": "display_data"
    }
   ],
   "source": [
    "import matplotlib.pyplot as plt\n",
    "\n",
    "fig, axs = plt.subplots(2, 5, figsize=(10,5))\n",
    "plt.setp(plt.gcf().get_axes(), xticks=[], yticks=[])\n",
    "\n",
    "for i, ax in enumerate(fig.axes):\n",
    "    ax.imshow(train_dataset.images[i].reshape(28, 28), cmap=\"grey\")\n",
    "    ax.set_title(train_dataset.labels[i])"
   ]
  },
  {
   "cell_type": "code",
   "execution_count": 4,
   "metadata": {},
   "outputs": [
    {
     "data": {
      "image/png": "[encoded data removed]",
      "text/plain": [
       "<Figure size 1000x500 with 10 Axes>"
      ]
     },
     "metadata": {},
     "output_type": "display_data"
    }
   ],
   "source": [
    "import matplotlib.pyplot as plt\n",
    "\n",
    "fig, axs = plt.subplots(2, 5, figsize=(10,5))\n",
    "plt.setp(plt.gcf().get_axes(), xticks=[], yticks=[])\n",
    "\n",
    "for i, ax in enumerate(fig.axes):\n",
    "    ax.imshow(test_dataset.images[i].reshape(28, 28), cmap=\"grey\")\n",
    "    ax.set_title(test_dataset.labels[i])"
   ]
  },
  {
   "cell_type": "markdown",
   "metadata": {},
   "source": [
    "## 01. Data Loader & Model"
   ]
  },
  {
   "cell_type": "code",
   "execution_count": 5,
   "metadata": {},
   "outputs": [],
   "source": [
    "class DataLoader():\n",
    "    def __init__(self, dataset : MNISTDataset, batch_size=1, shuffle=False):\n",
    "        self.dataset = dataset\n",
    "        self.batch_size = batch_size\n",
    "        self.shuffle = shuffle\n",
    "        self.num_batches = len(self.dataset.images) // self.batch_size\n",
    "\n",
    "    def __iter__(self):\n",
    "        indices = np.arange(len(self.dataset.images))\n",
    "        if self.shuffle:\n",
    "            np.random.shuffle(indices)\n",
    "        for i in range(self.num_batches):\n",
    "            batch_indices = indices[i*self.batch_size:(i+1)*self.batch_size]\n",
    "            batch_images = self.dataset.images[batch_indices]\n",
    "            batch_labels = self.dataset.labels[batch_indices]\n",
    "            yield batch_images, batch_labels\n",
    "\n",
    "        if len(self.dataset.images) % self.batch_size != 0:\n",
    "            batch_indices = indices[self.num_batches*self.batch_size:]\n",
    "            batch_images = self.dataset.images[batch_indices]\n",
    "            batch_labels = self.dataset.labels[batch_indices]\n",
    "            yield batch_images, batch_labels\n",
    "    \n",
    "    def __len__(self):\n",
    "        return self.num_batches\n",
    "    \n",
    "train_data_loader = DataLoader(train_dataset, batch_size=hyperparams[\"batch_size\"], shuffle=True)\n",
    "test_data_loader = DataLoader(test_dataset, batch_size=hyperparams[\"batch_size\"], shuffle=True)"
   ]
  },
  {
   "cell_type": "code",
   "execution_count": 6,
   "metadata": {},
   "outputs": [],
   "source": [
    "# Helper functions\n",
    "\n",
    "def to_one_hot_encoding(labels, num_classes=10):\n",
    "    one_hot_labels = np.zeros((len(labels), num_classes))\n",
    "    one_hot_labels[np.arange(len(labels)), labels] = 1.0\n",
    "    return one_hot_labels\n",
    "\n",
    "def get_accuracy(data_loader, model):\n",
    "    tp = 0\n",
    "    n = 0\n",
    "    for images, labels in data_loader:\n",
    "        outputs = model.forward(images)\n",
    "\n",
    "        predicted = np.argmax(outputs, axis=1)\n",
    "        \n",
    "        n += len(labels)\n",
    "        tp += (predicted == labels).sum()\n",
    "    return tp / n\n",
    "\n",
    "def relu(x):\n",
    "    return np.maximum(0, x)\n",
    "\n",
    "def drelu(x):\n",
    "    return np.where(x > 0, 1, 0)\n",
    "\n",
    "def softmax(x):\n",
    "    exp_shifted = np.exp(x - np.max(x, axis=-1, keepdims=True))\n",
    "    return exp_shifted / np.sum(exp_shifted, axis=-1, keepdims=True)\n",
    "\n",
    "def cross_entropy_loss(outputs, targets):\n",
    "    outputs = np.clip(outputs, 1e-12, 1. - 1e-12)\n",
    "    return -np.sum(targets * np.log(outputs+1e-9)) / targets.shape[0]"
   ]
  },
  {
   "cell_type": "markdown",
   "metadata": {},
   "source": [
    "Some backpropagation formulas:\n",
    "$$\n",
    "\\frac{\\partial L}{\\partial z_2} = y - \\hat{y}\n",
    "$$\n",
    "\n",
    "$$\n",
    "\\frac{\\partial L}{\\partial z_1} = \\frac{\\partial L}{\\partial z_2} \\times \\frac{\\partial z_2}{\\partial a_1} \\times \\frac{\\partial a_1}{\\partial z_1}, where\\space a_1\\space=\\space relu(z_1)\n",
    "$$"
   ]
  },
  {
   "cell_type": "code",
   "execution_count": 7,
   "metadata": {},
   "outputs": [],
   "source": [
    "class FCNN():\n",
    "    def __init__(self, hidden_size=300):\n",
    "        self.weights1 = np.random.randn(784, hidden_size) * np.sqrt(2.0/784)\n",
    "        self.weights2 = np.random.randn(hidden_size, 10) * np.sqrt(2.0/hidden_size)\n",
    "        self.bias1 = np.zeros((1, hidden_size))\n",
    "        self.bias2 = np.zeros((1, 10))\n",
    "\n",
    "    def forward(self, x):\n",
    "        self.z1 = np.dot(x, self.weights1) + self.bias1\n",
    "        self.a1 = relu(self.z1)\n",
    "        self.z2 = np.dot(self.a1, self.weights2) + self.bias2\n",
    "        self.a2 = softmax(self.z2)\n",
    "        return self.a2\n",
    "    \n",
    "    def backward(self, inputs, outputs, targets, lr=0.1):\n",
    "        dL_dz2 = outputs - to_one_hot_encoding(targets) # (64, 10) = (batch_size, num_classes)\n",
    "        dL_dz2 = dL_dz2 / outputs.shape[0]\n",
    "\n",
    "        dL_dw2 = np.dot(self.a1.T, dL_dz2) # (64, 300).T x (64, 10) = (300, 10)\n",
    "        dL_db2 = np.sum(dL_dz2, axis=0, keepdims=True) # (1, 10)\n",
    "\n",
    "        dL_da1 = np.dot(dL_dz2, self.weights2.T) # (64, 10) x (300, 10).T = (64, 300)\n",
    "        dL_dz1 = dL_da1 * drelu(self.z1) # (64, 300) * (64, 300)\n",
    "\n",
    "        dL_dw1 = np.dot(inputs.T, dL_dz1) # (64, 784).T x (64, 300) = (784, 300)\n",
    "        dL_db1 = np.sum(dL_dz1, axis=0, keepdims=True) # (1, 300)\n",
    "\n",
    "        self.weights1 -= lr * dL_dw1\n",
    "        self.bias1 -= lr * dL_db1\n",
    "        self.weights2 -= lr * dL_dw2\n",
    "        self.bias2 -= lr * dL_db2"
   ]
  },
  {
   "cell_type": "markdown",
   "metadata": {},
   "source": [
    "## 02. Training Loop & Evaluation"
   ]
  },
  {
   "cell_type": "code",
   "execution_count": 10,
   "metadata": {},
   "outputs": [
    {
     "name": "stdout",
     "output_type": "stream",
     "text": [
      "epoch 1/20: loss = 0.349, accuracy = 0.931, 2.027sec\n",
      "epoch 2/20: loss = 0.186, accuracy = 0.959, 2.047sec\n",
      "epoch 3/20: loss = 0.137, accuracy = 0.969, 1.966sec\n",
      "epoch 4/20: loss = 0.110, accuracy = 0.974, 2.090sec\n",
      "epoch 5/20: loss = 0.092, accuracy = 0.977, 2.117sec\n",
      "epoch 6/20: loss = 0.078, accuracy = 0.982, 2.064sec\n",
      "epoch 7/20: loss = 0.068, accuracy = 0.981, 2.099sec\n",
      "epoch 8/20: loss = 0.060, accuracy = 0.987, 2.080sec\n",
      "epoch 9/20: loss = 0.053, accuracy = 0.988, 2.139sec\n",
      "epoch 10/20: loss = 0.047, accuracy = 0.989, 2.291sec\n",
      "epoch 11/20: loss = 0.043, accuracy = 0.992, 2.189sec\n",
      "epoch 12/20: loss = 0.039, accuracy = 0.993, 2.293sec\n",
      "epoch 13/20: loss = 0.035, accuracy = 0.993, 2.108sec\n",
      "epoch 14/20: loss = 0.032, accuracy = 0.994, 2.197sec\n",
      "epoch 15/20: loss = 0.029, accuracy = 0.995, 2.138sec\n",
      "epoch 16/20: loss = 0.026, accuracy = 0.995, 2.099sec\n",
      "epoch 17/20: loss = 0.024, accuracy = 0.996, 2.251sec\n",
      "epoch 18/20: loss = 0.022, accuracy = 0.997, 2.293sec\n",
      "epoch 19/20: loss = 0.020, accuracy = 0.997, 2.368sec\n",
      "epoch 20/20: loss = 0.018, accuracy = 0.998, 2.239sec\n"
     ]
    }
   ],
   "source": [
    "import time\n",
    "\n",
    "model = FCNN(hidden_size=hyperparams[\"hidden_size\"])\n",
    "epochs = hyperparams[\"epochs\"]\n",
    "\n",
    "for epoch in range(epochs):\n",
    "    train_loss = 0\n",
    "    start_time = time.time()\n",
    "    for i, (inputs, targets) in enumerate(train_data_loader):\n",
    "        outputs = model.forward(inputs)\n",
    "\n",
    "        loss = cross_entropy_loss(outputs, to_one_hot_encoding(targets))\n",
    "        train_loss += loss\n",
    "\n",
    "        model.backward(inputs, outputs, targets, lr=hyperparams[\"learning_rate\"])\n",
    "    end_time = time.time()\n",
    "\n",
    "    print(f\"epoch {epoch + 1}/{epochs}: loss = {train_loss / len(train_data_loader):.3f}, accuracy = {get_accuracy(train_data_loader, model):.3f}, {end_time - start_time:.3f}sec\")"
   ]
  },
  {
   "cell_type": "code",
   "execution_count": 11,
   "metadata": {},
   "outputs": [
    {
     "data": {
      "text/plain": [
       "'test accuracy = 0.981'"
      ]
     },
     "execution_count": 11,
     "metadata": {},
     "output_type": "execute_result"
    }
   ],
   "source": [
    "f\"test accuracy = {get_accuracy(test_data_loader, model):.3f}\""
   ]
  }
 ],
 "metadata": {
  "kernelspec": {
   "display_name": "deep-learning",
   "language": "python",
   "name": "python3"
  },
  "language_info": {
   "codemirror_mode": {
    "name": "ipython",
    "version": 3
   },
   "file_extension": ".py",
   "mimetype": "text/x-python",
   "name": "python",
   "nbconvert_exporter": "python",
   "pygments_lexer": "ipython3",
   "version": "3.9.19"
  }
 },
 "nbformat": 4,
 "nbformat_minor": 2
}
