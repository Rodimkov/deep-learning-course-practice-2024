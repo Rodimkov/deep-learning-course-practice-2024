{
  "nbformat": 4,
  "nbformat_minor": 0,
  "metadata": {
    "colab": {
      "provenance": []
    },
    "kernelspec": {
      "name": "python3",
      "display_name": "Python 3"
    },
    "language_info": {
      "name": "python"
    }
  },
  "cells": [
    {
      "cell_type": "markdown",
      "source": [
        "# Лабораторная работа 1: «Метод обратного распространения ошибки»\n",
        "\n",
        "## Цели работы\n",
        "\n",
        "**Цель** — изучить метод обратного распространения ошибки для обучения глубоких нейронных сетей на примере двухслойной полносвязной нейронной сети (один скрытый слой).\n",
        "\n",
        "## Задачи работы\n",
        "\n",
        "Выполнение работы предполагает решение следующих задач:\n",
        "\n",
        "1. Изучение общей схемы работы метода обратного распространения ошибки с помощью стохастического градиентного спуска.\n",
        "2. Вывод математических формул для вычисления градиентов функции ошибки по параметрам нейронной сети и формул коррекции весов.\n",
        "3. Реализация и тестирование метода обратного распространения ошибки для классификации рукописных цифр из набора данных [MNIST](https://www.kaggle.com/datasets/hojjatk/mnist-dataset).\n",
        "\n",
        "\n",
        "Конфигурация нейронной сети:\n",
        "\n",
        "1. Входной слой содержит `w x h` нейронов, что соответствует разрешению одноканального изображения (для изображений в базе MNIST составляет 28x28).\n",
        "2. Выходной слой содержит `k` нейронов, что соответствует количеству классов изображений (для задачи классификации рукописных цифр MNIST – 10 классов).\n",
        "3. Скрытый слой содержит `s` нейронов (параметр).\n",
        "4. Скорость обучения (learning rate), размер пачки данных (batch size), количество эпох являются параметрами метода обучения.\n",
        "5. В качестве функции активации на скрытом слое используется функция ReLU. В качестве функции активации на выходном слое используется функция softmax. Входной слой не содержит функцию активации.\n",
        "6. В качестве функции ошибки используется кросс-энтропия. Функция активации softmax вместе с функцией ошибки кросс-энтропия упрощают вывод формул.\n",
        "7. Набор параметров для демонстрации работы нейронной сети (и выложенные материалы и демонстрации в т/к выполняется на данных параметрах):\n",
        "    - Размер пачки может меняться от 8 до 64 изображений (в зависимости от доступного объема памяти).\n",
        "    - Скорость обучения - 0.1.\n",
        "    - Количество скрытых нейронов `s` - 300.\n",
        "    - Количество эпох – 20.\n",
        "\n",
        "## Требования к результатам выполнения работы\n",
        "\n",
        "1. Требования к структуре и содержимому Jupyter Notebook:\n",
        "\n",
        "   - Загрузить и проверить данные (необходимо обеспечить демонстрацию избранных изображений и меток классов для подтверждения корректности загрузки и совпадения размерностей)\n",
        "   - По окончании каждой эпохи в процессе обучения модели выводится ошибка классификации на тренировочном наборе данных и время выполнения эпохи.\n",
        "   - После обучения выводится ошибка классификации на тестовом наборе данных.\n",
        "\n",
        "2. Для контрольных значений параметров достигнута точность классификации на тестовых данных, сравнимая с точностью, которую выдают стандартные инструменты глубокого обучения (например, библиотеки Keras или PyTorch). Подсказка: Точность будет ~95% с ***неправильной*** инициализации весов, ожидается результат ***лучше***.\n",
        "\n",
        "3. Запуск необходимо выполнить в процессе очной сдачи. Время обучения на контрольном наборе параметров не должно превышать время, выделенное на сдачу работу одним студентом (~7-15 минут).\n",
        "\n",
        "4. Реализация не должна содержать использование tensorflow, keras, pytorch или иных фреймворков глубокого обучения. Допускается использование библиотек, таких как NumPy, Matplotlib и других классических библиотек."
      ],
      "metadata": {
        "id": "SQ9b48fCkxdU"
      }
    },
    {
      "cell_type": "code",
      "source": [
        "!pip install kaggle idx2numpy"
      ],
      "metadata": {
        "colab": {
          "base_uri": "https://localhost:8080/"
        },
        "id": "OD_M2BFr7sK4",
        "outputId": "914c2c2f-603b-43e7-df31-dd96fb515087"
      },
      "execution_count": 1,
      "outputs": [
        {
          "output_type": "stream",
          "name": "stdout",
          "text": [
            "Requirement already satisfied: kaggle in /usr/local/lib/python3.10/dist-packages (1.6.17)\n",
            "Collecting idx2numpy\n",
            "  Downloading idx2numpy-1.2.3.tar.gz (6.8 kB)\n",
            "  Preparing metadata (setup.py) ... \u001b[?25l\u001b[?25hdone\n",
            "Requirement already satisfied: six>=1.10 in /usr/local/lib/python3.10/dist-packages (from kaggle) (1.16.0)\n",
            "Requirement already satisfied: certifi>=2023.7.22 in /usr/local/lib/python3.10/dist-packages (from kaggle) (2024.8.30)\n",
            "Requirement already satisfied: python-dateutil in /usr/local/lib/python3.10/dist-packages (from kaggle) (2.8.2)\n",
            "Requirement already satisfied: requests in /usr/local/lib/python3.10/dist-packages (from kaggle) (2.32.3)\n",
            "Requirement already satisfied: tqdm in /usr/local/lib/python3.10/dist-packages (from kaggle) (4.66.5)\n",
            "Requirement already satisfied: python-slugify in /usr/local/lib/python3.10/dist-packages (from kaggle) (8.0.4)\n",
            "Requirement already satisfied: urllib3 in /usr/local/lib/python3.10/dist-packages (from kaggle) (2.2.3)\n",
            "Requirement already satisfied: bleach in /usr/local/lib/python3.10/dist-packages (from kaggle) (6.1.0)\n",
            "Requirement already satisfied: numpy in /usr/local/lib/python3.10/dist-packages (from idx2numpy) (1.26.4)\n",
            "Requirement already satisfied: webencodings in /usr/local/lib/python3.10/dist-packages (from bleach->kaggle) (0.5.1)\n",
            "Requirement already satisfied: text-unidecode>=1.3 in /usr/local/lib/python3.10/dist-packages (from python-slugify->kaggle) (1.3)\n",
            "Requirement already satisfied: charset-normalizer<4,>=2 in /usr/local/lib/python3.10/dist-packages (from requests->kaggle) (3.4.0)\n",
            "Requirement already satisfied: idna<4,>=2.5 in /usr/local/lib/python3.10/dist-packages (from requests->kaggle) (3.10)\n",
            "Building wheels for collected packages: idx2numpy\n",
            "  Building wheel for idx2numpy (setup.py) ... \u001b[?25l\u001b[?25hdone\n",
            "  Created wheel for idx2numpy: filename=idx2numpy-1.2.3-py3-none-any.whl size=7904 sha256=daa2fd5950c7c9d6dc511bb61f4fbbbef4323f755939f5598dfa47242ff318be\n",
            "  Stored in directory: /root/.cache/pip/wheels/e0/f4/e7/643fc5f932ec2ff92997f43f007660feb23f948aa8486f1107\n",
            "Successfully built idx2numpy\n",
            "Installing collected packages: idx2numpy\n",
            "Successfully installed idx2numpy-1.2.3\n"
          ]
        }
      ]
    },
    {
      "cell_type": "code",
      "source": [
        "!kaggle datasets download -d hojjatk/mnist-dataset && unzip -o -qq mnist-dataset.zip"
      ],
      "metadata": {
        "colab": {
          "base_uri": "https://localhost:8080/"
        },
        "id": "0eP-pYxqmEu1",
        "outputId": "a9a4e88b-d325-4006-f7a3-b6eb05387a98"
      },
      "execution_count": 2,
      "outputs": [
        {
          "output_type": "stream",
          "name": "stdout",
          "text": [
            "Dataset URL: https://www.kaggle.com/datasets/hojjatk/mnist-dataset\n",
            "License(s): copyright-authors\n",
            "Downloading mnist-dataset.zip to /content\n",
            " 77% 17.0M/22.0M [00:00<00:00, 93.0MB/s]\n",
            "100% 22.0M/22.0M [00:00<00:00, 89.9MB/s]\n"
          ]
        }
      ]
    },
    {
      "cell_type": "code",
      "source": [
        "import idx2numpy\n",
        "import numpy as np\n",
        "import matplotlib.pyplot as plt\n",
        "from tqdm import tqdm\n",
        "%matplotlib inline"
      ],
      "metadata": {
        "id": "-GtYLqhPsV90"
      },
      "execution_count": 3,
      "outputs": []
    },
    {
      "cell_type": "code",
      "source": [
        "train_images, train_labels, test_images, test_labels = (\n",
        "    idx2numpy.convert_from_file(file)\n",
        "    for file in [\n",
        "        \"train-images.idx3-ubyte\",\n",
        "        \"train-labels.idx1-ubyte\",\n",
        "        \"t10k-images.idx3-ubyte\",\n",
        "        \"t10k-labels.idx1-ubyte\",\n",
        "    ]\n",
        ")\n",
        "\n",
        "train_images = train_images / 255.\n",
        "test_images  = test_images / 255.\n",
        "\n",
        "print(f\"Тренировочные данные:\\n{train_images.shape=}; {train_labels.shape=}\")\n",
        "print(f\"Тестовые данные:\\n{test_images.shape=}; {test_labels.shape=}\")"
      ],
      "metadata": {
        "colab": {
          "base_uri": "https://localhost:8080/"
        },
        "id": "3xz3j4OGvH27",
        "outputId": "1e95cd31-8c99-4fa9-ee25-94ea0df931ad"
      },
      "execution_count": 4,
      "outputs": [
        {
          "output_type": "stream",
          "name": "stdout",
          "text": [
            "Тренировочные данные:\n",
            "train_images.shape=(60000, 28, 28); train_labels.shape=(60000,)\n",
            "Тестовые данные:\n",
            "test_images.shape=(10000, 28, 28); test_labels.shape=(10000,)\n"
          ]
        }
      ]
    },
    {
      "cell_type": "code",
      "source": [
        "def plot_10_samples(samples, labels):\n",
        "    fig = plt.figure(figsize=(10, 5))\n",
        "\n",
        "    for idx, (sample, label) in enumerate(zip(samples, labels)):\n",
        "        plt.subplot(2, 5, idx + 1)\n",
        "        plt.imshow(sample, cmap='gray')\n",
        "        plt.axis('off')\n",
        "        plt.title(label)\n",
        "\n",
        "random_indexes = np.random.randint(0, train_images.shape[0], 10)\n",
        "plot_10_samples(train_images[random_indexes], train_labels[random_indexes])"
      ],
      "metadata": {
        "colab": {
          "base_uri": "https://localhost:8080/",
          "height": 402
        },
        "id": "ROWmZX_pxvbJ",
        "outputId": "00221449-7a15-4fc6-db68-4617acaad817"
      },
      "execution_count": 5,
      "outputs": [
        {
          "output_type": "display_data",
          "data": {
            "text/plain": [
              "<Figure size 1000x500 with 10 Axes>"
            ],
            "image/png": "[encoded data removed]"
          },
          "metadata": {}
        }
      ]
    },
    {
      "cell_type": "code",
      "source": [
        "def ReLU(x):\n",
        "    return np.maximum(0, x)\n",
        "\n",
        "def dReLU(x):\n",
        "    return np.where(x > 0, 1, 0)\n",
        "\n",
        "def softmax(x):\n",
        "    exp_x = np.exp(x - np.max(x, axis=1, keepdims=True))\n",
        "    return exp_x / np.sum(exp_x, axis=1, keepdims=True)\n",
        "\n",
        "def sparse_cross_entropy(y_true, y_pred):\n",
        "    m = y_true.shape[0]\n",
        "    return -np.mean(np.log(y_pred[np.arange(m), y_true]))\n",
        "\n",
        "def cross_entropy(y_true, y_pred):\n",
        "    return -np.mean(np.sum(y_true * np.log(y_pred + 1e-10), axis=1))\n",
        "\n",
        "def accuracy(y_true, y_pred):\n",
        "    return np.mean(y_pred == y_true)\n",
        "\n",
        "def error(y_true, y_pred):\n",
        "    return 1 - accuracy(y_true, y_pred)"
      ],
      "metadata": {
        "id": "SYzSeLxA4Qjs"
      },
      "execution_count": 6,
      "outputs": []
    },
    {
      "cell_type": "code",
      "source": [
        "def data_generator(x, y, batch_size, verbose=False, description=\"Batches processing\"):\n",
        "    total_samples = x.shape[0]\n",
        "    total_batches = (total_samples - 1) // batch_size + 1\n",
        "\n",
        "    permutation = np.random.permutation(total_samples)\n",
        "    x_shuffle = x[permutation]\n",
        "    y_shuffle = y[permutation]\n",
        "\n",
        "    index_changes = np.arange(0, total_samples, batch_size)\n",
        "    for i in (\n",
        "        index_changes\n",
        "        if not verbose\n",
        "        else tqdm(index_changes, total=total_batches, desc=description)\n",
        "    ):\n",
        "        yield x_shuffle[i:i+batch_size], y_shuffle[i:i+batch_size]"
      ],
      "metadata": {
        "id": "Td1LNZkVH3AT"
      },
      "execution_count": 7,
      "outputs": []
    },
    {
      "cell_type": "code",
      "source": [
        "class NeuralNetwork:\n",
        "    def __init__(\n",
        "        self,\n",
        "        input_size,\n",
        "        hidden_size,\n",
        "        output_size,\n",
        "        learning_rate,\n",
        "    ) -> None:\n",
        "        self.input_size = input_size\n",
        "        self.hidden_size = hidden_size\n",
        "        self.output_size = output_size\n",
        "        self.learning_rate = learning_rate\n",
        "\n",
        "        self.w1 = np.random.normal(\n",
        "            loc=0,\n",
        "            scale=1/input_size,\n",
        "            size=(input_size, hidden_size)\n",
        "        )\n",
        "        self.b1 = np.zeros((1, hidden_size))\n",
        "\n",
        "        self.w2 = np.random.normal(\n",
        "            loc=0,\n",
        "            scale=2/input_size,\n",
        "            size=(hidden_size, output_size)\n",
        "        )\n",
        "        self.b2 = np.zeros((1, output_size))\n",
        "\n",
        "    def forward(self, x):\n",
        "        self.z1 = np.dot(x, self.w1) + self.b1\n",
        "        self.a1 = ReLU(self.z1)\n",
        "\n",
        "        self.z2 = np.dot(self.a1, self.w2) + self.b2\n",
        "        self.a2 = softmax(self.z2)\n",
        "\n",
        "        return self.a2\n",
        "\n",
        "    def backward(self, x, y):\n",
        "        m = x.shape[0]\n",
        "\n",
        "        dz2 = self.a2\n",
        "        dz2[np.arange(m), y] -= 1\n",
        "        dz2 /= m\n",
        "\n",
        "        dw2 = np.dot(self.a1.T, dz2)\n",
        "        db2 = np.sum(dz2, axis=0, keepdims=True)\n",
        "\n",
        "        dz1 = np.dot(dz2, self.w2.T) * dReLU(self.z1)\n",
        "\n",
        "        dw1 = np.dot(x.T, dz1)\n",
        "        db1 = np.sum(dz1, axis=0, keepdims=True)\n",
        "\n",
        "        self.w1 -= self.learning_rate * dw1\n",
        "        self.b1 -= self.learning_rate * db1\n",
        "        self.w2 -= self.learning_rate * dw2\n",
        "        self.b2 -= self.learning_rate * db2\n",
        "\n",
        "    def predict_proba(self, x):\n",
        "        return self.forward(x)\n",
        "\n",
        "    def predict(self, x):\n",
        "        return np.argmax(self.predict_proba(x), axis=1)\n",
        "\n",
        "    def train(self, x_train, y_train, epochs, batch_size, verbose_batch_processing=False):\n",
        "        for epoch in range(epochs):\n",
        "            for x, y in data_generator(\n",
        "                x_train, y_train, batch_size, verbose=verbose_batch_processing,\n",
        "                description=f\"Epoch {epoch + 1} - batches processing\"\n",
        "            ):\n",
        "                self.forward(x)\n",
        "                self.backward(x, y)\n",
        "\n",
        "            y_pred = self.predict_proba(x_train)\n",
        "\n",
        "            train_metrics = {\n",
        "                \"cross_entropy_loss\": sparse_cross_entropy(y_train, y_pred),\n",
        "                \"error\": error(y_train, np.argmax(y_pred, axis=1))\n",
        "            }\n",
        "\n",
        "            train_info = ', '.join([\n",
        "                f\"{key}: {value:.4f}\"\n",
        "                for key, value in train_metrics.items()\n",
        "            ])\n",
        "            if not verbose_batch_processing:\n",
        "                print(f\"Epoch {epoch + 1}: {train_info}\")\n",
        "            else:\n",
        "                print(train_info, end='\\n'*2)"
      ],
      "metadata": {
        "id": "4aTbe8Yh7kAN"
      },
      "execution_count": 8,
      "outputs": []
    },
    {
      "cell_type": "code",
      "source": [
        "input_size = 28 * 28\n",
        "hidden_size = 300\n",
        "output_size = 10\n",
        "\n",
        "learning_rate = 0.1\n",
        "batch_size = 64\n",
        "epochs = 20\n",
        "\n",
        "perceptron = NeuralNetwork(\n",
        "    input_size=input_size,\n",
        "    hidden_size=hidden_size,\n",
        "    output_size=output_size,\n",
        "    learning_rate=learning_rate,\n",
        ")\n",
        "\n",
        "perceptron.train(\n",
        "    train_images.reshape(-1, input_size),\n",
        "    train_labels,\n",
        "    epochs=epochs,\n",
        "    batch_size=batch_size,\n",
        "    verbose_batch_processing=True,\n",
        ")\n",
        "\n",
        "test_error = error(\n",
        "    y_true=test_labels,\n",
        "    y_pred=perceptron.predict(test_images.reshape(-1, input_size)),\n",
        ")\n",
        "print(f\"Test data: {test_error=:.4f}\")"
      ],
      "metadata": {
        "colab": {
          "base_uri": "https://localhost:8080/"
        },
        "id": "LmNiVvWRP5yJ",
        "outputId": "b916e8ab-f4b7-4d59-ab79-772f2f585d61"
      },
      "execution_count": 9,
      "outputs": [
        {
          "output_type": "stream",
          "name": "stderr",
          "text": [
            "Epoch 1 - batches processing: 100%|██████████| 938/938 [00:21<00:00, 44.30it/s]\n"
          ]
        },
        {
          "output_type": "stream",
          "name": "stdout",
          "text": [
            "cross_entropy_loss: 0.2933, error: 0.0836\n",
            "\n"
          ]
        },
        {
          "output_type": "stream",
          "name": "stderr",
          "text": [
            "Epoch 2 - batches processing: 100%|██████████| 938/938 [00:13<00:00, 70.84it/s] \n"
          ]
        },
        {
          "output_type": "stream",
          "name": "stdout",
          "text": [
            "cross_entropy_loss: 0.2160, error: 0.0623\n",
            "\n"
          ]
        },
        {
          "output_type": "stream",
          "name": "stderr",
          "text": [
            "Epoch 3 - batches processing: 100%|██████████| 938/938 [00:08<00:00, 107.15it/s]\n"
          ]
        },
        {
          "output_type": "stream",
          "name": "stdout",
          "text": [
            "cross_entropy_loss: 0.1617, error: 0.0460\n",
            "\n"
          ]
        },
        {
          "output_type": "stream",
          "name": "stderr",
          "text": [
            "Epoch 4 - batches processing: 100%|██████████| 938/938 [00:06<00:00, 145.18it/s]\n"
          ]
        },
        {
          "output_type": "stream",
          "name": "stdout",
          "text": [
            "cross_entropy_loss: 0.1329, error: 0.0374\n",
            "\n"
          ]
        },
        {
          "output_type": "stream",
          "name": "stderr",
          "text": [
            "Epoch 5 - batches processing: 100%|██████████| 938/938 [00:03<00:00, 241.64it/s]\n"
          ]
        },
        {
          "output_type": "stream",
          "name": "stdout",
          "text": [
            "cross_entropy_loss: 0.1049, error: 0.0295\n",
            "\n"
          ]
        },
        {
          "output_type": "stream",
          "name": "stderr",
          "text": [
            "Epoch 6 - batches processing: 100%|██████████| 938/938 [00:05<00:00, 165.43it/s]\n"
          ]
        },
        {
          "output_type": "stream",
          "name": "stdout",
          "text": [
            "cross_entropy_loss: 0.0906, error: 0.0250\n",
            "\n"
          ]
        },
        {
          "output_type": "stream",
          "name": "stderr",
          "text": [
            "Epoch 7 - batches processing: 100%|██████████| 938/938 [00:03<00:00, 246.13it/s]\n"
          ]
        },
        {
          "output_type": "stream",
          "name": "stdout",
          "text": [
            "cross_entropy_loss: 0.0768, error: 0.0209\n",
            "\n"
          ]
        },
        {
          "output_type": "stream",
          "name": "stderr",
          "text": [
            "Epoch 8 - batches processing: 100%|██████████| 938/938 [00:04<00:00, 192.05it/s]\n"
          ]
        },
        {
          "output_type": "stream",
          "name": "stdout",
          "text": [
            "cross_entropy_loss: 0.0683, error: 0.0189\n",
            "\n"
          ]
        },
        {
          "output_type": "stream",
          "name": "stderr",
          "text": [
            "Epoch 9 - batches processing: 100%|██████████| 938/938 [00:03<00:00, 245.67it/s]\n"
          ]
        },
        {
          "output_type": "stream",
          "name": "stdout",
          "text": [
            "cross_entropy_loss: 0.0592, error: 0.0160\n",
            "\n"
          ]
        },
        {
          "output_type": "stream",
          "name": "stderr",
          "text": [
            "Epoch 10 - batches processing: 100%|██████████| 938/938 [00:03<00:00, 247.28it/s]\n"
          ]
        },
        {
          "output_type": "stream",
          "name": "stdout",
          "text": [
            "cross_entropy_loss: 0.0553, error: 0.0152\n",
            "\n"
          ]
        },
        {
          "output_type": "stream",
          "name": "stderr",
          "text": [
            "Epoch 11 - batches processing: 100%|██████████| 938/938 [00:05<00:00, 174.10it/s]\n"
          ]
        },
        {
          "output_type": "stream",
          "name": "stdout",
          "text": [
            "cross_entropy_loss: 0.0494, error: 0.0131\n",
            "\n"
          ]
        },
        {
          "output_type": "stream",
          "name": "stderr",
          "text": [
            "Epoch 12 - batches processing: 100%|██████████| 938/938 [00:03<00:00, 246.66it/s]\n"
          ]
        },
        {
          "output_type": "stream",
          "name": "stdout",
          "text": [
            "cross_entropy_loss: 0.0430, error: 0.0110\n",
            "\n"
          ]
        },
        {
          "output_type": "stream",
          "name": "stderr",
          "text": [
            "Epoch 13 - batches processing: 100%|██████████| 938/938 [00:05<00:00, 161.65it/s]\n"
          ]
        },
        {
          "output_type": "stream",
          "name": "stdout",
          "text": [
            "cross_entropy_loss: 0.0396, error: 0.0104\n",
            "\n"
          ]
        },
        {
          "output_type": "stream",
          "name": "stderr",
          "text": [
            "Epoch 14 - batches processing: 100%|██████████| 938/938 [00:03<00:00, 238.69it/s]\n"
          ]
        },
        {
          "output_type": "stream",
          "name": "stdout",
          "text": [
            "cross_entropy_loss: 0.0348, error: 0.0081\n",
            "\n"
          ]
        },
        {
          "output_type": "stream",
          "name": "stderr",
          "text": [
            "Epoch 15 - batches processing: 100%|██████████| 938/938 [00:05<00:00, 163.78it/s]\n"
          ]
        },
        {
          "output_type": "stream",
          "name": "stdout",
          "text": [
            "cross_entropy_loss: 0.0343, error: 0.0084\n",
            "\n"
          ]
        },
        {
          "output_type": "stream",
          "name": "stderr",
          "text": [
            "Epoch 16 - batches processing: 100%|██████████| 938/938 [00:04<00:00, 203.42it/s]\n"
          ]
        },
        {
          "output_type": "stream",
          "name": "stdout",
          "text": [
            "cross_entropy_loss: 0.0326, error: 0.0081\n",
            "\n"
          ]
        },
        {
          "output_type": "stream",
          "name": "stderr",
          "text": [
            "Epoch 17 - batches processing: 100%|██████████| 938/938 [00:04<00:00, 188.84it/s]\n"
          ]
        },
        {
          "output_type": "stream",
          "name": "stdout",
          "text": [
            "cross_entropy_loss: 0.0266, error: 0.0054\n",
            "\n"
          ]
        },
        {
          "output_type": "stream",
          "name": "stderr",
          "text": [
            "Epoch 18 - batches processing: 100%|██████████| 938/938 [00:03<00:00, 245.93it/s]\n"
          ]
        },
        {
          "output_type": "stream",
          "name": "stdout",
          "text": [
            "cross_entropy_loss: 0.0253, error: 0.0054\n",
            "\n"
          ]
        },
        {
          "output_type": "stream",
          "name": "stderr",
          "text": [
            "Epoch 19 - batches processing: 100%|██████████| 938/938 [00:03<00:00, 242.45it/s]\n"
          ]
        },
        {
          "output_type": "stream",
          "name": "stdout",
          "text": [
            "cross_entropy_loss: 0.0228, error: 0.0045\n",
            "\n"
          ]
        },
        {
          "output_type": "stream",
          "name": "stderr",
          "text": [
            "Epoch 20 - batches processing: 100%|██████████| 938/938 [00:05<00:00, 179.07it/s]\n"
          ]
        },
        {
          "output_type": "stream",
          "name": "stdout",
          "text": [
            "cross_entropy_loss: 0.0208, error: 0.0039\n",
            "\n",
            "Test data: test_error=0.0192\n"
          ]
        }
      ]
    },
    {
      "cell_type": "code",
      "source": [],
      "metadata": {
        "id": "PUEyCN9mARXZ"
      },
      "execution_count": 9,
      "outputs": []
    }
  ]
}