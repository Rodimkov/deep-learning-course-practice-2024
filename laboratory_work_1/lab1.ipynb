{
  "cells": [
    {
      "cell_type": "code",
      "execution_count": 1,
      "metadata": {
        "id": "9VOIy5hFqVse"
      },
      "outputs": [],
      "source": [
        "from sklearn.datasets import fetch_openml\n",
        "import numpy as np\n",
        "from matplotlib import pyplot as plt\n",
        "from sklearn.model_selection import train_test_split\n",
        "import time\n",
        "\n",
        "from numpy import typing as npt\n"
      ]
    },
    {
      "cell_type": "code",
      "source": [
        "def load_images(path_to_images):\n",
        "    images = np.fromfile(path_to_images, dtype=np.uint8, count= -1)[16:]\n",
        "    return images\n",
        "\n",
        "def reshape_images(images):\n",
        "    return images.reshape(-1, 28, 28)\n",
        "\n",
        "def load_labels(path_to_labels):\n",
        "    labels = np.fromfile(path_to_labels, dtype=np.uint8, count=-1)[8:]\n",
        "    return labels"
      ],
      "metadata": {
        "id": "RQwDu9bmiuQM"
      },
      "execution_count": 2,
      "outputs": []
    },
    {
      "cell_type": "code",
      "execution_count": 15,
      "metadata": {
        "id": "s6t0IVOdqVsg"
      },
      "outputs": [],
      "source": [
        "training_images_filepath = \"/content/train-images.idx3-ubyte\"\n",
        "training_labels_filepath = \"/content/train-labels.idx1-ubyte\"\n",
        "\n",
        "test_images_filepath = \"/content/t10k-images.idx3-ubyte\"\n",
        "test_labels_filepath = \"/content/t10k-labels.idx1-ubyte\"\n",
        "\n",
        "x_train = load_images(training_images_filepath)\n",
        "x_test = load_images(test_images_filepath)\n",
        "\n",
        "y_train = load_labels(training_labels_filepath)\n",
        "y_test = load_labels(test_labels_filepath)\n",
        "\n",
        "x_train = reshape_images(x_train)\n",
        "x_test = reshape_images(x_test)"
      ]
    },
    {
      "cell_type": "code",
      "source": [
        "y_test = np.eye(10)[y_test]\n",
        "y_train = np.eye(10)[y_train]"
      ],
      "metadata": {
        "id": "lLCg9rddkAqy"
      },
      "execution_count": 16,
      "outputs": []
    },
    {
      "cell_type": "code",
      "source": [
        "item_num = 1090\n",
        "\n",
        "\n",
        "plt.imshow(x_train[item_num].reshape((28,28)), cmap='gray')\n",
        "plt.title(f\"{np.where(y_train[item_num] == 1)[0][0]}\")\n",
        "plt.show()"
      ],
      "metadata": {
        "colab": {
          "base_uri": "https://localhost:8080/",
          "height": 452
        },
        "id": "vGwoi3Cgj3oK",
        "outputId": "b0e339ee-c32f-471f-8ecc-2905d57954b5"
      },
      "execution_count": 17,
      "outputs": [
        {
          "output_type": "display_data",
          "data": {
            "text/plain": [
              "<Figure size 640x480 with 1 Axes>"
            ],
            "image/png": "[encoded data removed]"
          },
          "metadata": {}
        }
      ]
    },
    {
      "cell_type": "code",
      "source": [
        "x_train = x_train.reshape(-1, 784)\n",
        "x_test = x_test.reshape(-1, 784)"
      ],
      "metadata": {
        "id": "2SRwsglMiZWX"
      },
      "execution_count": 18,
      "outputs": []
    },
    {
      "cell_type": "code",
      "source": [
        "x_train = x_train / 255\n",
        "x_test = x_test / 255"
      ],
      "metadata": {
        "id": "A2jb1OypicgU"
      },
      "execution_count": 19,
      "outputs": []
    },
    {
      "cell_type": "code",
      "source": [
        "y_train.shape"
      ],
      "metadata": {
        "colab": {
          "base_uri": "https://localhost:8080/"
        },
        "id": "3yodRfbgkGuG",
        "outputId": "70698e13-9360-454e-c6d6-6bb539b8b2ea"
      },
      "execution_count": 24,
      "outputs": [
        {
          "output_type": "execute_result",
          "data": {
            "text/plain": [
              "(60000, 10)"
            ]
          },
          "metadata": {},
          "execution_count": 24
        }
      ]
    },
    {
      "cell_type": "code",
      "execution_count": 20,
      "metadata": {
        "id": "zLqRO4Q3qVsk"
      },
      "outputs": [],
      "source": [
        "class DeepNeuralNetwork():\n",
        "    def __init__(\n",
        "            self,\n",
        "            sizes: list[int],\n",
        "            epochs: int=10,\n",
        "            batch_size:int=64,\n",
        "            l_rate: float=0.01,\n",
        "        ):\n",
        "        self.sizes = sizes\n",
        "        self.epochs = epochs\n",
        "        self.batch_size = batch_size\n",
        "        self.l_rate = l_rate\n",
        "\n",
        "        self.params = self.initialization()\n",
        "\n",
        "    def ReLU(\n",
        "            self,\n",
        "            x: npt.NDArray[np.float32],\n",
        "            derivative: bool=False\n",
        "    ) -> np.ndarray:\n",
        "\n",
        "        if derivative:\n",
        "            return x > 0\n",
        "        return np.maximum(x, 0)\n",
        "\n",
        "    def softmax(\n",
        "            self,\n",
        "            x: npt.NDArray[np.float32],\n",
        "            axis: int=-1,\n",
        "    ) -> npt.NDArray[np.float32]:\n",
        "\n",
        "        e_x = np.exp(x - np.max(x))\n",
        "        return e_x / e_x.sum(axis=axis, keepdims=True)\n",
        "\n",
        "    def initialization(self) -> dict[str, npt.NDArray[np.float32]]:\n",
        "\n",
        "        input_layer=self.sizes[0]\n",
        "        hidden_1=self.sizes[1]\n",
        "        output_layer=self.sizes[2]\n",
        "\n",
        "        params = {\n",
        "            'W1':np.random.randn(input_layer, hidden_1) * np.sqrt(1. / hidden_1),\n",
        "            'b1': np.random.randn(1, hidden_1) * np.sqrt(1. / hidden_1),\n",
        "\n",
        "            'W2':np.random.randn(hidden_1, output_layer) * np.sqrt(1. / output_layer),\n",
        "            'b2': np.random.randn(1, output_layer) * np.sqrt(1. / hidden_1),\n",
        "        }\n",
        "\n",
        "        return params\n",
        "\n",
        "    def forward_pass(\n",
        "            self,\n",
        "            x_train: npt.NDArray[np.float32],\n",
        "    ) -> npt.NDArray[np.float32]:\n",
        "\n",
        "        self.params['A0'] = x_train\n",
        "\n",
        "        self.params['Z1'] = self.params['A0'] @ self.params[\"W1\"]  + self.params['b1']\n",
        "        self.params['A1'] = self.ReLU(self.params['Z1'])\n",
        "\n",
        "        self.params['Z2'] = self.params['A1'] @ self.params[\"W2\"]  + self.params['b2']\n",
        "        self.params['A2'] = self.softmax(self.params['Z2'])\n",
        "\n",
        "        return self.params['A2']\n",
        "\n",
        "    def backward_pass(\n",
        "            self,\n",
        "            y_train: npt.NDArray[np.float32],\n",
        "            output: npt.NDArray[np.float32],\n",
        "    ) -> dict[str, npt.NDArray[np.float32]]:\n",
        "\n",
        "        change_w = {}\n",
        "\n",
        "        dZ2 = (output - y_train)\n",
        "\n",
        "        change_w['W2'] = (self.params['A1'].T) @ dZ2  * 1 / y_train.shape[0]\n",
        "        change_w['b2'] =  np.sum(dZ2) * 1 / y_train.shape[0]\n",
        "\n",
        "        dZ1 = 1 / y_train.shape[0] * dZ2 @ self.params['W2'].T * self.ReLU(self.params['Z1'], derivative=True)\n",
        "\n",
        "        change_w['W1'] = self.params['A0'].T @ (dZ1)\n",
        "        change_w['b1'] =  np.sum(dZ1)\n",
        "\n",
        "        return change_w\n",
        "\n",
        "    def update_params(self, change_w: dict[str, npt.NDArray[np.float32]]) -> None:\n",
        "\n",
        "        self.params[\"W1\"] -= self.l_rate * change_w['W1']\n",
        "        self.params[\"W2\"] -= self.l_rate * change_w['W2']\n",
        "        self.params[\"b1\"] -= self.l_rate * change_w['b1']\n",
        "        self.params[\"b2\"] -= self.l_rate * change_w['b2']\n",
        "\n",
        "    def get_accuracy(\n",
        "            self,\n",
        "            predictions: npt.NDArray[np.float32],\n",
        "            Y: npt.NDArray[np.float32]\n",
        "    ) -> float:\n",
        "\n",
        "        return np.sum(predictions == Y) / Y.size\n",
        "\n",
        "    def train(\n",
        "            self,\n",
        "            x_train: npt.NDArray[np.float32],\n",
        "            y_train: npt.NDArray[np.float32],\n",
        "            x_val: npt.NDArray[np.float32],\n",
        "            y_val: npt.NDArray[np.float32],\n",
        "    ) -> None:\n",
        "\n",
        "        start_time = time.time()\n",
        "        num_batch_per_ephoc = x_train.shape[0] // self.batch_size\n",
        "\n",
        "        if num_batch_per_ephoc != x_train.shape[0] / self.batch_size:\n",
        "            num_batch_per_ephoc += 1\n",
        "\n",
        "        for iteration in range(self.epochs):\n",
        "            output_accum = []\n",
        "            for batch_number in range(num_batch_per_ephoc):\n",
        "\n",
        "                x_curr = x_train[self.batch_size * batch_number : self.batch_size * (batch_number+1)]\n",
        "                y_curr = y_train[self.batch_size * batch_number : self.batch_size * (batch_number+1)]\n",
        "\n",
        "                output = self.forward_pass(x_curr)\n",
        "                output_accum.extend(np.argmax(output, axis= 1))\n",
        "\n",
        "                changes = self.backward_pass(y_curr, output)\n",
        "\n",
        "                self.update_params(changes)\n",
        "\n",
        "            accuracy = self.get_accuracy(np.array(output_accum), np.argmax(y_train, axis= 1))\n",
        "\n",
        "            print(f'Epoch: {iteration+1}, Time Spent: {time.time() - start_time:.2f}s, Train accuracy: {accuracy:.3f}')\n",
        "\n",
        "        preds_val = self.forward_pass(x_val)\n",
        "\n",
        "        print(f\"\\nTest accuracy: {self.get_accuracy(np.argmax(preds_val , axis= 1), np.argmax(y_val, axis= 1)):.3f}\")"
      ]
    },
    {
      "cell_type": "code",
      "execution_count": 26,
      "metadata": {
        "colab": {
          "base_uri": "https://localhost:8080/"
        },
        "id": "L72XtcX4qVsl",
        "outputId": "4c80222f-bfc7-4860-9917-98a7eca2e05a"
      },
      "outputs": [
        {
          "output_type": "stream",
          "name": "stdout",
          "text": [
            "Epoch: 1, Time Spent: 5.56s, Train accuracy: 0.927\n",
            "Epoch: 2, Time Spent: 9.52s, Train accuracy: 0.967\n",
            "Epoch: 3, Time Spent: 12.64s, Train accuracy: 0.976\n",
            "Epoch: 4, Time Spent: 15.92s, Train accuracy: 0.982\n",
            "Epoch: 5, Time Spent: 21.26s, Train accuracy: 0.986\n",
            "Epoch: 6, Time Spent: 24.34s, Train accuracy: 0.989\n",
            "Epoch: 7, Time Spent: 27.47s, Train accuracy: 0.991\n",
            "Epoch: 8, Time Spent: 31.40s, Train accuracy: 0.993\n",
            "Epoch: 9, Time Spent: 36.04s, Train accuracy: 0.995\n",
            "Epoch: 10, Time Spent: 39.18s, Train accuracy: 0.996\n",
            "Epoch: 11, Time Spent: 42.30s, Train accuracy: 0.997\n",
            "Epoch: 12, Time Spent: 47.09s, Train accuracy: 0.997\n",
            "Epoch: 13, Time Spent: 50.72s, Train accuracy: 0.998\n",
            "Epoch: 14, Time Spent: 53.90s, Train accuracy: 0.999\n",
            "Epoch: 15, Time Spent: 57.01s, Train accuracy: 0.999\n",
            "Epoch: 16, Time Spent: 62.35s, Train accuracy: 0.999\n",
            "Epoch: 17, Time Spent: 65.44s, Train accuracy: 0.999\n",
            "Epoch: 18, Time Spent: 68.56s, Train accuracy: 0.999\n",
            "Epoch: 19, Time Spent: 73.70s, Train accuracy: 0.999\n",
            "Epoch: 20, Time Spent: 77.90s, Train accuracy: 1.000\n",
            "\n",
            "Test accuracy: 0.979\n"
          ]
        }
      ],
      "source": [
        "dnn = DeepNeuralNetwork(sizes=[784, 300, 10], epochs=20, batch_size=64, l_rate=0.1)\n",
        "dnn.train(x_train, y_train, x_test, y_test)"
      ]
    },
    {
      "cell_type": "code",
      "execution_count": null,
      "metadata": {
        "id": "zyq6SNn1qVsn"
      },
      "outputs": [],
      "source": []
    }
  ],
  "metadata": {
    "kernelspec": {
      "display_name": "Python 3",
      "language": "python",
      "name": "python3"
    },
    "language_info": {
      "codemirror_mode": {
        "name": "ipython",
        "version": 3
      },
      "file_extension": ".py",
      "mimetype": "text/x-python",
      "name": "python",
      "nbconvert_exporter": "python",
      "pygments_lexer": "ipython3",
      "version": "3.10.8"
    },
    "colab": {
      "provenance": []
    }
  },
  "nbformat": 4,
  "nbformat_minor": 0
}