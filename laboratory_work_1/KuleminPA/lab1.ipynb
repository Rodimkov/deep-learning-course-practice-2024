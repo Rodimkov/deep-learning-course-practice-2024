{
 "cells": [
  {
   "cell_type": "code",
   "execution_count": 22,
   "id": "cc83107b-61e6-40df-b4ff-d0f07601d2b5",
   "metadata": {},
   "outputs": [],
   "source": [
    "import numpy as np\n",
    "import matplotlib.pyplot as plt\n",
    "import time\n",
    "import idx2numpy"
   ]
  },
  {
   "cell_type": "code",
   "execution_count": 23,
   "id": "b393bc1d-6413-4aeb-8ed7-f1f4b4a95cc3",
   "metadata": {},
   "outputs": [
    {
     "name": "stdout",
     "output_type": "stream",
     "text": [
      "Размер тренировочных данных (изображения, метки): (60000, 28, 28); (60000,)\n",
      "Размер тестовых данных (изображения, метки): (10000, 28, 28); (10000,)\n"
     ]
    }
   ],
   "source": [
    "# Загрузка данных\n",
    "X_train = idx2numpy.convert_from_file('mnist_data/train-images.idx3-ubyte')\n",
    "X_test = idx2numpy.convert_from_file('mnist_data/t10k-images.idx3-ubyte')\n",
    "y_train = idx2numpy.convert_from_file('mnist_data/train-labels.idx1-ubyte')\n",
    "y_test = idx2numpy.convert_from_file('mnist_data/t10k-labels.idx1-ubyte')\n",
    "print(f\"Размер тренировочных данных (изображения, метки): {X_train.shape}; {y_train.shape}\")\n",
    "print(f\"Размер тестовых данных (изображения, метки): {X_test.shape}; {y_test.shape}\")"
   ]
  },
  {
   "cell_type": "code",
   "execution_count": 24,
   "id": "576451c9-2e15-4a7c-96b6-76dc591a881b",
   "metadata": {},
   "outputs": [
    {
     "data": {
      "image/png": "[encoded data removed]",
      "text/plain": [
       "<Figure size 1200x500 with 10 Axes>"
      ]
     },
     "metadata": {},
     "output_type": "display_data"
    }
   ],
   "source": [
    "fig, axes = plt.subplots(1, 10, figsize=(12, 5))\n",
    "for ax, image, label in zip(axes, X_train, y_train):\n",
    "    ax.set_title(label)\n",
    "    ax.imshow(image, cmap='gray')\n",
    "    ax.axis(\"off\")\n",
    "plt.tight_layout()\n",
    "plt.show()"
   ]
  },
  {
   "cell_type": "code",
   "execution_count": 30,
   "id": "3fcf9023-218b-476f-bf7f-5e470fef0481",
   "metadata": {},
   "outputs": [
    {
     "name": "stdout",
     "output_type": "stream",
     "text": [
      "Epoch 1/20, Loss: 0.0576, Time: 1.7416930198669434 sec\n",
      "Epoch 2/20, Loss: 0.0322, Time: 1.5641489028930664 sec\n",
      "Epoch 3/20, Loss: 0.0334, Time: 1.5776524543762207 sec\n",
      "Epoch 4/20, Loss: 0.0359, Time: 1.5580260753631592 sec\n",
      "Epoch 5/20, Loss: 0.0323, Time: 1.5565612316131592 sec\n",
      "Epoch 6/20, Loss: 0.0310, Time: 1.5556304454803467 sec\n",
      "Epoch 7/20, Loss: 0.0258, Time: 1.7427217960357666 sec\n",
      "Epoch 8/20, Loss: 0.0265, Time: 1.5697731971740723 sec\n",
      "Epoch 9/20, Loss: 0.0220, Time: 1.5875236988067627 sec\n",
      "Epoch 10/20, Loss: 0.0167, Time: 1.5680396556854248 sec\n",
      "Epoch 11/20, Loss: 0.0111, Time: 1.573746919631958 sec\n",
      "Epoch 12/20, Loss: 0.0079, Time: 1.999100685119629 sec\n",
      "Epoch 13/20, Loss: 0.0062, Time: 1.5609838962554932 sec\n",
      "Epoch 14/20, Loss: 0.0052, Time: 1.5812318325042725 sec\n",
      "Epoch 15/20, Loss: 0.0048, Time: 1.8787648677825928 sec\n",
      "Epoch 16/20, Loss: 0.0042, Time: 1.7238893508911133 sec\n",
      "Epoch 17/20, Loss: 0.0036, Time: 1.6553425788879395 sec\n",
      "Epoch 18/20, Loss: 0.0031, Time: 2.4731383323669434 sec\n",
      "Epoch 19/20, Loss: 0.0026, Time: 1.5861139297485352 sec\n",
      "Epoch 20/20, Loss: 0.0023, Time: 1.605860710144043 sec\n"
     ]
    }
   ],
   "source": [
    "class SimpleNeuralNetwork:\n",
    "    def __init__(self, w, h, k, s, learning_rate=0.1):\n",
    "        self.w = w\n",
    "        self.h = h\n",
    "        self.k = k\n",
    "        self.s = s\n",
    "        self.learning_rate = learning_rate\n",
    "        \n",
    "        # Инициализация весов\n",
    "        self.W1 = np.random.randn(w * h, s) * 0.01  # Входной слой -> скрытый слой\n",
    "        self.b1 = np.zeros((1, s))                   # Смещение скрытого слоя\n",
    "        self.W2 = np.random.randn(s, k) * 0.01       # Скрытый слой -> выходной слой\n",
    "        self.b2 = np.zeros((1, k))                   # Смещение выходного слоя\n",
    "\n",
    "    def relu(self, x):\n",
    "        return np.maximum(0, x)\n",
    "\n",
    "    def relu_derivative(self, x):\n",
    "        return (x > 0).astype(float)\n",
    "\n",
    "    def softmax(self, x):\n",
    "        exp_x = np.exp(x - np.max(x, axis=1, keepdims=True))\n",
    "        return exp_x / np.sum(exp_x, axis=1, keepdims=True)\n",
    "\n",
    "    def cross_entropy_loss(self, y_true, y_pred):\n",
    "        m = y_true.shape[0]\n",
    "        return -np.sum(y_true * np.log(y_pred + 1e-15)) / m\n",
    "\n",
    "    def forward(self, X):\n",
    "        # Прямое распространение\n",
    "        self.Z1 = np.dot(X, self.W1) + self.b1\n",
    "        self.A1 = self.relu(self.Z1)\n",
    "        self.Z2 = np.dot(self.A1, self.W2) + self.b2\n",
    "        self.A2 = self.softmax(self.Z2)\n",
    "        return self.A2\n",
    "\n",
    "    def backward(self, X, y_true, y_pred):\n",
    "        m = y_true.shape[0]\n",
    "\n",
    "        # Вычисление градиентов\n",
    "        dZ2 = y_pred - y_true\n",
    "        dW2 = np.dot(self.A1.T, dZ2) / m\n",
    "        db2 = np.sum(dZ2, axis=0, keepdims=True) / m\n",
    "        \n",
    "        dA1 = np.dot(dZ2, self.W2.T)\n",
    "        dZ1 = dA1 * self.relu_derivative(self.Z1)\n",
    "        dW1 = np.dot(X.T, dZ1) / m\n",
    "        db1 = np.sum(dZ1, axis=0, keepdims=True) / m\n",
    "\n",
    "        # Обновление весов\n",
    "        self.W1 -= self.learning_rate * dW1\n",
    "        self.b1 -= self.learning_rate * db1\n",
    "        self.W2 -= self.learning_rate * dW2\n",
    "        self.b2 -= self.learning_rate * db2\n",
    "\n",
    "    def train(self, X_train, y_train, batch_size=32, epochs=20):\n",
    "        for epoch in range(epochs):\n",
    "            start = time.time()\n",
    "            for i in range(0, len(X_train), batch_size):    \n",
    "                X_batch = X_train[i:i+batch_size]\n",
    "                y_batch = y_train[i:i+batch_size]\n",
    "\n",
    "                # Прямое и обратное распространение\n",
    "                y_pred = self.forward(X_batch)\n",
    "                loss = self.cross_entropy_loss(y_batch, y_pred)\n",
    "                self.backward(X_batch, y_batch, y_pred)\n",
    "            runtime = time.time() - start\n",
    "            print(f'Epoch {epoch + 1}/{epochs}, Loss: {loss:.4f}, Time: {runtime} sec')\n",
    "            \n",
    "X_train_images = X_train.reshape(-1, X_train.shape[1] * X_train.shape[2])\n",
    "X_train_images = X_train_images / 255\n",
    "y_train_labels = np.eye(10)[y_train]\n",
    "\n",
    "# Инициализация и обучение сети\n",
    "nn = SimpleNeuralNetwork(w=28, h=28, k=10, s=300)\n",
    "nn.train(X_train_images, y_train_labels, batch_size=32, epochs=20)\n"
   ]
  },
  {
   "cell_type": "code",
   "execution_count": 33,
   "id": "1919115e-27c5-44ab-b1ab-1d6013d39783",
   "metadata": {},
   "outputs": [
    {
     "name": "stdout",
     "output_type": "stream",
     "text": [
      "Accuracy on test data: 98.13%\n",
      "Loss on test data: 0.07%\n"
     ]
    }
   ],
   "source": [
    "X_test_images = X_test.reshape(-1, X_test.shape[1] * X_test.shape[2])\n",
    "X_test_images = X_test_images / 255\n",
    "y_test_labels = np.eye(10)[y_test]\n",
    "predictions = nn.forward(X_test_images)\n",
    "predicted_labels = np.argmax(predictions, axis=1)\n",
    "true_labels = np.argmax(y_test_labels, axis=1)\n",
    "accuracy = np.mean(predicted_labels == true_labels) * 100\n",
    "\n",
    "loss = nn.cross_entropy_loss(y_test_labels, predictions)\n",
    "\n",
    "print(f\"Accuracy on test data: {accuracy:.2f}%\")\n",
    "print(f\"Loss on test data: {loss:.2f}%\")"
   ]
  },
  {
   "cell_type": "code",
   "execution_count": null,
   "id": "e7c0d2e3-c1c8-4006-8e7b-6a1d8453f886",
   "metadata": {},
   "outputs": [],
   "source": []
  }
 ],
 "metadata": {
  "kernelspec": {
   "display_name": "Python 3 (ipykernel)",
   "language": "python",
   "name": "python3"
  },
  "language_info": {
   "codemirror_mode": {
    "name": "ipython",
    "version": 3
   },
   "file_extension": ".py",
   "mimetype": "text/x-python",
   "name": "python",
   "nbconvert_exporter": "python",
   "pygments_lexer": "ipython3",
   "version": "3.10.12"
  }
 },
 "nbformat": 4,
 "nbformat_minor": 5
}
