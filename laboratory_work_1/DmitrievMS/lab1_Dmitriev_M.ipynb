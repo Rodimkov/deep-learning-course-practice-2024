{
  "nbformat": 4,
  "nbformat_minor": 0,
  "metadata": {
    "colab": {
      "provenance": []
    },
    "kernelspec": {
      "name": "python3",
      "display_name": "Python 3"
    },
    "language_info": {
      "name": "python"
    }
  },
  "cells": [
    {
      "cell_type": "code",
      "execution_count": 1,
      "metadata": {
        "id": "WJjBJIOgN4wS"
      },
      "outputs": [],
      "source": [
        "import numpy as np\n",
        "import matplotlib.pyplot as plt\n",
        "from sklearn.datasets import fetch_openml\n",
        "from sklearn.model_selection import train_test_split\n",
        "from sklearn.preprocessing import OneHotEncoder\n",
        "from time import time"
      ]
    },
    {
      "cell_type": "code",
      "source": [
        "# Функции активации\n",
        "def relu(Z):\n",
        "    return np.maximum(0, Z)\n",
        "\n",
        "def relu_derivative(Z):\n",
        "    return Z > 0\n",
        "\n",
        "def softmax(Z):\n",
        "    exp_Z = np.exp(Z - np.max(Z, axis=1, keepdims=True))  # Нормализация для числовой стабильности\n",
        "    return exp_Z / np.sum(exp_Z, axis=1, keepdims=True)"
      ],
      "metadata": {
        "id": "zy2AtqtbN7dP"
      },
      "execution_count": 2,
      "outputs": []
    },
    {
      "cell_type": "code",
      "source": [
        "# Функция ошибки (кросс-энтропия)\n",
        "def cross_entropy_loss(Y_true, Y_pred):\n",
        "    m = Y_true.shape[0]\n",
        "    log_likelihood = -np.log(Y_pred[range(m), Y_true.argmax(axis=1)])\n",
        "    loss = np.sum(log_likelihood) / m\n",
        "    return loss\n"
      ],
      "metadata": {
        "id": "1nDwNk0SN97f"
      },
      "execution_count": 3,
      "outputs": []
    },
    {
      "cell_type": "code",
      "source": [
        "# Обратное распространение ошибки\n",
        "def backprop(X, Y_true, params, cache):\n",
        "    m = X.shape[0]\n",
        "    # Извлечение параметров\n",
        "    W1, b1, W2, b2 = params\n",
        "    Z1, A1, Z2, A2 = cache\n",
        "    # Градиенты\n",
        "    dZ2 = A2 - Y_true\n",
        "    dW2 = (1 / m) * np.dot(A1.T, dZ2)\n",
        "    db2 = (1 / m) * np.sum(dZ2, axis=0, keepdims=True)\n",
        "\n",
        "    dA1 = np.dot(dZ2, W2.T)\n",
        "    dZ1 = dA1 * relu_derivative(Z1)\n",
        "    dW1 = (1 / m) * np.dot(X.T, dZ1)\n",
        "    db1 = (1 / m) * np.sum(dZ1, axis=0, keepdims=True)\n",
        "\n",
        "    grads = (dW1, db1, dW2, db2)\n",
        "    return grads\n"
      ],
      "metadata": {
        "id": "Ftv4oXM_OArx"
      },
      "execution_count": 4,
      "outputs": []
    },
    {
      "cell_type": "code",
      "source": [
        "# Обновление параметров\n",
        "def update_params(params, grads, learning_rate):\n",
        "    W1, b1, W2, b2 = params\n",
        "    dW1, db1, dW2, db2 = grads\n",
        "\n",
        "    W1 -= learning_rate * dW1\n",
        "    b1 -= learning_rate * db1\n",
        "    W2 -= learning_rate * dW2\n",
        "    b2 -= learning_rate * db2\n",
        "\n",
        "    params = (W1, b1, W2, b2)\n",
        "    return params\n"
      ],
      "metadata": {
        "id": "hYnUvdbQOOHL"
      },
      "execution_count": 5,
      "outputs": []
    },
    {
      "cell_type": "code",
      "source": [
        "# Прямое распространение\n",
        "def forward_propagation(X, params):\n",
        "    W1, b1, W2, b2 = params\n",
        "\n",
        "    Z1 = np.dot(X, W1) + b1\n",
        "    A1 = relu(Z1)\n",
        "\n",
        "    Z2 = np.dot(A1, W2) + b2\n",
        "    A2 = softmax(Z2)\n",
        "\n",
        "    cache = (Z1, A1, Z2, A2)\n",
        "    return A2, cache"
      ],
      "metadata": {
        "id": "bhY0qh95OOt1"
      },
      "execution_count": 6,
      "outputs": []
    },
    {
      "cell_type": "code",
      "source": [
        "# Функция для тренировки модели\n",
        "def train(X_train, Y_train, X_test, Y_test, hidden_neurons=300, epochs=20, batch_size=32, learning_rate=0.1):\n",
        "    input_size = X_train.shape[1]\n",
        "    output_size = Y_train.shape[1]\n",
        "\n",
        "    # Инициализация параметров\n",
        "    W1 = np.random.randn(input_size, hidden_neurons) * 0.01\n",
        "    b1 = np.zeros((1, hidden_neurons))\n",
        "    W2 = np.random.randn(hidden_neurons, output_size) * 0.01\n",
        "    b2 = np.zeros((1, output_size))\n",
        "\n",
        "    params = (W1, b1, W2, b2)\n"
      ],
      "metadata": {
        "id": "pYA9-0u4OQxB"
      },
      "execution_count": 7,
      "outputs": []
    },
    {
      "cell_type": "code",
      "source": [
        "# Функция для тренировки модели\n",
        "def train(X_train, Y_train, X_test, Y_test, hidden_neurons=300, epochs=20, batch_size=32, learning_rate=0.1):\n",
        "    input_size = X_train.shape[1]\n",
        "    output_size = Y_train.shape[1]\n",
        "\n",
        "    # Инициализация параметров\n",
        "    W1 = np.random.randn(input_size, hidden_neurons) * 0.01\n",
        "    b1 = np.zeros((1, hidden_neurons))\n",
        "    W2 = np.random.randn(hidden_neurons, output_size) * 0.01\n",
        "    b2 = np.zeros((1, output_size))\n",
        "\n",
        "    params = (W1, b1, W2, b2)\n",
        "\n",
        "    # Обучение\n",
        "    for epoch in range(epochs):\n",
        "        epoch_loss = 0\n",
        "        start_time = time()\n",
        "\n",
        "        # Перемешиваем данные\n",
        "        permutation = np.random.permutation(X_train.shape[0])\n",
        "        X_train_shuffled = X_train[permutation]\n",
        "        Y_train_shuffled = Y_train[permutation]\n",
        "\n",
        "        # Мини-пакетная обработка\n",
        "        for i in range(0, X_train.shape[0], batch_size):\n",
        "            X_batch = X_train_shuffled[i:i + batch_size]\n",
        "            Y_batch = Y_train_shuffled[i:i + batch_size]\n",
        "\n",
        "            # Прямое распространение\n",
        "            A2, cache = forward_propagation(X_batch, params)\n",
        "\n",
        "            # Вычисление ошибки\n",
        "            loss = cross_entropy_loss(Y_batch, A2)\n",
        "            epoch_loss += loss\n",
        "\n",
        "            # Обратное распространение\n",
        "            grads = backprop(X_batch, Y_batch, params, cache)\n",
        "\n",
        "            # Обновление параметров\n",
        "            params = update_params(params, grads, learning_rate)\n",
        "\n",
        "        end_time = time()\n",
        "\n",
        "        # Вывод статистики по эпохе\n",
        "        print(f\"Epoch {epoch+1}/{epochs} - Loss: {epoch_loss/X_train.shape[0]:.4f} - Time: {end_time - start_time:.2f}s\")\n",
        "\n",
        "    # Оценка точности\n",
        "    accuracy = evaluate(X_test, Y_test, params)\n",
        "    print(f\"Accuracy on test data: {accuracy:.2f}%\")\n"
      ],
      "metadata": {
        "id": "eHIt0ovSOXru"
      },
      "execution_count": 8,
      "outputs": []
    },
    {
      "cell_type": "code",
      "source": [
        "# Оценка точности на тестовом наборе\n",
        "def evaluate(X, Y_true, params):\n",
        "    A2, _ = forward_propagation(X, params)\n",
        "    predictions = np.argmax(A2, axis=1)\n",
        "    labels = np.argmax(Y_true, axis=1)\n",
        "    accuracy = np.mean(predictions == labels) * 100\n",
        "    return accuracy"
      ],
      "metadata": {
        "id": "j663z0nOObvz"
      },
      "execution_count": 9,
      "outputs": []
    },
    {
      "cell_type": "code",
      "source": [
        "# Загрузка и предобработка данных MNIST\n",
        "def load_data():\n",
        "    # Загрузка набора данных MNIST\n",
        "    X, y = fetch_openml('mnist_784', version=1, return_X_y=True)\n",
        "\n",
        "    # Нормализация данных\n",
        "    X = X / 255.0\n",
        "\n",
        "    # Преобразование меток в массив NumPy\n",
        "    y = np.array(y)\n",
        "\n",
        "    # Разделение данных на тренировочные и тестовые выборки\n",
        "    X_train, X_test, y_train, y_test = train_test_split(X, y, test_size=0.2, random_state=42)\n",
        "\n",
        "    # Преобразование меток в one-hot encoding\n",
        "    encoder = OneHotEncoder(sparse_output=False)  # Используем sparse_output\n",
        "    y_train = encoder.fit_transform(y_train.reshape(-1, 1))  # Преобразуем в массив\n",
        "    y_test = encoder.transform(y_test.reshape(-1, 1))        # Преобразуем в массив\n",
        "\n",
        "    # Преобразуем X_train и X_test в массивы NumPy (если это не было сделано автоматически)\n",
        "    X_train = np.array(X_train)\n",
        "    X_test = np.array(X_test)\n",
        "\n",
        "    return X_train, X_test, y_train, y_test\n"
      ],
      "metadata": {
        "id": "Bpl5BqdkOfKL"
      },
      "execution_count": 10,
      "outputs": []
    },
    {
      "cell_type": "code",
      "source": [
        "# Основной запуск\n",
        "X_train, X_test, Y_train, Y_test = load_data()\n",
        "train(X_train, Y_train, X_test, Y_test, hidden_neurons=300, epochs=20, batch_size=32, learning_rate=0.1)"
      ],
      "metadata": {
        "colab": {
          "base_uri": "https://localhost:8080/"
        },
        "id": "MjycMKSLOjOJ",
        "outputId": "20e93d80-dc6a-417c-82e2-689228eebda6"
      },
      "execution_count": 11,
      "outputs": [
        {
          "output_type": "stream",
          "name": "stdout",
          "text": [
            "Epoch 1/20 - Loss: 0.0124 - Time: 8.07s\n",
            "Epoch 2/20 - Loss: 0.0052 - Time: 5.42s\n",
            "Epoch 3/20 - Loss: 0.0036 - Time: 7.85s\n",
            "Epoch 4/20 - Loss: 0.0027 - Time: 5.36s\n",
            "Epoch 5/20 - Loss: 0.0022 - Time: 7.99s\n",
            "Epoch 6/20 - Loss: 0.0018 - Time: 5.46s\n",
            "Epoch 7/20 - Loss: 0.0015 - Time: 7.71s\n",
            "Epoch 8/20 - Loss: 0.0013 - Time: 5.62s\n",
            "Epoch 9/20 - Loss: 0.0011 - Time: 5.67s\n",
            "Epoch 10/20 - Loss: 0.0009 - Time: 6.95s\n",
            "Epoch 11/20 - Loss: 0.0008 - Time: 5.26s\n",
            "Epoch 12/20 - Loss: 0.0007 - Time: 7.85s\n",
            "Epoch 13/20 - Loss: 0.0006 - Time: 5.34s\n",
            "Epoch 14/20 - Loss: 0.0005 - Time: 7.67s\n",
            "Epoch 15/20 - Loss: 0.0004 - Time: 5.40s\n",
            "Epoch 16/20 - Loss: 0.0004 - Time: 7.70s\n",
            "Epoch 17/20 - Loss: 0.0003 - Time: 5.31s\n",
            "Epoch 18/20 - Loss: 0.0003 - Time: 6.89s\n",
            "Epoch 19/20 - Loss: 0.0003 - Time: 5.82s\n",
            "Epoch 20/20 - Loss: 0.0002 - Time: 5.40s\n",
            "Accuracy on test data: 97.82%\n"
          ]
        }
      ]
    }
  ]
}