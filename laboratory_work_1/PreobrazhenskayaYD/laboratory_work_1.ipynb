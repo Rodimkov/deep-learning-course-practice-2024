{
 "cells": [
  {
   "cell_type": "code",
   "execution_count": 84,
   "id": "032a2aa7",
   "metadata": {},
   "outputs": [],
   "source": [
    "import numpy as np \n",
    "import idx2numpy\n",
    "import matplotlib.pyplot as plt\n",
    "from tqdm import tqdm\n",
    "import time\n",
    "\n",
    "%matplotlib inline"
   ]
  },
  {
   "cell_type": "code",
   "execution_count": 85,
   "id": "73d14bf5",
   "metadata": {},
   "outputs": [],
   "source": [
    "# Path to the MNIST dataset\n",
    "\n",
    "DATA_PATH = 'C:/Users/enjul/deep_learning_course/mnist_data/'"
   ]
  },
  {
   "cell_type": "code",
   "execution_count": 86,
   "id": "ed3fe71f",
   "metadata": {},
   "outputs": [],
   "source": [
    "# Load MNIST data\n",
    "\n",
    "X_train = idx2numpy.convert_from_file(DATA_PATH + 'train-images-idx3-ubyte')\n",
    "Y_train = idx2numpy.convert_from_file(DATA_PATH + 'train-labels-idx1-ubyte')\n",
    "\n",
    "X_test = idx2numpy.convert_from_file(DATA_PATH + 't10k-images-idx3-ubyte')\n",
    "Y_test = idx2numpy.convert_from_file(DATA_PATH + 't10k-labels-idx1-ubyte')"
   ]
  },
  {
   "cell_type": "code",
   "execution_count": 87,
   "id": "505c8b4d",
   "metadata": {},
   "outputs": [
    {
     "name": "stdout",
     "output_type": "stream",
     "text": [
      "Shape of train data: \n",
      " images: (60000, 28, 28) \n",
      " labels (60000,)\n",
      "Shape of test data: \n",
      " images: (10000, 28, 28) \n",
      " labels (10000,)\n"
     ]
    }
   ],
   "source": [
    "# Сheck the shape of the input data\n",
    "\n",
    "print(f\"Shape of train data: \\n images: {X_train.shape} \\n labels {Y_train.shape}\")\n",
    "print(f\"Shape of test data: \\n images: {X_test.shape} \\n labels {Y_test.shape}\")"
   ]
  },
  {
   "cell_type": "code",
   "execution_count": 88,
   "id": "7a3a6f06",
   "metadata": {},
   "outputs": [],
   "source": [
    "# Function for data visialization\n",
    "\n",
    "def visualize(X_data, Y_data, data_size):\n",
    "    fig, axes = plt.subplots(2, 5, figsize=(12,5))\n",
    "    axes = axes.flatten()\n",
    "    idx = np.random.randint(0, data_size, size=10)\n",
    "    \n",
    "    for i in range(10):\n",
    "        axes[i].imshow(X_data[idx[i],:].reshape(28,28), cmap='gray')\n",
    "        axes[i].axis('off')\n",
    "        axes[i].set_title(\"Label: \" + str(int(Y_data[idx[i]])), color='black', fontsize=20)\n",
    "        \n",
    "    plt.show()"
   ]
  },
  {
   "cell_type": "code",
   "execution_count": 94,
   "id": "b9546ada",
   "metadata": {},
   "outputs": [
    {
     "data": {
      "image/png": "[encoded data removed]",
      "text/plain": [
       "<Figure size 864x360 with 10 Axes>"
      ]
     },
     "metadata": {
      "needs_background": "light"
     },
     "output_type": "display_data"
    }
   ],
   "source": [
    "# Visualize some examples of input data from train\n",
    "\n",
    "visualize(X_train, Y_train, Y_train.shape[0])"
   ]
  },
  {
   "cell_type": "code",
   "execution_count": 91,
   "id": "1886359d",
   "metadata": {},
   "outputs": [
    {
     "data": {
      "image/png": "[encoded data removed]",
      "text/plain": [
       "<Figure size 864x360 with 10 Axes>"
      ]
     },
     "metadata": {
      "needs_background": "light"
     },
     "output_type": "display_data"
    }
   ],
   "source": [
    "# Visualize some examples of input data from test\n",
    "\n",
    "visualize(X_test, Y_test, Y_test.shape[0])"
   ]
  },
  {
   "cell_type": "code",
   "execution_count": 95,
   "id": "d9421e8f",
   "metadata": {},
   "outputs": [],
   "source": [
    "# Function for data preprocessing\n",
    "\n",
    "def data_preprocess(X_data, Y_data):\n",
    "    # Reshape images from train and test into 1D vector: w * h = 28 * 28 = 784\n",
    "    X_data = X_data.reshape(-1, X_data.shape[1] * X_data.shape[2])\n",
    "    \n",
    "    # Normalize images - pixel values from 0 to 1\n",
    "    X_data = X_data / 255\n",
    "    \n",
    "    # One-hot encoded vector for labels\n",
    "    num_classes = 10 \n",
    "    Y_data = np.eye(num_classes)[Y_data]\n",
    "    \n",
    "    return X_data, Y_data"
   ]
  },
  {
   "cell_type": "code",
   "execution_count": 96,
   "id": "1b31e764",
   "metadata": {},
   "outputs": [
    {
     "name": "stdout",
     "output_type": "stream",
     "text": [
      "Shape of train data after reshaping: \n",
      " images: (60000, 784)\n",
      "Shape of test data after reshaping: \n",
      " images: (10000, 784)\n"
     ]
    }
   ],
   "source": [
    "# Preprocess input data\n",
    "\n",
    "X_train, Y_train = data_preprocess(X_train, Y_train)\n",
    "X_test, Y_test = data_preprocess(X_test, Y_test)\n",
    "\n",
    "print(f\"Shape of train data after reshaping: \\n images: {X_train.shape}\")\n",
    "print(f\"Shape of test data after reshaping: \\n images: {X_test.shape}\")"
   ]
  },
  {
   "cell_type": "code",
   "execution_count": 97,
   "id": "a5a9df81",
   "metadata": {},
   "outputs": [],
   "source": [
    "# Activation function\n",
    "\n",
    "def ReLU(x):\n",
    "    return np.maximum(0, x)"
   ]
  },
  {
   "cell_type": "code",
   "execution_count": 98,
   "id": "9063f8d4",
   "metadata": {},
   "outputs": [],
   "source": [
    "# Softmax\n",
    "\n",
    "def softmax(x):\n",
    "    return np.exp(x - np.max(x, axis=1, keepdims=True)) / np.sum(np.exp(x - np.max(x, axis=1, keepdims=True)), axis=1, keepdims=True)"
   ]
  },
  {
   "cell_type": "code",
   "execution_count": 99,
   "id": "da929e23",
   "metadata": {},
   "outputs": [],
   "source": [
    "# Cross Entropy function\n",
    "\n",
    "def cross_entropy(y_pred, y_true):\n",
    "    return np.mean(-np.sum(y_true * np.log(y_pred + 1e-15), axis = 1))"
   ]
  },
  {
   "cell_type": "code",
   "execution_count": 100,
   "id": "d9c90086",
   "metadata": {},
   "outputs": [],
   "source": [
    "# Accuracy calculation\n",
    "\n",
    "def calculate_accuracy(y_pred, y_true):\n",
    "    return np.mean(np.argmax(y_pred, axis=1) == np.argmax(y_true, axis = 1))"
   ]
  },
  {
   "cell_type": "code",
   "execution_count": 101,
   "id": "44c06cd7",
   "metadata": {},
   "outputs": [],
   "source": [
    "# Class for Neural Network\n",
    "\n",
    "class MnistNeuralNet:\n",
    "    def __init__(self, input_size, hidden_size, output_size, lr):\n",
    "        self.input_size = input_size\n",
    "        self.hidden_size = hidden_size\n",
    "        self.output_size = output_size\n",
    "        self.lr = lr\n",
    "        \n",
    "        # Initialize weights (Glorot/Xavier Uniform )\n",
    "        limit_1 = np.sqrt(6 / float(input_size + hidden_size))\n",
    "        limit_2 = np.sqrt(6 / float(hidden_size + output_size))\n",
    "        self.w_1 = np.random.uniform(low=-limit_1, high=limit_1, size=(input_size, hidden_size))\n",
    "        self.w_2 = np.random.uniform(low=-limit_2, high=limit_2, size=(hidden_size, output_size))\n",
    "        \n",
    "        # Initialize biases\n",
    "        self.b_1 = np.zeros((1, hidden_size))\n",
    "        self.b_2 = np.zeros((1, output_size))\n",
    "\n",
    "    def forward_pass(self, inputs):\n",
    "        self.z_1 = np.dot(inputs, self.w_1) + self.b_1\n",
    "        self.a_1 = ReLU(self.z_1)\n",
    "        self.z_2 = np.dot(self.a_1, self.w_2) + self.b_2\n",
    "        self.output = softmax(self.z_2)\n",
    "        \n",
    "        return self.output\n",
    "\n",
    "    def backward_pass(self, inputs, labels):\n",
    "        # Calculate error at output layer\n",
    "        dz_2 = (self.output - labels)\n",
    "        \n",
    "        # Gradient for weights between hidden and output layer\n",
    "        dw_2 = np.dot(self.a_1.T, dz_2) / len(self.output)\n",
    "        \n",
    "        # Calculate gradient for ReLU\n",
    "        drelu = (self.z_1 > 0).astype(float)\n",
    "        \n",
    "        # Calculate error at hidden layer\n",
    "        dz_1 = np.dot(dz_2, self.w_2.T) * drelu\n",
    "        \n",
    "        # Gradient for weights between input and hidden layer\n",
    "        dw_1 = np.dot(inputs.T, dz_1)\n",
    "\n",
    "        # Calculate gradients for biases\n",
    "        db_2 = np.sum(dz_2, axis=0, keepdims=True) / len(self.output)\n",
    "        db_1 = np.sum(dz_1, axis=0, keepdims=True) / len(self.output)\n",
    " \n",
    "        # Update weights and biases in the opposite direction of the gradient\n",
    "        self.w_1 -= lr * dw_1\n",
    "        self.w_2 -= lr * dw_2\n",
    "        self.b_1 -= lr * db_1\n",
    "        self.b_2 -= lr * db_2"
   ]
  },
  {
   "cell_type": "code",
   "execution_count": 105,
   "id": "62a9cd4e",
   "metadata": {},
   "outputs": [],
   "source": [
    "# Train function\n",
    "\n",
    "def train_test_model(model, train_images, train_labels, test_images, test_labels, num_epochs, batch_size):\n",
    "    print('Training started')\n",
    "    num_samples = train_images.shape[0]\n",
    "\n",
    "    for epoch in tqdm(range(num_epochs)):\n",
    "        time_start = time.time()\n",
    "        # Shuffle the training data\n",
    "        indices = np.random.permutation(num_samples)\n",
    "        shuffled_train_images = train_images[indices]\n",
    "        shuffled_train_labels = train_labels[indices]\n",
    "\n",
    "        # Iterate over mini-batches\n",
    "        for i in range(0, num_samples, batch_size):\n",
    "            batch_images = shuffled_train_images[i:i + batch_size]\n",
    "            batch_labels = shuffled_train_labels[i:i + batch_size]\n",
    "\n",
    "            # Forward and backward pass\n",
    "            model.forward_pass(batch_images)\n",
    "            model.backward_pass(batch_images, batch_labels)\n",
    "\n",
    "        # Calculate training metrics\n",
    "        train_preds = model.forward_pass(train_images)\n",
    "        CE_loss = cross_entropy(train_preds, train_labels)\n",
    "        accuracy = calculate_accuracy(train_preds, train_labels)\n",
    "        time_end = time.time()\n",
    "        duration = time_end - time_start\n",
    "    \n",
    "        print(f'Epoch {epoch + 1}/{num_epochs}; Loss: {CE_loss:.4f};  Accuracy: {accuracy:.4f}; Duration: {duration} sec')\n",
    "        \n",
    "    print('Training finished')\n",
    "    # Evaluate on test set\n",
    "    test_preds = model.forward_pass(test_images)\n",
    "    test_loss = cross_entropy(test_preds, test_labels)\n",
    "    test_accuracy = calculate_accuracy(test_preds, test_labels)\n",
    "\n",
    "    print(f'Results on Test Data: \\n Loss: {test_loss:.4f}; \\n Accuracy: {test_accuracy:.2f}')"
   ]
  },
  {
   "cell_type": "code",
   "execution_count": 110,
   "id": "0712cf38",
   "metadata": {},
   "outputs": [],
   "source": [
    "# Set hyperparameters\n",
    "\n",
    "batch_size = 32\n",
    "lr = 0.1 # learning rate\n",
    "hidden_size = 300\n",
    "num_epochs = 20\n",
    "input_size = X_train.shape[1]\n",
    "output_size = 10 # number of classes"
   ]
  },
  {
   "cell_type": "code",
   "execution_count": 111,
   "id": "4e2339c5",
   "metadata": {
    "scrolled": true
   },
   "outputs": [
    {
     "name": "stderr",
     "output_type": "stream",
     "text": [
      "\r",
      "  0%|                                                                                           | 0/20 [00:00<?, ?it/s]"
     ]
    },
    {
     "name": "stdout",
     "output_type": "stream",
     "text": [
      "Training started\n"
     ]
    },
    {
     "name": "stderr",
     "output_type": "stream",
     "text": [
      "\r",
      "  5%|████▏                                                                              | 1/20 [00:07<02:15,  7.12s/it]"
     ]
    },
    {
     "name": "stdout",
     "output_type": "stream",
     "text": [
      "Epoch 1/20; Loss: 0.1282;  Accuracy: 0.9622; Duration: 7.117776870727539 sec\n"
     ]
    },
    {
     "name": "stderr",
     "output_type": "stream",
     "text": [
      "\r",
      " 10%|████████▎                                                                          | 2/20 [00:14<02:09,  7.17s/it]"
     ]
    },
    {
     "name": "stdout",
     "output_type": "stream",
     "text": [
      "Epoch 2/20; Loss: 0.1017;  Accuracy: 0.9671; Duration: 7.206127643585205 sec\n"
     ]
    },
    {
     "name": "stderr",
     "output_type": "stream",
     "text": [
      "\r",
      " 15%|████████████▍                                                                      | 3/20 [00:21<02:03,  7.24s/it]"
     ]
    },
    {
     "name": "stdout",
     "output_type": "stream",
     "text": [
      "Epoch 3/20; Loss: 0.0822;  Accuracy: 0.9733; Duration: 7.315521001815796 sec\n"
     ]
    },
    {
     "name": "stderr",
     "output_type": "stream",
     "text": [
      "\r",
      " 20%|████████████████▌                                                                  | 4/20 [00:28<01:56,  7.26s/it]"
     ]
    },
    {
     "name": "stdout",
     "output_type": "stream",
     "text": [
      "Epoch 4/20; Loss: 0.0608;  Accuracy: 0.9800; Duration: 7.287369966506958 sec\n"
     ]
    },
    {
     "name": "stderr",
     "output_type": "stream",
     "text": [
      "\r",
      " 25%|████████████████████▊                                                              | 5/20 [00:36<01:47,  7.19s/it]"
     ]
    },
    {
     "name": "stdout",
     "output_type": "stream",
     "text": [
      "Epoch 5/20; Loss: 0.0620;  Accuracy: 0.9795; Duration: 7.080240249633789 sec\n"
     ]
    },
    {
     "name": "stderr",
     "output_type": "stream",
     "text": [
      "\r",
      " 30%|████████████████████████▉                                                          | 6/20 [00:43<01:40,  7.17s/it]"
     ]
    },
    {
     "name": "stdout",
     "output_type": "stream",
     "text": [
      "Epoch 6/20; Loss: 0.0624;  Accuracy: 0.9801; Duration: 7.140009164810181 sec\n"
     ]
    },
    {
     "name": "stderr",
     "output_type": "stream",
     "text": [
      "\r",
      " 35%|█████████████████████████████                                                      | 7/20 [00:50<01:32,  7.13s/it]"
     ]
    },
    {
     "name": "stdout",
     "output_type": "stream",
     "text": [
      "Epoch 7/20; Loss: 0.0573;  Accuracy: 0.9821; Duration: 7.048094034194946 sec\n"
     ]
    },
    {
     "name": "stderr",
     "output_type": "stream",
     "text": [
      "\r",
      " 40%|█████████████████████████████████▏                                                 | 8/20 [00:57<01:25,  7.10s/it]"
     ]
    },
    {
     "name": "stdout",
     "output_type": "stream",
     "text": [
      "Epoch 8/20; Loss: 0.0691;  Accuracy: 0.9798; Duration: 7.032364130020142 sec\n"
     ]
    },
    {
     "name": "stderr",
     "output_type": "stream",
     "text": [
      "\r",
      " 45%|█████████████████████████████████████▎                                             | 9/20 [01:04<01:17,  7.09s/it]"
     ]
    },
    {
     "name": "stdout",
     "output_type": "stream",
     "text": [
      "Epoch 9/20; Loss: 0.0372;  Accuracy: 0.9878; Duration: 7.056223392486572 sec\n"
     ]
    },
    {
     "name": "stderr",
     "output_type": "stream",
     "text": [
      "\r",
      " 50%|█████████████████████████████████████████                                         | 10/20 [01:11<01:10,  7.07s/it]"
     ]
    },
    {
     "name": "stdout",
     "output_type": "stream",
     "text": [
      "Epoch 10/20; Loss: 0.0328;  Accuracy: 0.9890; Duration: 7.035218715667725 sec\n"
     ]
    },
    {
     "name": "stderr",
     "output_type": "stream",
     "text": [
      "\r",
      " 55%|█████████████████████████████████████████████                                     | 11/20 [01:18<01:03,  7.07s/it]"
     ]
    },
    {
     "name": "stdout",
     "output_type": "stream",
     "text": [
      "Epoch 11/20; Loss: 0.0296;  Accuracy: 0.9902; Duration: 7.0668559074401855 sec\n"
     ]
    },
    {
     "name": "stderr",
     "output_type": "stream",
     "text": [
      "\r",
      " 60%|█████████████████████████████████████████████████▏                                | 12/20 [01:25<00:56,  7.08s/it]"
     ]
    },
    {
     "name": "stdout",
     "output_type": "stream",
     "text": [
      "Epoch 12/20; Loss: 0.0209;  Accuracy: 0.9931; Duration: 7.105788946151733 sec\n"
     ]
    },
    {
     "name": "stderr",
     "output_type": "stream",
     "text": [
      "\r",
      " 65%|█████████████████████████████████████████████████████▎                            | 13/20 [01:32<00:49,  7.07s/it]"
     ]
    },
    {
     "name": "stdout",
     "output_type": "stream",
     "text": [
      "Epoch 13/20; Loss: 0.0418;  Accuracy: 0.9859; Duration: 7.034485340118408 sec\n"
     ]
    },
    {
     "name": "stderr",
     "output_type": "stream",
     "text": [
      "\r",
      " 70%|█████████████████████████████████████████████████████████▍                        | 14/20 [01:39<00:42,  7.06s/it]"
     ]
    },
    {
     "name": "stdout",
     "output_type": "stream",
     "text": [
      "Epoch 14/20; Loss: 0.0199;  Accuracy: 0.9933; Duration: 7.034900665283203 sec\n"
     ]
    },
    {
     "name": "stderr",
     "output_type": "stream",
     "text": [
      "\r",
      " 75%|█████████████████████████████████████████████████████████████▌                    | 15/20 [01:46<00:35,  7.06s/it]"
     ]
    },
    {
     "name": "stdout",
     "output_type": "stream",
     "text": [
      "Epoch 15/20; Loss: 0.0239;  Accuracy: 0.9922; Duration: 7.032527923583984 sec\n"
     ]
    },
    {
     "name": "stderr",
     "output_type": "stream",
     "text": [
      "\r",
      " 80%|█████████████████████████████████████████████████████████████████▌                | 16/20 [01:53<00:28,  7.11s/it]"
     ]
    },
    {
     "name": "stdout",
     "output_type": "stream",
     "text": [
      "Epoch 16/20; Loss: 0.0171;  Accuracy: 0.9944; Duration: 7.221309185028076 sec\n"
     ]
    },
    {
     "name": "stderr",
     "output_type": "stream",
     "text": [
      "\r",
      " 85%|█████████████████████████████████████████████████████████████████████▋            | 17/20 [02:00<00:21,  7.09s/it]"
     ]
    },
    {
     "name": "stdout",
     "output_type": "stream",
     "text": [
      "Epoch 17/20; Loss: 0.0217;  Accuracy: 0.9926; Duration: 7.04390549659729 sec\n"
     ]
    },
    {
     "name": "stderr",
     "output_type": "stream",
     "text": [
      "\r",
      " 90%|█████████████████████████████████████████████████████████████████████████▊        | 18/20 [02:07<00:14,  7.08s/it]"
     ]
    },
    {
     "name": "stdout",
     "output_type": "stream",
     "text": [
      "Epoch 18/20; Loss: 0.0190;  Accuracy: 0.9938; Duration: 7.06829833984375 sec\n"
     ]
    },
    {
     "name": "stderr",
     "output_type": "stream",
     "text": [
      "\r",
      " 95%|█████████████████████████████████████████████████████████████████████████████▉    | 19/20 [02:15<00:07,  7.07s/it]"
     ]
    },
    {
     "name": "stdout",
     "output_type": "stream",
     "text": [
      "Epoch 19/20; Loss: 0.0167;  Accuracy: 0.9943; Duration: 7.045592308044434 sec\n"
     ]
    },
    {
     "name": "stderr",
     "output_type": "stream",
     "text": [
      "100%|██████████████████████████████████████████████████████████████████████████████████| 20/20 [02:22<00:00,  7.10s/it]"
     ]
    },
    {
     "name": "stdout",
     "output_type": "stream",
     "text": [
      "Epoch 20/20; Loss: 0.0127;  Accuracy: 0.9958; Duration: 7.079160451889038 sec\n",
      "Training finished\n",
      "Results on Test Data: \n",
      " Loss: 0.1552; \n",
      " Accuracy: 0.98\n"
     ]
    },
    {
     "name": "stderr",
     "output_type": "stream",
     "text": [
      "\n"
     ]
    }
   ],
   "source": [
    "# Initialize model, train it and test it\n",
    "\n",
    "model = MnistNeuralNet(input_size, hidden_size, output_size, lr)\n",
    "train_test_model(model, X_train, Y_train, X_test, Y_test, num_epochs, batch_size)"
   ]
  },
  {
   "cell_type": "code",
   "execution_count": null,
   "id": "21804b39",
   "metadata": {},
   "outputs": [],
   "source": []
  }
 ],
 "metadata": {
  "kernelspec": {
   "display_name": "Python 3",
   "language": "python",
   "name": "python3"
  },
  "language_info": {
   "codemirror_mode": {
    "name": "ipython",
    "version": 3
   },
   "file_extension": ".py",
   "mimetype": "text/x-python",
   "name": "python",
   "nbconvert_exporter": "python",
   "pygments_lexer": "ipython3",
   "version": "3.8.8"
  }
 },
 "nbformat": 4,
 "nbformat_minor": 5
}
