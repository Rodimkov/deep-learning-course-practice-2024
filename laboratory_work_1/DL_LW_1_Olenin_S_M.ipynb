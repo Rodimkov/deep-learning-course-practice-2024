{
  "nbformat": 4,
  "nbformat_minor": 0,
  "metadata": {
    "colab": {
      "provenance": []
    },
    "kernelspec": {
      "name": "python3",
      "display_name": "Python 3"
    },
    "language_info": {
      "name": "python"
    }
  },
  "cells": [
    {
      "cell_type": "code",
      "execution_count": 1,
      "metadata": {
        "id": "ZyU96mKDJO9A"
      },
      "outputs": [],
      "source": [
        "import numpy as np;\n",
        "import matplotlib.pyplot as plt;\n",
        "from random import randint;\n",
        "from time import time;"
      ]
    },
    {
      "cell_type": "code",
      "source": [
        "def load_images(path_to_images):\n",
        "    images = np.fromfile(path_to_images, dtype=np.uint8, count= -1)[16:];\n",
        "    return images;\n",
        "\n",
        "def reshape_images(images):\n",
        "    return images.reshape(-1, 28, 28);\n",
        "\n",
        "def load_labels(path_to_labels):\n",
        "    labels = np.fromfile(path_to_labels, dtype=np.uint8, count=-1)[8:];\n",
        "    return labels;"
      ],
      "metadata": {
        "id": "MdxzquOzJtlg"
      },
      "execution_count": 2,
      "outputs": []
    },
    {
      "cell_type": "code",
      "source": [
        "training_images_filepath = \"/content/train-images.idx3-ubyte\";\n",
        "training_labels_filepath = \"/content/train-labels.idx1-ubyte\";\n",
        "\n",
        "test_images_filepath = \"/content/t10k-images.idx3-ubyte\";\n",
        "test_labels_filepath = \"/content/t10k-labels.idx1-ubyte\";\n",
        "\n",
        "x_train = load_images(training_images_filepath);\n",
        "x_test = load_images(test_images_filepath);\n",
        "\n",
        "y_train = load_labels(training_labels_filepath);\n",
        "y_test = load_labels(test_labels_filepath);\n",
        "\n",
        "x_train = reshape_images(x_train);\n",
        "x_test = reshape_images(x_test);"
      ],
      "metadata": {
        "id": "HS8858VPK7lk"
      },
      "execution_count": 3,
      "outputs": []
    },
    {
      "cell_type": "code",
      "source": [
        "plt.figure(figsize=(10, 5));\n",
        "for i in range(5):\n",
        "    random_index_train = randint(1, 60000);\n",
        "    plt.subplot(1, 5, i + 1);\n",
        "    plt.imshow(x_train[random_index_train], cmap='gray');\n",
        "    plt.title(f'Label train: {y_train[random_index_train]}');\n",
        "    plt.axis('off');\n",
        "plt.show();\n",
        "\n",
        "plt.figure(figsize=(10, 5));\n",
        "for i in range(5):\n",
        "    random_index_test = randint(1, 10000);\n",
        "    plt.subplot(1, 5, i + 1);\n",
        "    plt.imshow(x_test[random_index_test], cmap='gray');\n",
        "    plt.title(f'Label test: {y_test[random_index_test]}');\n",
        "    plt.axis('off');\n",
        "plt.show();"
      ],
      "metadata": {
        "colab": {
          "base_uri": "https://localhost:8080/",
          "height": 367
        },
        "id": "BjbnMwV1THt-",
        "outputId": "6e60fa95-5c22-424b-8ece-dba09154f78a"
      },
      "execution_count": 4,
      "outputs": [
        {
          "output_type": "display_data",
          "data": {
            "text/plain": [
              "<Figure size 1000x500 with 5 Axes>"
            ],
            "image/png": "[encoded data removed]"
          },
          "metadata": {}
        },
        {
          "output_type": "display_data",
          "data": {
            "text/plain": [
              "<Figure size 1000x500 with 5 Axes>"
            ],
            "image/png": "[encoded data removed]"
          },
          "metadata": {}
        }
      ]
    },
    {
      "cell_type": "code",
      "source": [
        "x_train = x_train.reshape(-1, 784);\n",
        "x_test = x_test.reshape(-1, 784);"
      ],
      "metadata": {
        "id": "9_oF9FFBoYv6"
      },
      "execution_count": 5,
      "outputs": []
    },
    {
      "cell_type": "code",
      "source": [
        "print(f\"Размерность x_train: {x_train.shape}\");\n",
        "print(f\"Размерность y_train: {y_train.shape}\");\n",
        "print(\"----------------------------------\")\n",
        "print(f\"Размерность x_test: {x_test.shape}\");\n",
        "print(f\"Размерность y_test: {y_test.shape}\");"
      ],
      "metadata": {
        "colab": {
          "base_uri": "https://localhost:8080/"
        },
        "id": "v3NvYP_EmmO0",
        "outputId": "1ca453d7-5c54-4c2e-ed02-9ac7a89e444e"
      },
      "execution_count": 6,
      "outputs": [
        {
          "output_type": "stream",
          "name": "stdout",
          "text": [
            "Размерность x_train: (60000, 784)\n",
            "Размерность y_train: (60000,)\n",
            "----------------------------------\n",
            "Размерность x_test: (10000, 784)\n",
            "Размерность y_test: (10000,)\n"
          ]
        }
      ]
    },
    {
      "cell_type": "code",
      "source": [
        "x_train = x_train / 255;\n",
        "x_test = x_test / 255;"
      ],
      "metadata": {
        "id": "mko87tVMom7i"
      },
      "execution_count": 7,
      "outputs": []
    },
    {
      "cell_type": "code",
      "source": [
        "y_test = np.eye(10)[y_test];\n",
        "y_train = np.eye(10)[y_train];"
      ],
      "metadata": {
        "id": "NG4vpMA_s1Hq"
      },
      "execution_count": 8,
      "outputs": []
    },
    {
      "cell_type": "code",
      "source": [
        "def initialize_network_parameters(input_size, hidden_size, output_size):\n",
        "\n",
        "    # He initialization\n",
        "    W1 = np.random.randn(input_size, hidden_size) * np.sqrt(2. / input_size);\n",
        "\n",
        "    W2 = np.random.randn(hidden_size, output_size) * np.sqrt(2. / hidden_size);\n",
        "\n",
        "    b1 = np.zeros((1, hidden_size));\n",
        "    b2 = np.zeros((1, output_size));\n",
        "\n",
        "    return W1, b1, W2, b2;"
      ],
      "metadata": {
        "id": "Qw7yCcA5vp2V"
      },
      "execution_count": 9,
      "outputs": []
    },
    {
      "cell_type": "code",
      "source": [
        "def Relu(Z):\n",
        "    return np.maximum(Z, 0);\n",
        "\n",
        "def Relu_derivative(Z):\n",
        "    return Z > 0;\n",
        "\n",
        "def softmax(Z):\n",
        "    exp_Z = np.exp(Z - np.max(Z, axis=1, keepdims=True));\n",
        "    A = exp_Z / np.sum(exp_Z, axis=1, keepdims=True);\n",
        "    return A\n",
        "\n",
        "def cross_entropy(Y, A2):\n",
        "    L = A2.shape[0];\n",
        "    return -np.sum(Y * np.log(A2 + 1e-9)) / L;\n",
        "\n",
        "def accuracy(Y, A2):\n",
        "  return np.mean(np.argmax(A2, axis = 1) == np.argmax(Y, axis = 1))"
      ],
      "metadata": {
        "id": "HFBZqT7imTlb"
      },
      "execution_count": 10,
      "outputs": []
    },
    {
      "cell_type": "code",
      "source": [
        "def forward_propagation(X, w1, b1, w2, b2):\n",
        "\n",
        "    Z1 = np.dot(X, w1) + b1;\n",
        "    A1 = Relu(Z1);\n",
        "\n",
        "    Z2  = np.dot(A1, w2) + b2;\n",
        "    A2 = softmax(Z2);\n",
        "\n",
        "    return Z1, A1, Z2, A2;\n",
        "\n",
        "def backward_propagation(X, Y, Z1, A1, Z2, A2,\n",
        "                         w2):\n",
        "\n",
        "    L = Y.shape[0];\n",
        "\n",
        "    dZ2 = A2 - Y;\n",
        "\n",
        "    dW2 = np.dot(A1.T, dZ2) / L;\n",
        "    db2 = np.sum(dZ2, axis=0, keepdims=True) / L;\n",
        "\n",
        "    dA1 = np.dot(dZ2, w2.T);\n",
        "    dZ1 = dA1 * Relu_derivative(Z1);\n",
        "\n",
        "    dW1 = np.dot(X.T, dZ1) / L;\n",
        "    db1 = np.sum(dZ1, axis=0, keepdims=True) / L;\n",
        "\n",
        "    return dW1, db1, dW2, db2;\n",
        "\n",
        "def update_parameters_network(W1, b1, W2, b2,\n",
        "                              dW1, db1, dW2, db2, alpha):\n",
        "\n",
        "    W1 -= alpha * dW1\n",
        "    b1 -= alpha * db1\n",
        "    W2 -= alpha * dW2\n",
        "    b2 -= alpha * db2\n",
        "\n",
        "    return W1, b1, W2, b2"
      ],
      "metadata": {
        "id": "eRlNVd_opPKS"
      },
      "execution_count": 11,
      "outputs": []
    },
    {
      "cell_type": "code",
      "source": [
        "def train_network(x_train, y_train, x_test, y_test,\n",
        "                  input_layer_size, hiiden_layer_size, output_layer_size,\n",
        "                  count_epoch, batch_size, alpha):\n",
        "\n",
        "    W1, b1, W2, b2 = initialize_network_parameters(input_layer_size,\n",
        "                            hiiden_layer_size, output_layer_size);\n",
        "\n",
        "    length_X_train = x_train.shape[0];\n",
        "\n",
        "    for epoch in range(count_epoch):\n",
        "\n",
        "        time_start = time();\n",
        "        shuffle = np.random.permutation(length_X_train)\n",
        "        x_train_shuffled = x_train[shuffle]\n",
        "        y_train_shuffled = y_train[shuffle]\n",
        "\n",
        "        for batch in range(0, length_X_train, batch_size):\n",
        "\n",
        "            x_batch = x_train_shuffled[batch:batch+batch_size]\n",
        "            y_batch = y_train_shuffled[batch:batch+batch_size]\n",
        "\n",
        "            Z1, A1, Z2, A2 = forward_propagation(x_batch, W1, b1, W2, b2);\n",
        "\n",
        "            dW1, db1, dW2, db2 = backward_propagation(x_batch, y_batch,\n",
        "                        Z1, A1, Z2, A2, W2);\n",
        "\n",
        "            W1, b1, W2, b2 = update_parameters_network(W1, b1, W2, b2,\n",
        "                              dW1, db1, dW2, db2, alpha);\n",
        "\n",
        "        _, _, _ , A2_train = forward_propagation(x_train, W1, b1, W2, b2);\n",
        "\n",
        "        loss = cross_entropy(y_train, A2_train);\n",
        "        accuracy_train = accuracy(A2_train, y_train)\n",
        "\n",
        "        time_end = time();\n",
        "\n",
        "        print(f\"Epoch: {epoch}; time in epoch: {time_end - time_start: .2f} s.; loss: {loss: .4f}; accuracy train: {accuracy_train: .4f};\")\n",
        "        print(\"----------------------------------------------------------------\")\n",
        "\n",
        "    _, _, _, A2_test = forward_propagation(x_test, W1, b1, W2, b2);\n",
        "    accuracy_test = accuracy(A2_test, y_test);\n",
        "\n",
        "    print(\"\");\n",
        "    print(f\"accuracy test: {accuracy_test: .4f}\");"
      ],
      "metadata": {
        "id": "kyGHp5QjvGvv"
      },
      "execution_count": 12,
      "outputs": []
    },
    {
      "cell_type": "code",
      "source": [
        "input_layer_size = 784;\n",
        "hidden_layer_size = 300;\n",
        "outputsize = 10;\n",
        "count_epoch = 20;\n",
        "batch_size = 32;\n",
        "alpha = 0.1;\n",
        "\n",
        "train_network(x_train, y_train, x_test, y_test,\n",
        "                  input_layer_size, hidden_layer_size, outputsize,\n",
        "                  count_epoch, batch_size, alpha);"
      ],
      "metadata": {
        "id": "utdRg9Tc60PZ",
        "colab": {
          "base_uri": "https://localhost:8080/"
        },
        "outputId": "21078739-268d-4769-93a1-2fee1e21e79f"
      },
      "execution_count": 13,
      "outputs": [
        {
          "output_type": "stream",
          "name": "stdout",
          "text": [
            "Epoch: 0; time in epoch:  19.97 s.; loss:  0.1565; accuracy train:  0.9566;\n",
            "----------------------------------------------------------------\n",
            "Epoch: 1; time in epoch:  8.59 s.; loss:  0.0990; accuracy train:  0.9726;\n",
            "----------------------------------------------------------------\n",
            "Epoch: 2; time in epoch:  9.46 s.; loss:  0.0733; accuracy train:  0.9799;\n",
            "----------------------------------------------------------------\n",
            "Epoch: 3; time in epoch:  7.79 s.; loss:  0.0605; accuracy train:  0.9828;\n",
            "----------------------------------------------------------------\n",
            "Epoch: 4; time in epoch:  8.04 s.; loss:  0.0459; accuracy train:  0.9877;\n",
            "----------------------------------------------------------------\n",
            "Epoch: 5; time in epoch:  9.07 s.; loss:  0.0373; accuracy train:  0.9907;\n",
            "----------------------------------------------------------------\n",
            "Epoch: 6; time in epoch:  7.74 s.; loss:  0.0332; accuracy train:  0.9918;\n",
            "----------------------------------------------------------------\n",
            "Epoch: 7; time in epoch:  13.99 s.; loss:  0.0270; accuracy train:  0.9936;\n",
            "----------------------------------------------------------------\n",
            "Epoch: 8; time in epoch:  8.59 s.; loss:  0.0208; accuracy train:  0.9957;\n",
            "----------------------------------------------------------------\n",
            "Epoch: 9; time in epoch:  7.15 s.; loss:  0.0194; accuracy train:  0.9964;\n",
            "----------------------------------------------------------------\n",
            "Epoch: 10; time in epoch:  7.73 s.; loss:  0.0156; accuracy train:  0.9970;\n",
            "----------------------------------------------------------------\n",
            "Epoch: 11; time in epoch:  8.46 s.; loss:  0.0130; accuracy train:  0.9982;\n",
            "----------------------------------------------------------------\n",
            "Epoch: 12; time in epoch:  7.77 s.; loss:  0.0118; accuracy train:  0.9984;\n",
            "----------------------------------------------------------------\n",
            "Epoch: 13; time in epoch:  8.56 s.; loss:  0.0098; accuracy train:  0.9990;\n",
            "----------------------------------------------------------------\n",
            "Epoch: 14; time in epoch:  6.48 s.; loss:  0.0092; accuracy train:  0.9990;\n",
            "----------------------------------------------------------------\n",
            "Epoch: 15; time in epoch:  8.69 s.; loss:  0.0080; accuracy train:  0.9993;\n",
            "----------------------------------------------------------------\n",
            "Epoch: 16; time in epoch:  7.74 s.; loss:  0.0066; accuracy train:  0.9996;\n",
            "----------------------------------------------------------------\n",
            "Epoch: 17; time in epoch:  7.10 s.; loss:  0.0056; accuracy train:  0.9997;\n",
            "----------------------------------------------------------------\n",
            "Epoch: 18; time in epoch:  8.67 s.; loss:  0.0051; accuracy train:  0.9998;\n",
            "----------------------------------------------------------------\n",
            "Epoch: 19; time in epoch:  6.58 s.; loss:  0.0055; accuracy train:  0.9997;\n",
            "----------------------------------------------------------------\n",
            "\n",
            "accuracy test:  0.9816\n"
          ]
        }
      ]
    }
  ]
}