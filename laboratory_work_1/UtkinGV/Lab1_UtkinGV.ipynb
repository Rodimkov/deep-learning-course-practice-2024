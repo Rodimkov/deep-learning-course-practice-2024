{
 "cells": [
  {
   "cell_type": "markdown",
   "metadata": {},
   "source": [
    "# Лабораторная работа 1. Метод обратного распространения ошибки.\n",
    "## Выполнил: Уткин Г.В. (гр. 3823М1ПМкн)"
   ]
  },
  {
   "cell_type": "markdown",
   "metadata": {},
   "source": [
    "## Задачи работы\n",
    "Выполнение работы предполагает решение следующих задач:\n",
    "1. Изучение общей схемы работы метода обратного распространения ошибки с помощью стохастического градиентного спуска.\n",
    "2. Вывод математических формул для вычисления градиентов функции ошибки по параметрам нейронной сети и формул коррекции весов.\n",
    "3. Реализация и тестирование метода обратного распространения ошибки для классификации рукописных цифр из набора данных MNIST.\n",
    "\n",
    "Конфигурация нейронной сети:\n",
    "1. Входной слой содержит $w \\times h$ нейронов, что соответствует разрешению одноканального изображения (для изображений в базе MNIST составляет $28 \\times 28$).\n",
    "2. Выходной слой содержит $k$ нейронов, что соответствует количеству классов изображений (для задачи классификации рукописных цифр MNIST – $10$ классов).\n",
    "3. Скрытый слой содержит $s$ нейронов (параметр).\n",
    "4. Скорость обучения (learning rate), размер пачки данных (batch size), количество эпох являются параметрами метода обучения.\n",
    "5. В качестве функции активации на скрытом слое используется функция ReLU. В качестве функции активации на выходном слое используется функция softmax. Входной слой не содержит функцию активации.\n",
    "6. В качестве функции ошибки используется кросс-энтропия. Функция активации softmax вместе с функцией ошибки кросс-энтропия упрощают вывод формул.\n",
    "7. Набор параметров для демонстрации работы нейронной сети (и выложенные материалы и демонстрации в т/к выполняется на данных параметрах):\n",
    "    - Размер пачки может меняться от $8$ до $64$ изображений (в зависимости от доступного объема памяти).\n",
    "    - Скорость обучения - $0.1.$\n",
    "    - Количество скрытых нейронов $s$ - $300.$\n",
    "    - Количество эпох – $20.$"
   ]
  },
  {
   "cell_type": "code",
   "execution_count": 1,
   "metadata": {},
   "outputs": [],
   "source": [
    "import numpy as np\n",
    "import matplotlib.pyplot as plt"
   ]
  },
  {
   "cell_type": "code",
   "execution_count": 2,
   "metadata": {},
   "outputs": [
    {
     "name": "stdout",
     "output_type": "stream",
     "text": [
      "Размеры тренировочных данных. train_images:  (60000, 28, 28) , train_labels:  (60000,)\n",
      "Размеры тестовых данных. test_images:  (10000, 28, 28) , test_labels:  (10000,)\n"
     ]
    },
    {
     "data": {
      "image/png": "[encoded data removed]",
      "text/plain": [
       "<Figure size 1000x500 with 10 Axes>"
      ]
     },
     "metadata": {},
     "output_type": "display_data"
    }
   ],
   "source": [
    "def load_mnist_images(filename):\n",
    "    with open(filename, 'rb') as f:\n",
    "        f.read(16)  \n",
    "        images = np.fromfile(f, dtype=np.uint8)\n",
    "        images = images / 255.0\n",
    "        images = images.reshape(-1, 28, 28)\n",
    "    return images\n",
    "\n",
    "def load_mnist_labels(filename):\n",
    "    with open(filename, 'rb') as f:\n",
    "        f.read(8)\n",
    "        labels = np.fromfile(f, dtype=np.uint8)\n",
    "    return labels\n",
    "\n",
    "train_images = load_mnist_images('archive/train-images-idx3-ubyte/train-images-idx3-ubyte')\n",
    "train_labels = load_mnist_labels('archive/train-labels-idx1-ubyte/train-labels-idx1-ubyte')\n",
    "test_images = load_mnist_images('archive/t10k-images-idx3-ubyte/t10k-images-idx3-ubyte')\n",
    "test_labels = load_mnist_labels('archive/t10k-labels-idx1-ubyte/t10k-labels-idx1-ubyte')\n",
    "print(\"Размеры тренировочных данных. train_images: \", train_images.shape, \", train_labels: \", train_labels.shape)\n",
    "print(\"Размеры тестовых данных. test_images: \", test_images.shape, \", test_labels: \", test_labels.shape)\n",
    "\n",
    "plt.figure(figsize=(10, 5))\n",
    "for i in range(10):\n",
    "    plt.subplot(2, 5, i + 1)  \n",
    "    plt.imshow(train_images[i], cmap='gray')\n",
    "    plt.title(f'Label: {train_labels[i]}')  \n",
    "    plt.axis('off')\n",
    "\n",
    "plt.show()"
   ]
  },
  {
   "cell_type": "code",
   "execution_count": 3,
   "metadata": {},
   "outputs": [],
   "source": [
    "class neural_network:\n",
    "    def __init__(self, inputs, hiddens, outputs, lr):\n",
    "        self.inputs_count = inputs\n",
    "        self.hiddens_count = hiddens\n",
    "        self.output_count = outputs\n",
    "        self.lr = lr\n",
    "\n",
    "        # Инициализация весов. Вес от входного к скрытому.\n",
    "        self.W1 = np.random.randn(self.inputs_count, self.hiddens_count) * np.sqrt(2.0/self.inputs_count)\n",
    "        # Инициализация весов. Вес от скрытого к выходному.\n",
    "        self.W2 = np.random.randn(self.hiddens_count, self.output_count) * np.sqrt(2.0/self.hiddens_count)\n",
    "\n",
    "        # Смещения\n",
    "        self.b1 = np.zeros((1, self.hiddens_count)) # Для скрытого слоя\n",
    "        self.b2 = np.zeros((1, self.output_count)) # Для выходного слоя\n",
    "    \n",
    "    def forward(self, X):\n",
    "        self.Z1 = np.dot(X, self.W1) + self.b1  # Линейная часть скрытого слоя\n",
    "        self.A1 = self.ReLU(self.Z1)  \n",
    "        \n",
    "        self.Z2 = np.dot(self.A1, self.W2) + self.b2  # Линейная часть выходного слоя\n",
    "        self.A2 = self.softmax(self.Z2)\n",
    "        return self.A2\n",
    "\n",
    "    def backward(self, X, y, output):\n",
    "        m = X.shape[0]\n",
    "\n",
    "        # Вычисление ошибки на выходном слое\n",
    "        delta2 = output # output результат softmax из forward.\n",
    "        delta2[range(m), y] -= 1  # Ошибка выхода, вычитаем 1 от правильного класса\n",
    "        delta2 /= m  # Среднее значение ошибки\n",
    "        # Градиенты для W2 и b2\n",
    "        dW2 = np.dot(self.A1.T, delta2)\n",
    "        db2 = np.sum(delta2, axis=0, keepdims=True)\n",
    "\n",
    "        # Ошибка на скрытом слое\n",
    "        delta1 = np.dot(delta2, self.W2.T) * self.dReLU(self.Z1)\n",
    "\n",
    "        # Градиенты для W1 и b1\n",
    "        dW1 = np.dot(X.T, delta1)\n",
    "        db1 = np.sum(delta1, axis=0, keepdims=True)\n",
    "\n",
    "        # Обновление весов с использованием градиентного спуска\n",
    "        self.W1 -= self.lr * dW1\n",
    "        self.b1 -= self.lr * db1\n",
    "        self.W2 -= self.lr * dW2\n",
    "        self.b2 -= self.lr * db2\n",
    "    \n",
    "    def train(self, X_train, y_train, X_test, y_test, epochs, batch_size):\n",
    "        for epoch in range(epochs):\n",
    "            indices = np.random.permutation(X_train.shape[0]) # Перемешка данных\n",
    "            X_train_shuffled = X_train[indices]\n",
    "            y_train_shuffled = y_train[indices]\n",
    "\n",
    "            for i in range(0, X_train.shape[0], batch_size):\n",
    "                X_batch = X_train_shuffled[i:i + batch_size] # Получаем мини-пачки данных\n",
    "                y_batch = y_train_shuffled[i:i + batch_size]\n",
    "\n",
    "                output = self.forward(X_batch)\n",
    "                self.backward(X_batch, y_batch, output)\n",
    "\n",
    "            predictions = self.forward(X_train)\n",
    "            loss = self.cross_entropy_loss(predictions, y_train)\n",
    "            acc = self.accuracy(X_train, y_train)\n",
    "            print(f'Epoch {epoch + 1}/{epochs}, Loss: {loss}, Accuracy: {acc}')\n",
    "\n",
    "        test_acc = self.accuracy(X_test, y_test)\n",
    "        test_output = self.forward(X_test)\n",
    "        test_loss = self.cross_entropy_loss(test_output, y_test)\n",
    "        print(f'Результат на тестовой выборке: loss: {test_loss}, accuracy: {test_acc}')\n",
    "    \n",
    "    def ReLU(self, x):\n",
    "        return np.maximum(0, x)\n",
    "\n",
    "    def dReLU(self, x):\n",
    "        return np.where(x > 0, 1, 0)\n",
    "        \n",
    "    def softmax(self, x):\n",
    "        exp_scores = np.exp(x - np.max(x, axis = 1, keepdims = True))\n",
    "        return exp_scores / np.sum(exp_scores, axis = 1, keepdims = True)\n",
    "\n",
    "    def predict(self, x):\n",
    "        output = self.forward(x)\n",
    "        return np.argmax(output, axis=1)\n",
    "\n",
    "    def accuracy(self, X, y):\n",
    "        predictions = self.predict(X)\n",
    "        return np.mean(predictions == y)\n",
    "\n",
    "    def cross_entropy_loss(self, predictions, labels):\n",
    "        m = labels.shape[0]\n",
    "        log_likelihood = -np.log(predictions[range(m), labels])\n",
    "        loss = np.sum(log_likelihood) / m\n",
    "        return loss\n"
   ]
  },
  {
   "cell_type": "code",
   "execution_count": 4,
   "metadata": {},
   "outputs": [
    {
     "name": "stdout",
     "output_type": "stream",
     "text": [
      "Epoch 1/20, Loss: 0.15687421634558546, Accuracy: 0.9547833333333333\n",
      "Epoch 2/20, Loss: 0.09831966451116328, Accuracy: 0.9732666666666666\n",
      "Epoch 3/20, Loss: 0.0731616548892151, Accuracy: 0.9799\n",
      "Epoch 4/20, Loss: 0.05658967775554924, Accuracy: 0.98545\n",
      "Epoch 5/20, Loss: 0.047776365958919306, Accuracy: 0.9877\n",
      "Epoch 6/20, Loss: 0.03914728141842508, Accuracy: 0.9900166666666667\n",
      "Epoch 7/20, Loss: 0.03127115142352095, Accuracy: 0.9922833333333333\n",
      "Epoch 8/20, Loss: 0.027422969728342506, Accuracy: 0.9929833333333333\n",
      "Epoch 9/20, Loss: 0.023360415142140566, Accuracy: 0.9945\n",
      "Epoch 10/20, Loss: 0.020716418915665013, Accuracy: 0.9956333333333334\n",
      "Epoch 11/20, Loss: 0.017263880300909723, Accuracy: 0.9967\n",
      "Epoch 12/20, Loss: 0.01432147156830029, Accuracy: 0.9978166666666667\n",
      "Epoch 13/20, Loss: 0.013612013330310466, Accuracy: 0.9979333333333333\n",
      "Epoch 14/20, Loss: 0.009868958100116154, Accuracy: 0.9990666666666667\n",
      "Epoch 15/20, Loss: 0.009045232242868309, Accuracy: 0.9991166666666667\n",
      "Epoch 16/20, Loss: 0.008416332133259312, Accuracy: 0.9992666666666666\n",
      "Epoch 17/20, Loss: 0.0072918651725926535, Accuracy: 0.99945\n",
      "Epoch 18/20, Loss: 0.005990316964383606, Accuracy: 0.9996833333333334\n",
      "Epoch 19/20, Loss: 0.005065640946469922, Accuracy: 0.9998333333333334\n",
      "Epoch 20/20, Loss: 0.004648178873273594, Accuracy: 0.99985\n",
      "Результат на тестовой выборке: loss: 0.06131399221974557, accuracy: 0.982\n"
     ]
    }
   ],
   "source": [
    "input_size = 28 * 28  \n",
    "hidden_size = 300  \n",
    "output_size = 10  \n",
    "learning_rate = 0.1\n",
    "epochs = 20\n",
    "batch_size = 32\n",
    "\n",
    "train_images = train_images.reshape(-1, 28 * 28)  # изображения в вектор\n",
    "test_images = test_images.reshape(-1, 28 * 28)\n",
    "\n",
    "\n",
    "nn = neural_network(input_size, hidden_size, output_size, learning_rate)\n",
    "\n",
    "nn.train(train_images, train_labels, test_images, test_labels, epochs, batch_size)"
   ]
  },
  {
   "cell_type": "code",
   "execution_count": null,
   "metadata": {},
   "outputs": [],
   "source": []
  }
 ],
 "metadata": {
  "kernelspec": {
   "display_name": "Python 3 (ipykernel)",
   "language": "python",
   "name": "python3"
  },
  "language_info": {
   "codemirror_mode": {
    "name": "ipython",
    "version": 3
   },
   "file_extension": ".py",
   "mimetype": "text/x-python",
   "name": "python",
   "nbconvert_exporter": "python",
   "pygments_lexer": "ipython3",
   "version": "3.12.6"
  }
 },
 "nbformat": 4,
 "nbformat_minor": 4
}
