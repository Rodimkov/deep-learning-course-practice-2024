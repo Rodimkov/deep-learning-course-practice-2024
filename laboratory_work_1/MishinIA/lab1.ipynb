{
  "nbformat": 4,
  "nbformat_minor": 0,
  "metadata": {
    "colab": {
      "provenance": []
    },
    "kernelspec": {
      "name": "python3",
      "display_name": "Python 3"
    },
    "language_info": {
      "name": "python"
    }
  },
  "cells": [
    {
      "cell_type": "code",
      "source": [
        "import numpy as np\n",
        "import matplotlib.pyplot as plt\n",
        "from sklearn.datasets import fetch_openml\n",
        "from sklearn.preprocessing import OneHotEncoder\n",
        "import time"
      ],
      "metadata": {
        "id": "PBEdykG3z-J6"
      },
      "execution_count": 1,
      "outputs": []
    },
    {
      "cell_type": "code",
      "source": [
        "def load_mnist():\n",
        "    mnist = fetch_openml(\"mnist_784\", version=1)\n",
        "    data = mnist['data'].values / 255.0  # Нормализуем значения от 0 до 1\n",
        "    labels = mnist['target'].astype(int).values\n",
        "    return data, labels"
      ],
      "metadata": {
        "id": "RrdYKKCOz_6q"
      },
      "execution_count": 2,
      "outputs": []
    },
    {
      "cell_type": "code",
      "source": [
        "X, y = load_mnist()"
      ],
      "metadata": {
        "id": "Ri3-MoK70BY6"
      },
      "execution_count": 3,
      "outputs": []
    },
    {
      "cell_type": "code",
      "source": [
        "encoder = OneHotEncoder(sparse_output=False)\n",
        "y_one_hot = encoder.fit_transform(y.reshape(-1, 1))"
      ],
      "metadata": {
        "id": "a2a0W2CD0XLD"
      },
      "execution_count": 4,
      "outputs": []
    },
    {
      "cell_type": "code",
      "source": [
        "train_X, test_X = X[:60000], X[60000:]\n",
        "train_y, test_y = y_one_hot[:60000], y_one_hot[60000:]"
      ],
      "metadata": {
        "id": "yzTxaPVc0F2U"
      },
      "execution_count": 5,
      "outputs": []
    },
    {
      "cell_type": "code",
      "source": [
        "def show_sample_images(X, y, num_samples=5):\n",
        "    fig, axes = plt.subplots(1, num_samples, figsize=(10, 5))\n",
        "    for i in range(num_samples):\n",
        "        idx = np.random.randint(0, X.shape[0])\n",
        "\n",
        "        image = X[idx].reshape(28, 28)\n",
        "        label = np.argmax(y[idx])\n",
        "        axes[i].imshow(image, cmap='gray')\n",
        "        axes[i].set_title(f\"Label: {label}\")\n",
        "        axes[i].axis('off')\n",
        "\n",
        "    plt.show()\n",
        "\n",
        "show_sample_images(train_X, train_y)"
      ],
      "metadata": {
        "colab": {
          "base_uri": "https://localhost:8080/",
          "height": 192
        },
        "id": "6sqDo2cV0I-V",
        "outputId": "024496bb-3a1a-4217-a00c-8083b59124d0"
      },
      "execution_count": 6,
      "outputs": [
        {
          "output_type": "display_data",
          "data": {
            "text/plain": [
              "<Figure size 1000x500 with 5 Axes>"
            ],
            "image/png": "[encoded data removed]"
          },
          "metadata": {}
        }
      ]
    },
    {
      "cell_type": "code",
      "source": [
        "def relu(x):\n",
        "    return np.maximum(0, x)\n",
        "\n",
        "def relu_derivative(x):\n",
        "    return (x > 0).astype(float)\n",
        "\n",
        "def softmax(x):\n",
        "    exp_x = np.exp(x - np.max(x, axis=1, keepdims=True))  # для численной устойчивости\n",
        "    return exp_x / np.sum(exp_x, axis=1, keepdims=True)\n",
        "\n",
        "def cross_entropy_loss(y, y_hat):\n",
        "    m = y.shape[0]\n",
        "    return -np.sum(y * np.log(y_hat)) / m\n",
        "\n",
        "def backpropagation(X, y, hidden_layer_output, output_layer_output, W1, b1, W2, b2, learning_rate=0.1):\n",
        "    m = X.shape[0]\n",
        "\n",
        "    dL_dz2 = output_layer_output - y\n",
        "    dL_dW2 = np.dot(hidden_layer_output.T, dL_dz2) / m\n",
        "    dL_db2 = np.sum(dL_dz2, axis=0, keepdims=True) / m\n",
        "\n",
        "    dL_dz1 = np.dot(dL_dz2, W2.T) * relu_derivative(hidden_layer_output)\n",
        "    dL_dW1 = np.dot(X.T, dL_dz1) / m\n",
        "    dL_db1 = np.sum(dL_dz1, axis=0, keepdims=True) / m\n",
        "\n",
        "    W1 -= learning_rate * dL_dW1\n",
        "    b1 -= learning_rate * dL_db1\n",
        "    W2 -= learning_rate * dL_dW2\n",
        "    b2 -= learning_rate * dL_db2\n",
        "\n",
        "    return W1, b1, W2, b2\n",
        "\n",
        "def accuracy(y_true, y_pred):\n",
        "    return np.mean(np.argmax(y_true, axis=1) == np.argmax(y_pred, axis=1))"
      ],
      "metadata": {
        "id": "Ny_tc_fR0NFu"
      },
      "execution_count": 7,
      "outputs": []
    },
    {
      "cell_type": "code",
      "source": [
        "# Инициализация параметров сети\n",
        "input_size = 784  # 28x28\n",
        "hidden_size = 300\n",
        "output_size = 10  # 10 классов\n",
        "learning_rate = 0.1\n",
        "\n",
        "# Инициализация весов и смещений\n",
        "W1 = np.random.randn(input_size, hidden_size) * 0.01\n",
        "b1 = np.zeros((1, hidden_size))\n",
        "W2 = np.random.randn(hidden_size, output_size) * 0.01\n",
        "b2 = np.zeros((1, output_size))\n",
        "\n",
        "# Параметры обучения\n",
        "epochs = 20\n",
        "batch_size = 64\n",
        "num_batches = len(train_X) // batch_size\n",
        "\n",
        "for epoch in range(epochs):\n",
        "    epoch_start_time = time.time()\n",
        "    epoch_accuracy = 0\n",
        "\n",
        "    for batch in range(num_batches):\n",
        "        batch_X = train_X[batch * batch_size:(batch + 1) * batch_size]\n",
        "        batch_y = train_y[batch * batch_size:(batch + 1) * batch_size]\n",
        "\n",
        "        # Прямой проход\n",
        "        hidden_layer_input = np.dot(batch_X, W1) + b1\n",
        "        hidden_layer_output = relu(hidden_layer_input)\n",
        "        output_layer_input = np.dot(hidden_layer_output, W2) + b2\n",
        "        output_layer_output = softmax(output_layer_input)\n",
        "\n",
        "        # Обратное распространение ошибки\n",
        "        W1, b1, W2, b2 = backpropagation(batch_X, batch_y, hidden_layer_output, output_layer_output, W1, b1, W2, b2, learning_rate)\n",
        "\n",
        "        # Вычисление точности для текущего батча\n",
        "        batch_accuracy = accuracy(batch_y, output_layer_output)\n",
        "        epoch_accuracy += batch_accuracy\n",
        "\n",
        "    epoch_end_time = time.time()\n",
        "    avg_epoch_accuracy = epoch_accuracy / num_batches\n",
        "    print(f\"Epoch {epoch + 1}/{epochs} - Train accuracy: {avg_epoch_accuracy:.4f} - Time: {epoch_end_time - epoch_start_time:.2f}s\")\n",
        "\n",
        "hidden_layer_input = np.dot(test_X, W1) + b1\n",
        "hidden_layer_output = relu(hidden_layer_input)\n",
        "output_layer_input = np.dot(hidden_layer_output, W2) + b2\n",
        "output_layer_output = softmax(output_layer_input)\n",
        "\n",
        "test_accuracy = accuracy(test_y, output_layer_output)\n",
        "print(f\"Test accuracy: {test_accuracy:.4f}\")"
      ],
      "metadata": {
        "colab": {
          "base_uri": "https://localhost:8080/"
        },
        "id": "KfGFnsgB0S9a",
        "outputId": "48e0af43-1645-4f4f-d9b1-60f3aa74cc4b"
      },
      "execution_count": 8,
      "outputs": [
        {
          "output_type": "stream",
          "name": "stdout",
          "text": [
            "Epoch 1/20 - Train accuracy: 0.8671 - Time: 4.73s\n",
            "Epoch 2/20 - Train accuracy: 0.9332 - Time: 3.82s\n",
            "Epoch 3/20 - Train accuracy: 0.9499 - Time: 5.84s\n",
            "Epoch 4/20 - Train accuracy: 0.9605 - Time: 3.75s\n",
            "Epoch 5/20 - Train accuracy: 0.9676 - Time: 3.89s\n",
            "Epoch 6/20 - Train accuracy: 0.9729 - Time: 6.14s\n",
            "Epoch 7/20 - Train accuracy: 0.9765 - Time: 3.83s\n",
            "Epoch 8/20 - Train accuracy: 0.9795 - Time: 3.86s\n",
            "Epoch 9/20 - Train accuracy: 0.9818 - Time: 5.99s\n",
            "Epoch 10/20 - Train accuracy: 0.9841 - Time: 3.76s\n",
            "Epoch 11/20 - Train accuracy: 0.9860 - Time: 4.14s\n",
            "Epoch 12/20 - Train accuracy: 0.9874 - Time: 5.96s\n",
            "Epoch 13/20 - Train accuracy: 0.9890 - Time: 3.85s\n",
            "Epoch 14/20 - Train accuracy: 0.9903 - Time: 3.80s\n",
            "Epoch 15/20 - Train accuracy: 0.9911 - Time: 6.01s\n",
            "Epoch 16/20 - Train accuracy: 0.9924 - Time: 3.83s\n",
            "Epoch 17/20 - Train accuracy: 0.9932 - Time: 3.72s\n",
            "Epoch 18/20 - Train accuracy: 0.9938 - Time: 5.82s\n",
            "Epoch 19/20 - Train accuracy: 0.9948 - Time: 3.98s\n",
            "Epoch 20/20 - Train accuracy: 0.9954 - Time: 3.77s\n",
            "Test accuracy: 0.9803\n"
          ]
        }
      ]
    }
  ]
}