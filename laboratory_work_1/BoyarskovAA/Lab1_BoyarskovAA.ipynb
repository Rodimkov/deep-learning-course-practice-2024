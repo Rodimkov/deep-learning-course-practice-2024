{
 "cells": [
  {
   "cell_type": "code",
   "execution_count": 1,
   "id": "74c3bc0b",
   "metadata": {},
   "outputs": [],
   "source": [
    "from matplotlib import pyplot as plt\n",
    "import numpy as np\n",
    "import time"
   ]
  },
  {
   "cell_type": "code",
   "execution_count": 2,
   "id": "75496510",
   "metadata": {},
   "outputs": [],
   "source": [
    "def load_mnist_images(filename):\n",
    "    with open(filename, 'rb') as f:\n",
    "        f.read(16)  \n",
    "        images = np.fromfile(f, dtype=np.uint8)\n",
    "        images = images / 255.0\n",
    "        images = images.reshape(-1, 28, 28)\n",
    "    return images\n",
    "\n",
    "def load_mnist_labels(filename):\n",
    "    with open(filename, 'rb') as f:\n",
    "        f.read(8)\n",
    "        labels = np.fromfile(f, dtype=np.uint8)\n",
    "    return labels\n",
    "\n"
   ]
  },
  {
   "cell_type": "code",
   "execution_count": 3,
   "id": "9a0ebc7e",
   "metadata": {},
   "outputs": [
    {
     "name": "stdout",
     "output_type": "stream",
     "text": [
      "Размеры. Тренировочная выборка:  (60000, 28, 28) , метки:  (60000,)\n",
      "Размеры. Тестовая выборка:  (10000, 28, 28) , метки:  (10000,)\n"
     ]
    },
    {
     "data": {
      "image/png": "[encoded data removed]",
      "text/plain": [
       "<Figure size 1000x500 with 15 Axes>"
      ]
     },
     "metadata": {},
     "output_type": "display_data"
    }
   ],
   "source": [
    "train_images = load_mnist_images('data/train-images-idx3-ubyte/train-images-idx3-ubyte')\n",
    "train_labels = load_mnist_labels('data/train-labels-idx1-ubyte/train-labels-idx1-ubyte')\n",
    "test_images = load_mnist_images('data/t10k-images-idx3-ubyte/t10k-images-idx3-ubyte')\n",
    "test_labels = load_mnist_labels('data/t10k-labels-idx1-ubyte/t10k-labels-idx1-ubyte')\n",
    "print(\"Размеры. Тренировочная выборка: \", train_images.shape, \", метки: \", train_labels.shape)\n",
    "print(\"Размеры. Тестовая выборка: \", test_images.shape, \", метки: \", test_labels.shape)\n",
    "\n",
    "plt.figure(figsize=(10, 5))\n",
    "for i in range(15):\n",
    "    plt.subplot(3, 5, i + 1)  \n",
    "    plt.imshow(train_images[i], cmap='gray')\n",
    "    plt.title(f'Метка: {train_labels[i]}')  \n",
    "    plt.axis('off')\n",
    "\n",
    "plt.show()"
   ]
  },
  {
   "cell_type": "code",
   "execution_count": 4,
   "id": "35b399ba",
   "metadata": {},
   "outputs": [],
   "source": [
    "def ReLU(x):\n",
    "    return np.maximum(0, x)\n",
    "\n",
    "def diff_ReLU(x):\n",
    "    return np.array(x>=0, dtype=np.int8)\n",
    "\n",
    "def softmax(x):\n",
    "    e_x = np.exp(x - np.max(x, axis = 1, keepdims = True))\n",
    "    return e_x / np.sum(e_x, axis = 1, keepdims = True)\n",
    "\n",
    "#def cross_entropy(y_pred, y_true):\n",
    "#    batch_size = y_pred.shape[0]\n",
    "#    res = np.log(1 - y_pred)\n",
    "#    res[range(batch_size), y_true.flatten()] = np.log(y_pred)[range(batch_size), y_true.flatten()]\n",
    "#    return -np.sum(res) / batch_size\n",
    "def cross_entropy(y_pred, y_true):\n",
    "    epsilon = 1e-15  \n",
    "    y_pred = np.clip(y_pred, epsilon, 1 - epsilon)\n",
    "    batch_size = y_pred.shape[0]\n",
    "    res = np.log(1 - y_pred)\n",
    "    res[range(batch_size), y_true.flatten()] = np.log(y_pred)[range(batch_size), y_true.flatten()]\n",
    "    return -np.sum(res) / batch_size\n",
    "\n",
    "\n",
    "\n",
    "\n",
    "def accuracy(y_pred, y_true):\n",
    "    y_pred = np.argmax(y_pred, axis=1)\n",
    "    return np.mean(y_pred == y_true)"
   ]
  },
  {
   "cell_type": "code",
   "execution_count": 5,
   "id": "725f28fb",
   "metadata": {},
   "outputs": [],
   "source": [
    "input_size = 28 * 28  \n",
    "hidden_size = 300  \n",
    "output_size = 10  \n",
    "learning_rate = 0.1\n",
    "epochs = 20\n",
    "batch_size = 32\n",
    "\n",
    "class NN:\n",
    "    def __init__(self, hidden_size):\n",
    "        self.hidden_neurons_count = hidden_size\n",
    "        self.input_neurons_count = input_size\n",
    "        self.output_neurons_count = output_size\n",
    "        \n",
    "        self.W = np.random.randn(self.input_neurons_count, self.hidden_neurons_count) * np.sqrt(2.0/self.input_neurons_count)\n",
    "        self.w = np.zeros((1, self.hidden_neurons_count))\n",
    "        \n",
    "        self.V = np.random.randn(self.hidden_neurons_count, self.output_neurons_count) * np.sqrt(2.0/self.hidden_neurons_count)\n",
    "        self.v = np.zeros((1, self.output_neurons_count))\n",
    "    \n",
    "    def fit(self, x, y, lr):\n",
    "        self.forward(x)\n",
    "        self.backward(x, y)\n",
    "        self.step(lr)\n",
    "        return self.g\n",
    "    \n",
    "    def predict(self, x):\n",
    "        self.forward(x)\n",
    "        return self.g\n",
    "    \n",
    "    def forward(self, x):\n",
    "        self.s = x @ self.W + self.w\n",
    "        self.z = ReLU(self.s)\n",
    "        self.delta_relu = diff_ReLU(self.s)\n",
    "        \n",
    "        self.t = self.z @ self.V + self.v\n",
    "        self.g = softmax(self.t)\n",
    "        \n",
    "    def backward(self, x, y):\n",
    "        batch_size = x.shape[0]\n",
    "        \n",
    "        self.delta_t = np.copy(self.g)\n",
    "        self.delta_t[range(batch_size), y.flatten()] -= 1\n",
    "        \n",
    "        self.dV = self.z.T @ self.delta_t\n",
    "        self.dv = np.sum(self.delta_t, axis=0, keepdims=True)\n",
    "        \n",
    "        self.delta_z = self.delta_t @ self.V.T\n",
    "        self.delta_s = self.delta_z * self.delta_relu\n",
    "        \n",
    "        self.dW = x.T @ self.delta_s \n",
    "        self.dw = np.sum(self.delta_s, axis=0, keepdims=True)\n",
    "\n",
    "    \n",
    "    def step(self, lr):\n",
    "        batch_size = self.g.shape[1]\n",
    "        theta = lr / batch_size\n",
    "        \n",
    "        self.W -= theta * self.dW\n",
    "        self.w -= theta * self.dw\n",
    "        self.V -= theta * self.dV\n",
    "        self.v -= theta * self.dv"
   ]
  },
  {
   "cell_type": "code",
   "execution_count": 6,
   "id": "2232d5b4",
   "metadata": {
    "scrolled": true
   },
   "outputs": [
    {
     "name": "stdout",
     "output_type": "stream",
     "text": [
      "Epoch 1/20, Loss: 0.19400025664432083, Accuracy: 0.96765\n",
      "Epoch 2/20, Loss: 0.12832600082555817, Accuracy: 0.9775\n",
      "Epoch 3/20, Loss: 0.0788155736287085, Accuracy: 0.98615\n",
      "Epoch 4/20, Loss: 0.06968044922989443, Accuracy: 0.9883666666666666\n",
      "Epoch 5/20, Loss: 0.04169368603493923, Accuracy: 0.99335\n",
      "Epoch 6/20, Loss: 0.04971817613732764, Accuracy: 0.9919166666666667\n",
      "Epoch 7/20, Loss: 0.01854800166955873, Accuracy: 0.9978833333333333\n",
      "Epoch 8/20, Loss: 0.012501623568305628, Accuracy: 0.9988666666666667\n",
      "Epoch 9/20, Loss: 0.013834984878345417, Accuracy: 0.9982333333333333\n",
      "Epoch 10/20, Loss: 0.005642429817257793, Accuracy: 0.99985\n",
      "Epoch 11/20, Loss: 0.0034098713215707462, Accuracy: 0.9999666666666667\n",
      "Epoch 12/20, Loss: 0.0027894594593641025, Accuracy: 0.9999833333333333\n",
      "Epoch 13/20, Loss: 0.0021867075962268188, Accuracy: 1.0\n",
      "Epoch 14/20, Loss: 0.002045055664339811, Accuracy: 0.9999666666666667\n",
      "Epoch 15/20, Loss: 0.0017663405122038621, Accuracy: 1.0\n",
      "Epoch 16/20, Loss: 0.001525029943965101, Accuracy: 1.0\n",
      "Epoch 17/20, Loss: 0.0013821973885436538, Accuracy: 1.0\n",
      "Epoch 18/20, Loss: 0.0012728697654264178, Accuracy: 1.0\n",
      "Epoch 19/20, Loss: 0.0012092914058870344, Accuracy: 1.0\n",
      "Epoch 20/20, Loss: 0.0011136099340304556, Accuracy: 1.0\n"
     ]
    }
   ],
   "source": [
    "model = NN(hidden_size)\n",
    "def train(model, x_train, y_train, epochs, batch_size, learning_rate):\n",
    "    for epoch in range(epochs):\n",
    "        # shuffle\n",
    "        # print(epoch)\n",
    "        idx = np.random.permutation(len(y_train))\n",
    "        x_train_perm = x_train[idx]\n",
    "        y_train_perm = y_train[idx]\n",
    "        \n",
    "        batch_loss = []\n",
    "        batch_accuracy = []\n",
    "        for i in range(0, x_train.shape[0], batch_size):\n",
    "            x_batch = x_train_perm[i:i + batch_size]\n",
    "            x_batch = x_batch.reshape(-1, 28 * 28)\n",
    "            \n",
    "            y_batch = y_train_perm[i:i + batch_size]\n",
    "            y_batch = y_batch.reshape(batch_size, -1)\n",
    "\n",
    "            output = model.fit(x_batch, y_batch, learning_rate)\n",
    "            batch_loss.append(cross_entropy(output, y_batch.flatten()))\n",
    "            batch_accuracy.append(accuracy(output, y_batch.flatten()))\n",
    "            \n",
    "        predictions = model.predict(x_train.reshape(-1, 28 * 28))\n",
    "        loss = cross_entropy(predictions, y_train.flatten())\n",
    "        acc = accuracy(predictions, y_train.flatten())\n",
    "\n",
    "        print(f'Epoch {epoch + 1}/{epochs}, Loss: {loss}, Accuracy: {acc}')\n",
    "        \n",
    "train(model, train_images, train_labels, epochs, batch_size, learning_rate)"
   ]
  },
  {
   "cell_type": "code",
   "execution_count": 7,
   "id": "ee910d90",
   "metadata": {},
   "outputs": [
    {
     "name": "stdout",
     "output_type": "stream",
     "text": [
      "Test Loss: 0.11697030998759406, Test Accuracy: 0.9838\n"
     ]
    }
   ],
   "source": [
    "def test(model, x_test, y_test):\n",
    "    x_test = x_test.reshape(-1, 28 * 28)\n",
    "    predictions = model.predict(x_test)\n",
    "    loss = cross_entropy(predictions, y_test.flatten())\n",
    "    acc = accuracy(predictions, y_test.flatten())\n",
    "    \n",
    "    print(f'Test Loss: {loss}, Test Accuracy: {acc}')\n",
    "    \n",
    "test(model, test_images, test_labels)\n"
   ]
  },
  {
   "cell_type": "code",
   "execution_count": null,
   "id": "4d3a80e9",
   "metadata": {},
   "outputs": [],
   "source": []
  }
 ],
 "metadata": {
  "kernelspec": {
   "display_name": "Python 3 (ipykernel)",
   "language": "python",
   "name": "python3"
  },
  "language_info": {
   "codemirror_mode": {
    "name": "ipython",
    "version": 3
   },
   "file_extension": ".py",
   "mimetype": "text/x-python",
   "name": "python",
   "nbconvert_exporter": "python",
   "pygments_lexer": "ipython3",
   "version": "3.9.13"
  }
 },
 "nbformat": 4,
 "nbformat_minor": 5
}
