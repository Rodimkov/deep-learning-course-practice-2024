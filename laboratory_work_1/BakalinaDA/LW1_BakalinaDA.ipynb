{
 "cells": [
  {
   "cell_type": "code",
   "execution_count": 80,
   "id": "625382c3",
   "metadata": {},
   "outputs": [],
   "source": [
    "import numpy as np;\n",
    "import matplotlib.pyplot as plt;\n",
    "import random\n",
    "from time import time;"
   ]
  },
  {
   "cell_type": "code",
   "execution_count": 81,
   "id": "53fd23e0",
   "metadata": {},
   "outputs": [],
   "source": [
    "def load_images(path_to_images):\n",
    "    images = np.fromfile(path_to_images, dtype=np.uint8, count= -1)[16:];\n",
    "    return images;\n",
    "\n",
    "def reshape_images(images):\n",
    "    return images.reshape(-1, 28, 28);\n",
    "\n",
    "def load_labels(path_to_labels):\n",
    "    labels = np.fromfile(path_to_labels, dtype=np.uint8, count=-1)[8:];\n",
    "    return labels;"
   ]
  },
  {
   "cell_type": "code",
   "execution_count": 82,
   "id": "6a33c12e",
   "metadata": {},
   "outputs": [],
   "source": [
    "DATA_PATH = 'C:/Users/user/Desktop/data/'"
   ]
  },
  {
   "cell_type": "code",
   "execution_count": 83,
   "id": "d245963d",
   "metadata": {},
   "outputs": [],
   "source": [
    "training_images_filepath = (DATA_PATH + \"train-images.idx3-ubyte\");\n",
    "training_labels_filepath = (DATA_PATH + \"train-labels.idx1-ubyte\");\n",
    "\n",
    "test_images_filepath = (DATA_PATH + \"t10k-images.idx3-ubyte\");\n",
    "test_labels_filepath = (DATA_PATH + \"t10k-labels.idx1-ubyte\");\n",
    "\n",
    "x_train = load_images(training_images_filepath);\n",
    "x_test = load_images(test_images_filepath);\n",
    "\n",
    "y_train = load_labels(training_labels_filepath);\n",
    "y_test = load_labels(test_labels_filepath);\n",
    "\n",
    "x_train = reshape_images(x_train);\n",
    "x_test = reshape_images(x_test);"
   ]
  },
  {
   "cell_type": "code",
   "execution_count": 84,
   "id": "0224b93d",
   "metadata": {
    "scrolled": true
   },
   "outputs": [
    {
     "name": "stdout",
     "output_type": "stream",
     "text": [
      "Shape of train data: (60000, 28, 28)\n",
      "Shape of test data: (10000, 28, 28)\n"
     ]
    }
   ],
   "source": [
    "print(\"Shape of train data:\", x_train.shape)\n",
    "print(\"Shape of test data:\", x_test.shape)"
   ]
  },
  {
   "cell_type": "code",
   "execution_count": 85,
   "id": "7088d42a",
   "metadata": {},
   "outputs": [
    {
     "data": {
      "image/png": "[encoded data removed]",
      "text/plain": [
       "<Figure size 720x360 with 5 Axes>"
      ]
     },
     "metadata": {
      "needs_background": "light"
     },
     "output_type": "display_data"
    },
    {
     "data": {
      "image/png": "[encoded data removed]",
      "text/plain": [
       "<Figure size 720x360 with 5 Axes>"
      ]
     },
     "metadata": {
      "needs_background": "light"
     },
     "output_type": "display_data"
    }
   ],
   "source": [
    "plt.figure(figsize=(10, 5));\n",
    "for i in range(5):\n",
    "    random_index_train = randint(1, 60000);\n",
    "    plt.subplot(1, 5, i + 1);\n",
    "    plt.imshow(x_train[random_index_train], cmap='gray');\n",
    "    plt.title(f'Train: {y_train[random_index_train]}');\n",
    "    plt.axis('off');\n",
    "plt.show();\n",
    "\n",
    "plt.figure(figsize=(10, 5));\n",
    "for i in range(5):\n",
    "    random_index_test = randint(1, 10000);\n",
    "    plt.subplot(1, 5, i + 1);\n",
    "    plt.imshow(x_test[random_index_test], cmap='gray');\n",
    "    plt.title(f'Test: {y_test[random_index_test]}');\n",
    "    plt.axis('off');\n",
    "plt.show();"
   ]
  },
  {
   "cell_type": "code",
   "execution_count": 86,
   "id": "1c677f68",
   "metadata": {},
   "outputs": [],
   "source": [
    "x_train = x_train.reshape(-1, 784);\n",
    "x_test = x_test.reshape(-1, 784);"
   ]
  },
  {
   "cell_type": "code",
   "execution_count": 87,
   "id": "af60c959",
   "metadata": {},
   "outputs": [
    {
     "name": "stdout",
     "output_type": "stream",
     "text": [
      "Shape of train data: (60000, 784)\n",
      "Shape of test data: (10000, 784)\n"
     ]
    }
   ],
   "source": [
    "print('Shape of train data:', x_train.shape)\n",
    "print('Shape of test data:', x_test.shape)"
   ]
  },
  {
   "cell_type": "code",
   "execution_count": 88,
   "id": "1f657264",
   "metadata": {},
   "outputs": [],
   "source": [
    "x_train = x_train / 255;\n",
    "x_test = x_test / 255;"
   ]
  },
  {
   "cell_type": "code",
   "execution_count": 89,
   "id": "9e5d3515",
   "metadata": {},
   "outputs": [],
   "source": [
    "y_test = np.eye(10)[y_test];\n",
    "y_train = np.eye(10)[y_train];"
   ]
  },
  {
   "cell_type": "code",
   "execution_count": 103,
   "id": "121fb4b9",
   "metadata": {},
   "outputs": [],
   "source": [
    "def ReLU(Z):\n",
    "    return np.maximum(Z, 0);\n",
    "\n",
    "def ReLU_derivative(Z):\n",
    "    return Z > 0;\n",
    "\n",
    "def softmax(Z):\n",
    "    exp_Z = np.exp(Z - np.max(Z, axis=1, keepdims=True));\n",
    "    A = exp_Z / np.sum(exp_Z, axis=1, keepdims=True);\n",
    "    return A\n",
    "\n",
    "def get_accuracy(Y, A2):\n",
    "    return np.mean(np.argmax(A2, axis = 1) == np.argmax(Y, axis = 1))"
   ]
  },
  {
   "cell_type": "code",
   "execution_count": 104,
   "id": "264eba23",
   "metadata": {},
   "outputs": [],
   "source": [
    "def initialize_params(input_size, hidden_size, output_size):\n",
    "\n",
    "    # He initialization\n",
    "    W1 = np.random.randn(input_size, hidden_size) * np.sqrt(2. / input_size);\n",
    "\n",
    "    W2 = np.random.randn(hidden_size, output_size) * np.sqrt(2. / hidden_size);\n",
    "\n",
    "    b1 = np.zeros((1, hidden_size));\n",
    "    b2 = np.zeros((1, output_size));\n",
    "\n",
    "    return W1, b1, W2, b2;"
   ]
  },
  {
   "cell_type": "code",
   "execution_count": 105,
   "id": "72da0a4d",
   "metadata": {},
   "outputs": [],
   "source": [
    "def forward_propagation(X, w1, b1, w2, b2):\n",
    "\n",
    "    Z1 = np.dot(X, w1) + b1;\n",
    "    A1 = ReLU(Z1);\n",
    "\n",
    "    Z2  = np.dot(A1, w2) + b2;\n",
    "    A2 = softmax(Z2);\n",
    "\n",
    "    return Z1, A1, Z2, A2;\n",
    "\n",
    "def backward_propagation(X, Y, Z1, A1, Z2, A2,\n",
    "                         w2):\n",
    "\n",
    "    L = Y.shape[0];\n",
    "\n",
    "    dZ2 = A2 - Y;\n",
    "\n",
    "    dW2 = np.dot(A1.T, dZ2) / L;\n",
    "    db2 = np.sum(dZ2, axis=0, keepdims=True) / L;\n",
    "\n",
    "    dA1 = np.dot(dZ2, w2.T);\n",
    "    dZ1 = dA1 * ReLU_derivative(Z1);\n",
    "\n",
    "    dW1 = np.dot(X.T, dZ1) / L;\n",
    "    db1 = np.sum(dZ1, axis=0, keepdims=True) / L;\n",
    "\n",
    "    return dW1, db1, dW2, db2;\n",
    "\n",
    "def update_params(W1, b1, W2, b2,\n",
    "                              dW1, db1, dW2, db2, alpha):\n",
    "\n",
    "    W1 -= alpha * dW1\n",
    "    b1 -= alpha * db1\n",
    "    W2 -= alpha * dW2\n",
    "    b2 -= alpha * db2\n",
    "\n",
    "    return W1, b1, W2, b2"
   ]
  },
  {
   "cell_type": "code",
   "execution_count": 106,
   "id": "2f27bd9c",
   "metadata": {},
   "outputs": [],
   "source": [
    "def train_network(x_train, y_train, x_test, y_test,\n",
    "                  input_layer_size, hiiden_layer_size, output_layer_size,\n",
    "                  count_epoch, batch_size, alpha):\n",
    "\n",
    "    W1, b1, W2, b2 = initialize_params(input_layer_size,\n",
    "                            hiiden_layer_size, output_layer_size);\n",
    "\n",
    "    length_X_train = x_train.shape[0];\n",
    "\n",
    "    for epoch in range(count_epoch):\n",
    "\n",
    "        time_start = time();\n",
    "        shuffle = np.random.permutation(length_X_train)\n",
    "        x_train_shuffled = x_train[shuffle]\n",
    "        y_train_shuffled = y_train[shuffle]\n",
    "\n",
    "        for batch in range(0, length_X_train, batch_size):\n",
    "\n",
    "            x_batch = x_train_shuffled[batch:batch+batch_size]\n",
    "            y_batch = y_train_shuffled[batch:batch+batch_size]\n",
    "\n",
    "            Z1, A1, Z2, A2 = forward_propagation(x_batch, W1, b1, W2, b2);\n",
    "\n",
    "            dW1, db1, dW2, db2 = backward_propagation(x_batch, y_batch,\n",
    "                        Z1, A1, Z2, A2, W2);\n",
    "\n",
    "            W1, b1, W2, b2 = update_params(W1, b1, W2, b2,\n",
    "                              dW1, db1, dW2, db2, alpha);\n",
    "\n",
    "        _, _, _ , A2_train = forward_propagation(x_train, W1, b1, W2, b2);\n",
    "\n",
    "        \n",
    "        accuracy_train = get_accuracy(A2_train, y_train)\n",
    "\n",
    "        time_end = time();\n",
    "\n",
    "        print(f\"epoch: {epoch}; time: {time_end - time_start: .2f} sec.; accuracy: {accuracy_train: .5f};\")\n",
    "        print(\" \")\n",
    "\n",
    "    _, _, _, A2_test = forward_propagation(x_test, W1, b1, W2, b2);\n",
    "    accuracy_test = get_accuracy(A2_test, y_test);\n",
    "\n",
    "    print(\"\");\n",
    "    print(f\"accuracy test: {accuracy_test: .5f}\");"
   ]
  },
  {
   "cell_type": "code",
   "execution_count": 107,
   "id": "668db1e7",
   "metadata": {},
   "outputs": [
    {
     "name": "stdout",
     "output_type": "stream",
     "text": [
      "epoch: 0; time:  9.95 sec.; accuracy:  0.95362;\n",
      " \n",
      "epoch: 1; time:  10.26 sec.; accuracy:  0.97155;\n",
      " \n",
      "epoch: 2; time:  11.59 sec.; accuracy:  0.98058;\n",
      " \n",
      "epoch: 3; time:  10.82 sec.; accuracy:  0.97902;\n",
      " \n",
      "epoch: 4; time:  10.10 sec.; accuracy:  0.98757;\n",
      " \n",
      "epoch: 5; time:  9.44 sec.; accuracy:  0.98797;\n",
      " \n",
      "epoch: 6; time:  9.86 sec.; accuracy:  0.99187;\n",
      " \n",
      "epoch: 7; time:  10.31 sec.; accuracy:  0.99358;\n",
      " \n",
      "epoch: 8; time:  11.35 sec.; accuracy:  0.99472;\n",
      " \n",
      "epoch: 9; time:  10.38 sec.; accuracy:  0.99658;\n",
      " \n",
      "epoch: 10; time:  10.50 sec.; accuracy:  0.99735;\n",
      " \n",
      "epoch: 11; time:  9.76 sec.; accuracy:  0.99755;\n",
      " \n",
      "epoch: 12; time:  10.10 sec.; accuracy:  0.99842;\n",
      " \n",
      "epoch: 13; time:  10.37 sec.; accuracy:  0.99920;\n",
      " \n",
      "epoch: 14; time:  11.09 sec.; accuracy:  0.99950;\n",
      " \n",
      "epoch: 15; time:  11.36 sec.; accuracy:  0.99962;\n",
      " \n",
      "epoch: 16; time:  11.85 sec.; accuracy:  0.99967;\n",
      " \n",
      "epoch: 17; time:  11.27 sec.; accuracy:  0.99972;\n",
      " \n",
      "epoch: 18; time:  10.43 sec.; accuracy:  0.99988;\n",
      " \n",
      "epoch: 19; time:  10.10 sec.; accuracy:  0.99987;\n",
      " \n",
      "\n",
      "accuracy test:  0.98210\n"
     ]
    }
   ],
   "source": [
    "input_layer_size = 784;\n",
    "hidden_layer_size = 300;\n",
    "outputsize = 10;\n",
    "count_epoch = 20;\n",
    "batch_size = 32;\n",
    "alpha = 0.1;\n",
    "\n",
    "train_network(x_train, y_train, x_test, y_test,\n",
    "                  input_layer_size, hidden_layer_size, outputsize,\n",
    "                  count_epoch, batch_size, alpha);"
   ]
  },
  {
   "cell_type": "code",
   "execution_count": null,
   "id": "9b2a761f",
   "metadata": {},
   "outputs": [],
   "source": []
  }
 ],
 "metadata": {
  "kernelspec": {
   "display_name": "Python 3 (ipykernel)",
   "language": "python",
   "name": "python3"
  },
  "language_info": {
   "codemirror_mode": {
    "name": "ipython",
    "version": 3
   },
   "file_extension": ".py",
   "mimetype": "text/x-python",
   "name": "python",
   "nbconvert_exporter": "python",
   "pygments_lexer": "ipython3",
   "version": "3.9.7"
  }
 },
 "nbformat": 4,
 "nbformat_minor": 5
}
