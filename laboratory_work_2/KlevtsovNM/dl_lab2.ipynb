{
  "cells": [
    {
      "cell_type": "markdown",
      "metadata": {
        "id": "LGR9Zmd5anld"
      },
      "source": [
        "# Лабораторная работа 2: «Разработка сверточной нейронной сети с использованием PyTorch»\n",
        "\n",
        "## Цели работы\n",
        "\n",
        "**Цель** —разработать и обучить сверточную нейронную сеть для задачи классификации изображений на наборе данных [Cifar-10](https://www.cs.toronto.edu/~kriz/cifar.html) с использованием  PyTorch.\n",
        "\n",
        "## Требования к результатам выполнения работы\n",
        "\n",
        "1. Требования к структуре и содержимому Jupyter Notebook:\n",
        "    - Загрузить и проверить данные (необходимо обеспечить демонстрацию избранных изображений и меток классов для подтверждения корректности загрузки и совпадения размерностей).\n",
        "    - Реализовать архитектуру нейронной сеть с использованием фреймворка PyTorch.\n",
        "    - Настроить гиперпараметры обучения (например, архитектуры, скорости обучения и размера пачки (batch size)).\n",
        "    - Вывести ошибку классификации и точность на тренировочном наборе данных по окончании каждой эпохи.\n",
        "    - Вывести ошибку классификации на тестовом наборе данных и построить график ошибки обучения после обучения.\n",
        "\n",
        "2. Выбор архитектуры:\n",
        "    - Необходимо использовать ***сверточные*** архитектуры нейронных сетей\n",
        "    - Разрешается использовать как готовые архитектуры (например, VGG, ResNet и тд), так и архитектуры разработанные студентом самостоятельно.\n",
        "    - Реализация должна быть выполнена с нуля в PyTorch, без использования готовых модулей (например, import Resnet недопустимо)."
      ]
    },
    {
      "cell_type": "code",
      "execution_count": 28,
      "metadata": {
        "colab": {
          "base_uri": "https://localhost:8080/"
        },
        "id": "XjCA5D2I8Vur",
        "outputId": "d6bb20b7-8e74-47ad-e343-6552bfee9e91"
      },
      "outputs": [
        {
          "name": "stdout",
          "output_type": "stream",
          "text": [
            "--2024-10-28 18:43:45--  https://www.cs.toronto.edu/~kriz/cifar-10-python.tar.gz\n",
            "Resolving www.cs.toronto.edu (www.cs.toronto.edu)... 128.100.3.30\n",
            "Connecting to www.cs.toronto.edu (www.cs.toronto.edu)|128.100.3.30|:443... connected.\n",
            "HTTP request sent, awaiting response... 200 OK\n",
            "Length: 170498071 (163M) [application/x-gzip]\n",
            "Saving to: ‘cifar-10-python.tar.gz’\n",
            "\n",
            "cifar-10-python.tar 100%[===================>] 162,60M  20,2MB/s    in 9,1s    \n",
            "\n",
            "2024-10-28 18:43:54 (17,9 MB/s) - ‘cifar-10-python.tar.gz’ saved [170498071/170498071]\n",
            "\n",
            "cifar-10-batches-py/\n",
            "cifar-10-batches-py/data_batch_4\n",
            "cifar-10-batches-py/readme.html\n",
            "cifar-10-batches-py/test_batch\n",
            "cifar-10-batches-py/data_batch_3\n",
            "cifar-10-batches-py/batches.meta\n",
            "cifar-10-batches-py/data_batch_2\n",
            "cifar-10-batches-py/data_batch_5\n",
            "cifar-10-batches-py/data_batch_1\n"
          ]
        }
      ],
      "source": [
        "!export DATASET_ARCHIVE=\"cifar-10-python.tar.gz\" &&\\\n",
        "wget -O \"$DATASET_ARCHIVE\" \"https://www.cs.toronto.edu/~kriz/$DATASET_ARCHIVE\" &&\\\n",
        "tar -xvf \"$DATASET_ARCHIVE\" --overwrite"
      ]
    },
    {
      "cell_type": "code",
      "execution_count": 29,
      "metadata": {
        "id": "SS9yC_OXA8tf"
      },
      "outputs": [],
      "source": [
        "import os\n",
        "import pickle\n",
        "import numpy as np\n",
        "import matplotlib.pyplot as plt\n",
        "import seaborn as sns\n",
        "from tqdm import tqdm\n",
        "\n",
        "import torch\n",
        "from torch import nn\n",
        "from torch.utils.data import Dataset, DataLoader\n",
        "\n",
        "from sklearn.model_selection import train_test_split\n",
        "\n",
        "%matplotlib inline"
      ]
    },
    {
      "cell_type": "code",
      "execution_count": 30,
      "metadata": {
        "colab": {
          "base_uri": "https://localhost:8080/"
        },
        "id": "I8cmUw6V9DwT",
        "outputId": "aee36633-c155-4c1b-80be-f9d1ac7ccdcd"
      },
      "outputs": [
        {
          "name": "stdout",
          "output_type": "stream",
          "text": [
            "Тренировочные данные:\n",
            "train_images.shape=(50000, 3, 32, 32); train_labels.shape=(50000,)\n",
            "Валидационные данные:\n",
            "val_images.shape=(2000, 3, 32, 32); val_labels.shape=(2000,)\n",
            "Тестовые данные:\n",
            "test_images.shape=(8000, 3, 32, 32); test_labels.shape=(8000,)\n"
          ]
        }
      ],
      "source": [
        "def load_cifar_10_data(dataset_path):\n",
        "    def unpickle(file):\n",
        "        with open(file, 'rb') as fo:\n",
        "            dictionary = pickle.load(fo, encoding='bytes')\n",
        "        return dictionary\n",
        "\n",
        "    def transform_images(images):\n",
        "        images = images.reshape((-1, 3, 32, 32))\n",
        "        return images / 255.\n",
        "\n",
        "    train_images = np.zeros((0, 3*32*32,), dtype=np.uint8)\n",
        "    train_labels = np.zeros((0,), dtype=np.uint8)\n",
        "\n",
        "    for i in range(5):\n",
        "        data = unpickle(os.path.join(\n",
        "            dataset_path,\n",
        "            f\"data_batch_{i + 1}\",\n",
        "        ))\n",
        "        train_images = np.append(\n",
        "            train_images,\n",
        "            data[b'data'],\n",
        "            axis=0,\n",
        "        )\n",
        "        train_labels = np.append(\n",
        "            train_labels,\n",
        "            data[b'labels'],\n",
        "            axis=0,\n",
        "        )\n",
        "    train_images = transform_images(train_images)\n",
        "\n",
        "    data = unpickle(os.path.join(\n",
        "        dataset_path,\n",
        "        \"test_batch\",\n",
        "    ))\n",
        "    test_images = np.array(data[b'data'], dtype=np.uint8)\n",
        "    test_images = transform_images(test_images)\n",
        "    test_labels = np.array(data[b'labels'], dtype=np.uint8)\n",
        "\n",
        "    label_names = unpickle(os.path.join(\n",
        "        dataset_path,\n",
        "        \"batches.meta\",\n",
        "    ))[b'label_names']\n",
        "    label_names = list(map(lambda name: name.decode('UTF-8'), label_names))\n",
        "\n",
        "    return train_images, train_labels, test_images, test_labels, label_names\n",
        "\n",
        "train_images, train_labels, test_images, test_labels, label_names = load_cifar_10_data(\"cifar-10-batches-py\")\n",
        "test_images, val_images, test_labels, val_labels = train_test_split(test_images, test_labels, test_size=0.2, random_state=42, stratify=test_labels)\n",
        "\n",
        "print(f\"Тренировочные данные:\\n{train_images.shape=}; {train_labels.shape=}\")\n",
        "print(f\"Валидационные данные:\\n{val_images.shape=}; {val_labels.shape=}\")\n",
        "print(f\"Тестовые данные:\\n{test_images.shape=}; {test_labels.shape=}\")"
      ]
    },
    {
      "cell_type": "code",
      "execution_count": 31,
      "metadata": {
        "colab": {
          "base_uri": "https://localhost:8080/",
          "height": 290
        },
        "id": "qej_P1ttW-E0",
        "outputId": "9b91f62b-b121-4d83-bc39-413ecce7ec2a"
      },
      "outputs": [
        {
          "data": {
            "image/png": "[encoded data removed]",
            "text/plain": [
              "<Figure size 800x300 with 10 Axes>"
            ]
          },
          "metadata": {},
          "output_type": "display_data"
        }
      ],
      "source": [
        "def plot_10_samples(samples, labels, label_names=None):\n",
        "    fig = plt.figure(figsize=(8, 3))\n",
        "\n",
        "    for idx, (sample, label) in enumerate(zip(samples, labels)):\n",
        "        sample = sample.transpose(1, 2, 0)\n",
        "        name = label if label_names is None else label_names[label]\n",
        "\n",
        "        plt.subplot(2, 5, idx + 1)\n",
        "        plt.imshow(sample)\n",
        "        plt.axis('off')\n",
        "        plt.title(name)\n",
        "\n",
        "random_indexes = np.random.randint(0, train_images.shape[0], 10)\n",
        "plot_10_samples(train_images[random_indexes], train_labels[random_indexes], label_names)"
      ]
    },
    {
      "cell_type": "code",
      "execution_count": 32,
      "metadata": {
        "id": "ea_mv31mlh2I"
      },
      "outputs": [],
      "source": [
        "class CifarDataset(Dataset):\n",
        "    def __init__(self, images, labels):\n",
        "        self.images = torch.tensor(images, dtype=torch.float32)\n",
        "        self.labels = torch.tensor(labels)\n",
        "\n",
        "    def __len__(self):\n",
        "        return self.images.shape[0]\n",
        "\n",
        "    def __getitem__(self, index):\n",
        "        return self.images[index], self.labels[index]\n",
        "\n",
        "    def images(self):\n",
        "        return self.images\n",
        "\n",
        "    def labels(self):\n",
        "        return self.labels"
      ]
    },
    {
      "cell_type": "code",
      "execution_count": 33,
      "metadata": {
        "id": "1PX6M5bdqWAj"
      },
      "outputs": [],
      "source": [
        "def train_epoch(model, optimizer, criterion, data_loader, device, description=\"Batches processing\"):\n",
        "    total_batches = len(data_loader)\n",
        "\n",
        "    model.train()\n",
        "    for (images, labels) in tqdm(\n",
        "        data_loader,\n",
        "        total=total_batches,\n",
        "        desc=description\n",
        "    ):\n",
        "        images = images.to(device)\n",
        "        labels = labels.to(device)\n",
        "        outputs = model(images)\n",
        "        loss = criterion(outputs, labels)\n",
        "\n",
        "        loss.backward()\n",
        "        optimizer.step()\n",
        "        optimizer.zero_grad()\n",
        "\n",
        "def test(model, criterion, data_loader, device, description=\"Calculating loss & error\"):\n",
        "    model.eval()\n",
        "\n",
        "    total_batches = len(data_loader)\n",
        "    total = len(data_loader.dataset)\n",
        "\n",
        "    loss = 0\n",
        "    accuracy = 0\n",
        "\n",
        "    model.eval()\n",
        "    with torch.no_grad():\n",
        "        for (images, labels) in tqdm(\n",
        "            data_loader,\n",
        "            total=total_batches,\n",
        "            desc=description\n",
        "        ):\n",
        "            images = images.to(device)\n",
        "            labels = labels.to(device)\n",
        "\n",
        "            outputs = model(images)\n",
        "            loss += criterion(outputs, labels).item()\n",
        "\n",
        "            _, predicts = torch.max(outputs, dim=1)\n",
        "            accuracy += (predicts == labels).sum().item()\n",
        "\n",
        "    return (loss / total_batches), (accuracy / total)\n",
        "\n",
        "def train(model, optimizer, criterion, train_data_loader, val_data_loader, epochs, device, best_weigths_path=\"best_weights\"):\n",
        "    best_loss = None\n",
        "\n",
        "    train_losses, val_losses = [], []\n",
        "    train_errors, val_errors = [], []\n",
        "\n",
        "    for epoch in range(epochs):\n",
        "        train_epoch(model, optimizer, criterion, train_data_loader, device, description=f\"Epoch {epoch + 1} - batches processing\")\n",
        "\n",
        "        train_loss, train_accuracy = test(model, criterion, train_data_loader, device, \"Calculating train loss & accuracy\")\n",
        "        val_loss, val_accuracy = test(model, criterion, val_data_loader, device, \"Calculating val loss & accuracy\")\n",
        "\n",
        "        train_losses.append(train_loss)\n",
        "        train_errors.append(1 - train_accuracy)\n",
        "\n",
        "        val_losses.append(val_loss)\n",
        "        val_errors.append(1 - val_accuracy)\n",
        "\n",
        "        if best_loss is None or val_loss < best_loss:\n",
        "            best_loss = val_loss\n",
        "            torch.save(model.state_dict(), best_weigths_path)\n",
        "\n",
        "        print(f\"train_loss={train_loss:.4f}, train_error={1 - train_accuracy:.4f}\")\n",
        "        print(f\"val_loss={val_loss:.4f}, val_error={1 - val_accuracy:.4f}\", end='\\n'*2)\n",
        "\n",
        "    return train_losses, train_errors, val_losses, val_errors"
      ]
    },
    {
      "cell_type": "code",
      "execution_count": 34,
      "metadata": {
        "id": "c04o0mfx5O1P"
      },
      "outputs": [],
      "source": [
        "class MNConv(nn.Module):\n",
        "    def __init__(self, in_channels, out_channels, kernel_size, stride):\n",
        "        super(MNConv, self).__init__()\n",
        "        padding = (kernel_size - stride) // 2\n",
        "\n",
        "        self.block = nn.Sequential(\n",
        "            nn.Conv2d(in_channels, out_channels, kernel_size, stride, padding),\n",
        "            nn.BatchNorm2d(out_channels),\n",
        "            nn.ReLU6(inplace=True),\n",
        "        )\n",
        "\n",
        "    def forward(self, x):\n",
        "        return self.block(x)\n",
        "\n",
        "class MNBottleneck(nn.Module):\n",
        "    def __init__(self, in_channels, out_channels, stride, expansion_factor=6):\n",
        "        super(MNBottleneck, self).__init__()\n",
        "\n",
        "        self.use_residual = stride == 1 and in_channels == out_channels\n",
        "\n",
        "        hidden_channels = in_channels * expansion_factor\n",
        "        self.conv = nn.Sequential(\n",
        "            MNConv(in_channels, hidden_channels, 1, 1),\n",
        "            MNConv(hidden_channels, hidden_channels, 3, stride),\n",
        "            nn.Conv2d(hidden_channels, out_channels, 1, 1, 0),\n",
        "        )\n",
        "\n",
        "    def forward(self, x):\n",
        "        if self.use_residual:\n",
        "            return x + self.conv(x)\n",
        "        else:\n",
        "            return self.conv(x)\n",
        "\n",
        "class MNBasedNeuralNetwork(nn.Module):\n",
        "    def __init__(self, num_classes=10, config=None):\n",
        "        super(MNBasedNeuralNetwork, self).__init__()\n",
        "\n",
        "        if config is None:\n",
        "            config = [\n",
        "                # t,   c, n, s\n",
        "                [ 1,  16, 1, 1],\n",
        "                [ 6,  24, 2, 2],\n",
        "                [ 6,  32, 3, 1],\n",
        "                [ 6,  64, 4, 1],\n",
        "                [ 6,  96, 3, 1],\n",
        "                [ 6, 160, 3, 2],\n",
        "                [ 6, 320, 1, 1],\n",
        "            ]\n",
        "        self.last_channels = 320\n",
        "\n",
        "        last_channels = 32\n",
        "        features = [nn.Conv2d(3, last_channels, 3, 1, 1)]\n",
        "\n",
        "        for t, c, n, s in config:\n",
        "            for i in range(n):\n",
        "                stride = s if i == 0 else 1\n",
        "                features.append(MNBottleneck(last_channels, c, stride, t))\n",
        "                last_channels = c\n",
        "\n",
        "        features.append(nn.Conv2d(last_channels, self.last_channels, 1, 1, 0))\n",
        "\n",
        "        self.features = nn.Sequential(*features)\n",
        "\n",
        "        self.classifier = nn.Sequential(\n",
        "            nn.Dropout(0.2),\n",
        "            nn.Linear(self.last_channels, num_classes)\n",
        "        )\n",
        "\n",
        "    def forward(self, x):\n",
        "        x = self.features(x)\n",
        "        x = nn.functional.adaptive_avg_pool2d(x, 1).reshape(x.shape[0], -1)\n",
        "        return self.classifier(x)\n"
      ]
    },
    {
      "cell_type": "code",
      "execution_count": 35,
      "metadata": {
        "colab": {
          "base_uri": "https://localhost:8080/",
          "height": 356
        },
        "id": "ENOjieFjybUH",
        "outputId": "ff1f61bb-2e9f-4800-d08e-bad090197f3d"
      },
      "outputs": [
        {
          "name": "stdout",
          "output_type": "stream",
          "text": [
            "Using device - \"cuda:0\"\n"
          ]
        },
        {
          "name": "stderr",
          "output_type": "stream",
          "text": [
            "Epoch 1 - batches processing: 100%|██████████| 1563/1563 [00:38<00:00, 40.67it/s]\n",
            "Calculating train loss & accuracy: 100%|██████████| 1563/1563 [00:11<00:00, 138.90it/s]\n",
            "Calculating val loss & accuracy: 100%|██████████| 63/63 [00:00<00:00, 133.99it/s]\n"
          ]
        },
        {
          "name": "stdout",
          "output_type": "stream",
          "text": [
            "train_loss=1.2899, train_error=0.4687\n",
            "val_loss=1.3069, val_error=0.4690\n",
            "\n"
          ]
        },
        {
          "name": "stderr",
          "output_type": "stream",
          "text": [
            "Epoch 2 - batches processing: 100%|██████████| 1563/1563 [00:38<00:00, 40.57it/s]\n",
            "Calculating train loss & accuracy: 100%|██████████| 1563/1563 [00:11<00:00, 137.32it/s]\n",
            "Calculating val loss & accuracy: 100%|██████████| 63/63 [00:00<00:00, 134.18it/s]\n"
          ]
        },
        {
          "name": "stdout",
          "output_type": "stream",
          "text": [
            "train_loss=1.0531, train_error=0.3781\n",
            "val_loss=1.0905, val_error=0.3955\n",
            "\n"
          ]
        },
        {
          "name": "stderr",
          "output_type": "stream",
          "text": [
            "Epoch 3 - batches processing: 100%|██████████| 1563/1563 [00:38<00:00, 40.52it/s]\n",
            "Calculating train loss & accuracy: 100%|██████████| 1563/1563 [00:11<00:00, 138.68it/s]\n",
            "Calculating val loss & accuracy: 100%|██████████| 63/63 [00:00<00:00, 134.88it/s]\n"
          ]
        },
        {
          "name": "stdout",
          "output_type": "stream",
          "text": [
            "train_loss=0.8039, train_error=0.2855\n",
            "val_loss=0.8734, val_error=0.3100\n",
            "\n"
          ]
        },
        {
          "name": "stderr",
          "output_type": "stream",
          "text": [
            "Epoch 4 - batches processing: 100%|██████████| 1563/1563 [00:38<00:00, 40.49it/s]\n",
            "Calculating train loss & accuracy: 100%|██████████| 1563/1563 [00:11<00:00, 138.68it/s]\n",
            "Calculating val loss & accuracy: 100%|██████████| 63/63 [00:00<00:00, 134.88it/s]\n"
          ]
        },
        {
          "name": "stdout",
          "output_type": "stream",
          "text": [
            "train_loss=0.6998, train_error=0.2499\n",
            "val_loss=0.8005, val_error=0.2840\n",
            "\n"
          ]
        },
        {
          "name": "stderr",
          "output_type": "stream",
          "text": [
            "Epoch 5 - batches processing: 100%|██████████| 1563/1563 [00:38<00:00, 40.45it/s]\n",
            "Calculating train loss & accuracy: 100%|██████████| 1563/1563 [00:11<00:00, 137.33it/s]\n",
            "Calculating val loss & accuracy: 100%|██████████| 63/63 [00:00<00:00, 134.39it/s]\n"
          ]
        },
        {
          "name": "stdout",
          "output_type": "stream",
          "text": [
            "train_loss=0.5822, train_error=0.1990\n",
            "val_loss=0.6991, val_error=0.2435\n",
            "\n"
          ]
        },
        {
          "name": "stderr",
          "output_type": "stream",
          "text": [
            "Epoch 6 - batches processing: 100%|██████████| 1563/1563 [00:38<00:00, 40.47it/s]\n",
            "Calculating train loss & accuracy: 100%|██████████| 1563/1563 [00:11<00:00, 137.98it/s]\n",
            "Calculating val loss & accuracy: 100%|██████████| 63/63 [00:00<00:00, 134.48it/s]\n"
          ]
        },
        {
          "name": "stdout",
          "output_type": "stream",
          "text": [
            "train_loss=0.5130, train_error=0.1777\n",
            "val_loss=0.6779, val_error=0.2390\n",
            "\n"
          ]
        },
        {
          "name": "stderr",
          "output_type": "stream",
          "text": [
            "Epoch 7 - batches processing: 100%|██████████| 1563/1563 [00:38<00:00, 40.48it/s]\n",
            "Calculating train loss & accuracy: 100%|██████████| 1563/1563 [00:11<00:00, 137.29it/s]\n",
            "Calculating val loss & accuracy: 100%|██████████| 63/63 [00:00<00:00, 134.19it/s]\n"
          ]
        },
        {
          "name": "stdout",
          "output_type": "stream",
          "text": [
            "train_loss=0.4301, train_error=0.1517\n",
            "val_loss=0.6679, val_error=0.2265\n",
            "\n"
          ]
        },
        {
          "name": "stderr",
          "output_type": "stream",
          "text": [
            "Epoch 8 - batches processing: 100%|██████████| 1563/1563 [00:38<00:00, 40.47it/s]\n",
            "Calculating train loss & accuracy: 100%|██████████| 1563/1563 [00:11<00:00, 136.98it/s]\n",
            "Calculating val loss & accuracy: 100%|██████████| 63/63 [00:00<00:00, 134.11it/s]\n"
          ]
        },
        {
          "name": "stdout",
          "output_type": "stream",
          "text": [
            "train_loss=0.3554, train_error=0.1254\n",
            "val_loss=0.6249, val_error=0.2085\n",
            "\n"
          ]
        },
        {
          "name": "stderr",
          "output_type": "stream",
          "text": [
            "Epoch 9 - batches processing: 100%|██████████| 1563/1563 [00:38<00:00, 40.48it/s]\n",
            "Calculating train loss & accuracy: 100%|██████████| 1563/1563 [00:11<00:00, 134.94it/s]\n",
            "Calculating val loss & accuracy: 100%|██████████| 63/63 [00:00<00:00, 132.54it/s]\n"
          ]
        },
        {
          "name": "stdout",
          "output_type": "stream",
          "text": [
            "train_loss=0.2878, train_error=0.0969\n",
            "val_loss=0.6117, val_error=0.2005\n",
            "\n"
          ]
        },
        {
          "name": "stderr",
          "output_type": "stream",
          "text": [
            "Epoch 10 - batches processing: 100%|██████████| 1563/1563 [00:38<00:00, 40.40it/s]\n",
            "Calculating train loss & accuracy: 100%|██████████| 1563/1563 [00:11<00:00, 139.12it/s]\n",
            "Calculating val loss & accuracy: 100%|██████████| 63/63 [00:00<00:00, 135.62it/s]\n"
          ]
        },
        {
          "name": "stdout",
          "output_type": "stream",
          "text": [
            "train_loss=0.4649, train_error=0.1629\n",
            "val_loss=0.8829, val_error=0.2555\n",
            "\n"
          ]
        },
        {
          "name": "stderr",
          "output_type": "stream",
          "text": [
            "Epoch 11 - batches processing: 100%|██████████| 1563/1563 [00:38<00:00, 40.50it/s]\n",
            "Calculating train loss & accuracy: 100%|██████████| 1563/1563 [00:11<00:00, 137.98it/s]\n",
            "Calculating val loss & accuracy: 100%|██████████| 63/63 [00:00<00:00, 133.80it/s]\n"
          ]
        },
        {
          "name": "stdout",
          "output_type": "stream",
          "text": [
            "train_loss=0.2089, train_error=0.0711\n",
            "val_loss=0.5991, val_error=0.1890\n",
            "\n"
          ]
        },
        {
          "name": "stderr",
          "output_type": "stream",
          "text": [
            "Epoch 12 - batches processing: 100%|██████████| 1563/1563 [00:38<00:00, 40.46it/s]\n",
            "Calculating train loss & accuracy: 100%|██████████| 1563/1563 [00:11<00:00, 136.65it/s]\n",
            "Calculating val loss & accuracy: 100%|██████████| 63/63 [00:00<00:00, 133.68it/s]\n"
          ]
        },
        {
          "name": "stdout",
          "output_type": "stream",
          "text": [
            "train_loss=0.2330, train_error=0.0818\n",
            "val_loss=0.6560, val_error=0.2055\n",
            "\n"
          ]
        },
        {
          "name": "stderr",
          "output_type": "stream",
          "text": [
            "Epoch 13 - batches processing: 100%|██████████| 1563/1563 [00:38<00:00, 40.49it/s]\n",
            "Calculating train loss & accuracy: 100%|██████████| 1563/1563 [00:11<00:00, 136.31it/s]\n",
            "Calculating val loss & accuracy: 100%|██████████| 63/63 [00:00<00:00, 133.74it/s]\n"
          ]
        },
        {
          "name": "stdout",
          "output_type": "stream",
          "text": [
            "train_loss=0.1920, train_error=0.0677\n",
            "val_loss=0.7096, val_error=0.2045\n",
            "\n"
          ]
        },
        {
          "name": "stderr",
          "output_type": "stream",
          "text": [
            "Epoch 14 - batches processing: 100%|██████████| 1563/1563 [00:38<00:00, 40.48it/s]\n",
            "Calculating train loss & accuracy: 100%|██████████| 1563/1563 [00:11<00:00, 137.94it/s]\n",
            "Calculating val loss & accuracy: 100%|██████████| 63/63 [00:00<00:00, 134.16it/s]\n"
          ]
        },
        {
          "name": "stdout",
          "output_type": "stream",
          "text": [
            "train_loss=0.1367, train_error=0.0461\n",
            "val_loss=0.6603, val_error=0.1870\n",
            "\n"
          ]
        },
        {
          "name": "stderr",
          "output_type": "stream",
          "text": [
            "Epoch 15 - batches processing: 100%|██████████| 1563/1563 [00:38<00:00, 40.49it/s]\n",
            "Calculating train loss & accuracy: 100%|██████████| 1563/1563 [00:11<00:00, 135.80it/s]\n",
            "Calculating val loss & accuracy: 100%|██████████| 63/63 [00:00<00:00, 134.02it/s]\n"
          ]
        },
        {
          "name": "stdout",
          "output_type": "stream",
          "text": [
            "train_loss=0.1315, train_error=0.0456\n",
            "val_loss=0.7450, val_error=0.1940\n",
            "\n"
          ]
        },
        {
          "name": "stderr",
          "output_type": "stream",
          "text": [
            "Epoch 16 - batches processing: 100%|██████████| 1563/1563 [00:38<00:00, 40.49it/s]\n",
            "Calculating train loss & accuracy: 100%|██████████| 1563/1563 [00:11<00:00, 139.29it/s]\n",
            "Calculating val loss & accuracy: 100%|██████████| 63/63 [00:00<00:00, 137.77it/s]\n"
          ]
        },
        {
          "name": "stdout",
          "output_type": "stream",
          "text": [
            "train_loss=0.0966, train_error=0.0335\n",
            "val_loss=0.6974, val_error=0.1805\n",
            "\n"
          ]
        },
        {
          "name": "stderr",
          "output_type": "stream",
          "text": [
            "Epoch 17 - batches processing: 100%|██████████| 1563/1563 [00:38<00:00, 40.49it/s]\n",
            "Calculating train loss & accuracy: 100%|██████████| 1563/1563 [00:11<00:00, 137.44it/s]\n",
            "Calculating val loss & accuracy: 100%|██████████| 63/63 [00:00<00:00, 134.52it/s]\n"
          ]
        },
        {
          "name": "stdout",
          "output_type": "stream",
          "text": [
            "train_loss=0.0832, train_error=0.0281\n",
            "val_loss=0.7095, val_error=0.1875\n",
            "\n"
          ]
        },
        {
          "name": "stderr",
          "output_type": "stream",
          "text": [
            "Epoch 18 - batches processing: 100%|██████████| 1563/1563 [00:38<00:00, 40.48it/s]\n",
            "Calculating train loss & accuracy: 100%|██████████| 1563/1563 [00:11<00:00, 137.40it/s]\n",
            "Calculating val loss & accuracy: 100%|██████████| 63/63 [00:00<00:00, 133.31it/s]\n"
          ]
        },
        {
          "name": "stdout",
          "output_type": "stream",
          "text": [
            "train_loss=0.1152, train_error=0.0397\n",
            "val_loss=0.8408, val_error=0.2010\n",
            "\n"
          ]
        },
        {
          "name": "stderr",
          "output_type": "stream",
          "text": [
            "Epoch 19 - batches processing: 100%|██████████| 1563/1563 [00:38<00:00, 40.48it/s]\n",
            "Calculating train loss & accuracy: 100%|██████████| 1563/1563 [00:11<00:00, 136.85it/s]\n",
            "Calculating val loss & accuracy: 100%|██████████| 63/63 [00:00<00:00, 134.54it/s]\n"
          ]
        },
        {
          "name": "stdout",
          "output_type": "stream",
          "text": [
            "train_loss=0.0723, train_error=0.0245\n",
            "val_loss=0.7365, val_error=0.1925\n",
            "\n"
          ]
        },
        {
          "name": "stderr",
          "output_type": "stream",
          "text": [
            "Epoch 20 - batches processing: 100%|██████████| 1563/1563 [00:38<00:00, 40.49it/s]\n",
            "Calculating train loss & accuracy: 100%|██████████| 1563/1563 [00:11<00:00, 137.60it/s]\n",
            "Calculating val loss & accuracy: 100%|██████████| 63/63 [00:00<00:00, 134.25it/s]\n"
          ]
        },
        {
          "name": "stdout",
          "output_type": "stream",
          "text": [
            "train_loss=0.1287, train_error=0.0452\n",
            "val_loss=0.9424, val_error=0.2090\n",
            "\n"
          ]
        },
        {
          "name": "stderr",
          "output_type": "stream",
          "text": [
            "Epoch 21 - batches processing: 100%|██████████| 1563/1563 [00:38<00:00, 40.49it/s]\n",
            "Calculating train loss & accuracy: 100%|██████████| 1563/1563 [00:11<00:00, 138.73it/s]\n",
            "Calculating val loss & accuracy: 100%|██████████| 63/63 [00:00<00:00, 134.81it/s]\n"
          ]
        },
        {
          "name": "stdout",
          "output_type": "stream",
          "text": [
            "train_loss=0.0940, train_error=0.0335\n",
            "val_loss=0.8438, val_error=0.1910\n",
            "\n"
          ]
        },
        {
          "name": "stderr",
          "output_type": "stream",
          "text": [
            "Epoch 22 - batches processing: 100%|██████████| 1563/1563 [00:38<00:00, 40.49it/s]\n",
            "Calculating train loss & accuracy: 100%|██████████| 1563/1563 [00:11<00:00, 135.18it/s]\n",
            "Calculating val loss & accuracy: 100%|██████████| 63/63 [00:00<00:00, 134.12it/s]\n"
          ]
        },
        {
          "name": "stdout",
          "output_type": "stream",
          "text": [
            "train_loss=0.0818, train_error=0.0289\n",
            "val_loss=0.9042, val_error=0.1870\n",
            "\n"
          ]
        },
        {
          "name": "stderr",
          "output_type": "stream",
          "text": [
            "Epoch 23 - batches processing: 100%|██████████| 1563/1563 [00:38<00:00, 40.48it/s]\n",
            "Calculating train loss & accuracy: 100%|██████████| 1563/1563 [00:11<00:00, 138.79it/s]\n",
            "Calculating val loss & accuracy: 100%|██████████| 63/63 [00:00<00:00, 135.74it/s]\n"
          ]
        },
        {
          "name": "stdout",
          "output_type": "stream",
          "text": [
            "train_loss=0.0936, train_error=0.0345\n",
            "val_loss=0.8188, val_error=0.1830\n",
            "\n"
          ]
        },
        {
          "name": "stderr",
          "output_type": "stream",
          "text": [
            "Epoch 24 - batches processing: 100%|██████████| 1563/1563 [00:38<00:00, 40.49it/s]\n",
            "Calculating train loss & accuracy: 100%|██████████| 1563/1563 [00:11<00:00, 135.36it/s]\n",
            "Calculating val loss & accuracy: 100%|██████████| 63/63 [00:00<00:00, 133.78it/s]\n"
          ]
        },
        {
          "name": "stdout",
          "output_type": "stream",
          "text": [
            "train_loss=0.0629, train_error=0.0215\n",
            "val_loss=0.7983, val_error=0.1950\n",
            "\n"
          ]
        },
        {
          "name": "stderr",
          "output_type": "stream",
          "text": [
            "Epoch 25 - batches processing: 100%|██████████| 1563/1563 [00:38<00:00, 40.49it/s]\n",
            "Calculating train loss & accuracy: 100%|██████████| 1563/1563 [00:11<00:00, 135.54it/s]\n",
            "Calculating val loss & accuracy: 100%|██████████| 63/63 [00:00<00:00, 134.22it/s]\n"
          ]
        },
        {
          "name": "stdout",
          "output_type": "stream",
          "text": [
            "train_loss=0.0439, train_error=0.0148\n",
            "val_loss=0.8217, val_error=0.1905\n",
            "\n"
          ]
        },
        {
          "name": "stderr",
          "output_type": "stream",
          "text": [
            "Epoch 26 - batches processing: 100%|██████████| 1563/1563 [00:38<00:00, 40.48it/s]\n",
            "Calculating train loss & accuracy: 100%|██████████| 1563/1563 [00:11<00:00, 138.16it/s]\n",
            "Calculating val loss & accuracy: 100%|██████████| 63/63 [00:00<00:00, 134.23it/s]\n"
          ]
        },
        {
          "name": "stdout",
          "output_type": "stream",
          "text": [
            "train_loss=0.0771, train_error=0.0277\n",
            "val_loss=0.9378, val_error=0.2060\n",
            "\n"
          ]
        },
        {
          "name": "stderr",
          "output_type": "stream",
          "text": [
            "Epoch 27 - batches processing: 100%|██████████| 1563/1563 [00:38<00:00, 40.49it/s]\n",
            "Calculating train loss & accuracy: 100%|██████████| 1563/1563 [00:11<00:00, 137.38it/s]\n",
            "Calculating val loss & accuracy: 100%|██████████| 63/63 [00:00<00:00, 134.29it/s]\n"
          ]
        },
        {
          "name": "stdout",
          "output_type": "stream",
          "text": [
            "train_loss=0.0912, train_error=0.0313\n",
            "val_loss=0.9404, val_error=0.1930\n",
            "\n"
          ]
        },
        {
          "name": "stderr",
          "output_type": "stream",
          "text": [
            "Epoch 28 - batches processing: 100%|██████████| 1563/1563 [00:38<00:00, 40.49it/s]\n",
            "Calculating train loss & accuracy: 100%|██████████| 1563/1563 [00:11<00:00, 137.72it/s]\n",
            "Calculating val loss & accuracy: 100%|██████████| 63/63 [00:00<00:00, 134.67it/s]\n"
          ]
        },
        {
          "name": "stdout",
          "output_type": "stream",
          "text": [
            "train_loss=0.0439, train_error=0.0146\n",
            "val_loss=0.8208, val_error=0.1880\n",
            "\n"
          ]
        },
        {
          "name": "stderr",
          "output_type": "stream",
          "text": [
            "Epoch 29 - batches processing: 100%|██████████| 1563/1563 [00:38<00:00, 40.49it/s]\n",
            "Calculating train loss & accuracy: 100%|██████████| 1563/1563 [00:11<00:00, 139.50it/s]\n",
            "Calculating val loss & accuracy: 100%|██████████| 63/63 [00:00<00:00, 137.15it/s]\n"
          ]
        },
        {
          "name": "stdout",
          "output_type": "stream",
          "text": [
            "train_loss=0.0837, train_error=0.0299\n",
            "val_loss=0.9936, val_error=0.2080\n",
            "\n"
          ]
        },
        {
          "name": "stderr",
          "output_type": "stream",
          "text": [
            "Epoch 30 - batches processing: 100%|██████████| 1563/1563 [00:38<00:00, 40.50it/s]\n",
            "Calculating train loss & accuracy: 100%|██████████| 1563/1563 [00:11<00:00, 134.98it/s]\n",
            "Calculating val loss & accuracy: 100%|██████████| 63/63 [00:00<00:00, 134.48it/s]\n"
          ]
        },
        {
          "name": "stdout",
          "output_type": "stream",
          "text": [
            "train_loss=0.0281, train_error=0.0095\n",
            "val_loss=0.8855, val_error=0.1845\n",
            "\n"
          ]
        },
        {
          "name": "stderr",
          "output_type": "stream",
          "text": [
            "Epoch 31 - batches processing: 100%|██████████| 1563/1563 [00:38<00:00, 40.49it/s]\n",
            "Calculating train loss & accuracy: 100%|██████████| 1563/1563 [00:11<00:00, 138.78it/s]\n",
            "Calculating val loss & accuracy: 100%|██████████| 63/63 [00:00<00:00, 134.09it/s]\n"
          ]
        },
        {
          "name": "stdout",
          "output_type": "stream",
          "text": [
            "train_loss=0.0318, train_error=0.0106\n",
            "val_loss=0.8235, val_error=0.1750\n",
            "\n"
          ]
        },
        {
          "name": "stderr",
          "output_type": "stream",
          "text": [
            "Epoch 32 - batches processing: 100%|██████████| 1563/1563 [00:38<00:00, 40.48it/s]\n",
            "Calculating train loss & accuracy: 100%|██████████| 1563/1563 [00:11<00:00, 135.17it/s]\n",
            "Calculating val loss & accuracy: 100%|██████████| 63/63 [00:00<00:00, 133.77it/s]\n"
          ]
        },
        {
          "name": "stdout",
          "output_type": "stream",
          "text": [
            "train_loss=0.0360, train_error=0.0114\n",
            "val_loss=0.8287, val_error=0.1750\n",
            "\n"
          ]
        },
        {
          "name": "stderr",
          "output_type": "stream",
          "text": [
            "Epoch 33 - batches processing: 100%|██████████| 1563/1563 [00:38<00:00, 40.48it/s]\n",
            "Calculating train loss & accuracy: 100%|██████████| 1563/1563 [00:11<00:00, 135.68it/s]\n",
            "Calculating val loss & accuracy: 100%|██████████| 63/63 [00:00<00:00, 134.02it/s]\n"
          ]
        },
        {
          "name": "stdout",
          "output_type": "stream",
          "text": [
            "train_loss=0.0352, train_error=0.0118\n",
            "val_loss=0.8468, val_error=0.1810\n",
            "\n"
          ]
        },
        {
          "name": "stderr",
          "output_type": "stream",
          "text": [
            "Epoch 34 - batches processing: 100%|██████████| 1563/1563 [00:38<00:00, 40.49it/s]\n",
            "Calculating train loss & accuracy: 100%|██████████| 1563/1563 [00:11<00:00, 138.44it/s]\n",
            "Calculating val loss & accuracy: 100%|██████████| 63/63 [00:00<00:00, 134.00it/s]\n"
          ]
        },
        {
          "name": "stdout",
          "output_type": "stream",
          "text": [
            "train_loss=0.0318, train_error=0.0109\n",
            "val_loss=0.8352, val_error=0.1820\n",
            "\n"
          ]
        },
        {
          "name": "stderr",
          "output_type": "stream",
          "text": [
            "Epoch 35 - batches processing: 100%|██████████| 1563/1563 [00:38<00:00, 40.49it/s]\n",
            "Calculating train loss & accuracy: 100%|██████████| 1563/1563 [00:11<00:00, 137.11it/s]\n",
            "Calculating val loss & accuracy: 100%|██████████| 63/63 [00:00<00:00, 134.61it/s]\n"
          ]
        },
        {
          "name": "stdout",
          "output_type": "stream",
          "text": [
            "train_loss=0.0565, train_error=0.0187\n",
            "val_loss=1.0085, val_error=0.1905\n",
            "\n"
          ]
        },
        {
          "name": "stderr",
          "output_type": "stream",
          "text": [
            "Epoch 36 - batches processing: 100%|██████████| 1563/1563 [00:38<00:00, 40.49it/s]\n",
            "Calculating train loss & accuracy: 100%|██████████| 1563/1563 [00:11<00:00, 135.79it/s]\n",
            "Calculating val loss & accuracy: 100%|██████████| 63/63 [00:00<00:00, 134.08it/s]\n"
          ]
        },
        {
          "name": "stdout",
          "output_type": "stream",
          "text": [
            "train_loss=0.0379, train_error=0.0134\n",
            "val_loss=0.9273, val_error=0.1900\n",
            "\n"
          ]
        },
        {
          "name": "stderr",
          "output_type": "stream",
          "text": [
            "Epoch 37 - batches processing: 100%|██████████| 1563/1563 [00:38<00:00, 40.49it/s]\n",
            "Calculating train loss & accuracy: 100%|██████████| 1563/1563 [00:11<00:00, 136.31it/s]\n",
            "Calculating val loss & accuracy: 100%|██████████| 63/63 [00:00<00:00, 134.23it/s]\n"
          ]
        },
        {
          "name": "stdout",
          "output_type": "stream",
          "text": [
            "train_loss=0.0237, train_error=0.0080\n",
            "val_loss=0.9073, val_error=0.1820\n",
            "\n"
          ]
        },
        {
          "name": "stderr",
          "output_type": "stream",
          "text": [
            "Epoch 38 - batches processing: 100%|██████████| 1563/1563 [00:38<00:00, 40.49it/s]\n",
            "Calculating train loss & accuracy: 100%|██████████| 1563/1563 [00:11<00:00, 137.30it/s]\n",
            "Calculating val loss & accuracy: 100%|██████████| 63/63 [00:00<00:00, 134.43it/s]\n"
          ]
        },
        {
          "name": "stdout",
          "output_type": "stream",
          "text": [
            "train_loss=0.0181, train_error=0.0054\n",
            "val_loss=0.8386, val_error=0.1835\n",
            "\n"
          ]
        },
        {
          "name": "stderr",
          "output_type": "stream",
          "text": [
            "Epoch 39 - batches processing: 100%|██████████| 1563/1563 [00:38<00:00, 40.49it/s]\n",
            "Calculating train loss & accuracy: 100%|██████████| 1563/1563 [00:11<00:00, 137.27it/s]\n",
            "Calculating val loss & accuracy: 100%|██████████| 63/63 [00:00<00:00, 135.26it/s]\n"
          ]
        },
        {
          "name": "stdout",
          "output_type": "stream",
          "text": [
            "train_loss=0.0168, train_error=0.0052\n",
            "val_loss=0.8690, val_error=0.1845\n",
            "\n"
          ]
        },
        {
          "name": "stderr",
          "output_type": "stream",
          "text": [
            "Epoch 40 - batches processing: 100%|██████████| 1563/1563 [00:38<00:00, 40.49it/s]\n",
            "Calculating train loss & accuracy: 100%|██████████| 1563/1563 [00:11<00:00, 137.84it/s]\n",
            "Calculating val loss & accuracy: 100%|██████████| 63/63 [00:00<00:00, 134.37it/s]\n"
          ]
        },
        {
          "name": "stdout",
          "output_type": "stream",
          "text": [
            "train_loss=0.0238, train_error=0.0080\n",
            "val_loss=0.9332, val_error=0.1805\n",
            "\n"
          ]
        },
        {
          "name": "stderr",
          "output_type": "stream",
          "text": [
            "Epoch 41 - batches processing: 100%|██████████| 1563/1563 [00:38<00:00, 40.49it/s]\n",
            "Calculating train loss & accuracy: 100%|██████████| 1563/1563 [00:11<00:00, 138.97it/s]\n",
            "Calculating val loss & accuracy: 100%|██████████| 63/63 [00:00<00:00, 136.69it/s]\n"
          ]
        },
        {
          "name": "stdout",
          "output_type": "stream",
          "text": [
            "train_loss=0.0482, train_error=0.0159\n",
            "val_loss=0.9524, val_error=0.1835\n",
            "\n"
          ]
        },
        {
          "name": "stderr",
          "output_type": "stream",
          "text": [
            "Epoch 42 - batches processing: 100%|██████████| 1563/1563 [00:38<00:00, 40.50it/s]\n",
            "Calculating train loss & accuracy: 100%|██████████| 1563/1563 [00:11<00:00, 135.16it/s]\n",
            "Calculating val loss & accuracy: 100%|██████████| 63/63 [00:00<00:00, 134.63it/s]\n"
          ]
        },
        {
          "name": "stdout",
          "output_type": "stream",
          "text": [
            "train_loss=0.0237, train_error=0.0081\n",
            "val_loss=0.9346, val_error=0.1775\n",
            "\n"
          ]
        },
        {
          "name": "stderr",
          "output_type": "stream",
          "text": [
            "Epoch 43 - batches processing: 100%|██████████| 1563/1563 [00:38<00:00, 40.49it/s]\n",
            "Calculating train loss & accuracy: 100%|██████████| 1563/1563 [00:11<00:00, 137.14it/s]\n",
            "Calculating val loss & accuracy: 100%|██████████| 63/63 [00:00<00:00, 134.26it/s]\n"
          ]
        },
        {
          "name": "stdout",
          "output_type": "stream",
          "text": [
            "train_loss=0.0223, train_error=0.0080\n",
            "val_loss=0.8905, val_error=0.1720\n",
            "\n"
          ]
        },
        {
          "name": "stderr",
          "output_type": "stream",
          "text": [
            "Epoch 44 - batches processing: 100%|██████████| 1563/1563 [00:38<00:00, 40.49it/s]\n",
            "Calculating train loss & accuracy: 100%|██████████| 1563/1563 [00:11<00:00, 138.06it/s]\n",
            "Calculating val loss & accuracy: 100%|██████████| 63/63 [00:00<00:00, 134.13it/s]\n"
          ]
        },
        {
          "name": "stdout",
          "output_type": "stream",
          "text": [
            "train_loss=0.0287, train_error=0.0103\n",
            "val_loss=0.9392, val_error=0.1815\n",
            "\n"
          ]
        },
        {
          "name": "stderr",
          "output_type": "stream",
          "text": [
            "Epoch 45 - batches processing: 100%|██████████| 1563/1563 [00:38<00:00, 40.49it/s]\n",
            "Calculating train loss & accuracy: 100%|██████████| 1563/1563 [00:11<00:00, 134.68it/s]\n",
            "Calculating val loss & accuracy: 100%|██████████| 63/63 [00:00<00:00, 132.77it/s]\n"
          ]
        },
        {
          "name": "stdout",
          "output_type": "stream",
          "text": [
            "train_loss=0.0380, train_error=0.0129\n",
            "val_loss=0.9311, val_error=0.1850\n",
            "\n"
          ]
        },
        {
          "name": "stderr",
          "output_type": "stream",
          "text": [
            "Epoch 46 - batches processing: 100%|██████████| 1563/1563 [00:38<00:00, 40.49it/s]\n",
            "Calculating train loss & accuracy: 100%|██████████| 1563/1563 [00:11<00:00, 135.21it/s]\n",
            "Calculating val loss & accuracy: 100%|██████████| 63/63 [00:00<00:00, 133.14it/s]\n"
          ]
        },
        {
          "name": "stdout",
          "output_type": "stream",
          "text": [
            "train_loss=0.0235, train_error=0.0078\n",
            "val_loss=0.9136, val_error=0.1790\n",
            "\n"
          ]
        },
        {
          "name": "stderr",
          "output_type": "stream",
          "text": [
            "Epoch 47 - batches processing: 100%|██████████| 1563/1563 [00:38<00:00, 40.49it/s]\n",
            "Calculating train loss & accuracy: 100%|██████████| 1563/1563 [00:11<00:00, 135.39it/s]\n",
            "Calculating val loss & accuracy: 100%|██████████| 63/63 [00:00<00:00, 133.75it/s]\n"
          ]
        },
        {
          "name": "stdout",
          "output_type": "stream",
          "text": [
            "train_loss=0.0223, train_error=0.0071\n",
            "val_loss=0.9006, val_error=0.1765\n",
            "\n"
          ]
        },
        {
          "name": "stderr",
          "output_type": "stream",
          "text": [
            "Epoch 48 - batches processing: 100%|██████████| 1563/1563 [00:38<00:00, 40.49it/s]\n",
            "Calculating train loss & accuracy: 100%|██████████| 1563/1563 [00:11<00:00, 137.59it/s]\n",
            "Calculating val loss & accuracy: 100%|██████████| 63/63 [00:00<00:00, 134.27it/s]\n"
          ]
        },
        {
          "name": "stdout",
          "output_type": "stream",
          "text": [
            "train_loss=0.0102, train_error=0.0032\n",
            "val_loss=0.8609, val_error=0.1690\n",
            "\n"
          ]
        },
        {
          "name": "stderr",
          "output_type": "stream",
          "text": [
            "Epoch 49 - batches processing: 100%|██████████| 1563/1563 [00:38<00:00, 40.48it/s]\n",
            "Calculating train loss & accuracy: 100%|██████████| 1563/1563 [00:11<00:00, 136.20it/s]\n",
            "Calculating val loss & accuracy: 100%|██████████| 63/63 [00:00<00:00, 133.83it/s]\n"
          ]
        },
        {
          "name": "stdout",
          "output_type": "stream",
          "text": [
            "train_loss=0.0304, train_error=0.0102\n",
            "val_loss=1.0262, val_error=0.1905\n",
            "\n"
          ]
        },
        {
          "name": "stderr",
          "output_type": "stream",
          "text": [
            "Epoch 50 - batches processing: 100%|██████████| 1563/1563 [00:38<00:00, 40.49it/s]\n",
            "Calculating train loss & accuracy: 100%|██████████| 1563/1563 [00:11<00:00, 135.41it/s]\n",
            "Calculating val loss & accuracy: 100%|██████████| 63/63 [00:00<00:00, 133.96it/s]"
          ]
        },
        {
          "name": "stdout",
          "output_type": "stream",
          "text": [
            "train_loss=0.0180, train_error=0.0060\n",
            "val_loss=0.9531, val_error=0.1760\n",
            "\n"
          ]
        },
        {
          "name": "stderr",
          "output_type": "stream",
          "text": [
            "\n"
          ]
        }
      ],
      "source": [
        "learning_rate = 1e-4\n",
        "batch_size = 32\n",
        "epochs = 50\n",
        "\n",
        "device = torch.device('cuda:0' if torch.cuda.is_available() else 'cpu')\n",
        "print(f\"Using device - \\\"{device}\\\"\")\n",
        "\n",
        "model = MNBasedNeuralNetwork().to(device)\n",
        "optimizer = torch.optim.Adam(model.parameters(), lr=learning_rate)\n",
        "criterion = nn.CrossEntropyLoss()\n",
        "\n",
        "train_data_loader = DataLoader(CifarDataset(train_images, train_labels), batch_size, shuffle=True)\n",
        "val_data_loader = DataLoader(CifarDataset(val_images, val_labels), batch_size)\n",
        "\n",
        "train_losses, train_errors, val_losses, val_errors = train(model, optimizer, criterion, train_data_loader, val_data_loader, epochs, device)"
      ]
    },
    {
      "cell_type": "code",
      "execution_count": 36,
      "metadata": {
        "id": "eB2h0wYq0XSb"
      },
      "outputs": [
        {
          "data": {
            "image/png": "[encoded data removed]",
            "text/plain": [
              "<Figure size 1000x500 with 2 Axes>"
            ]
          },
          "metadata": {},
          "output_type": "display_data"
        }
      ],
      "source": [
        "fig, axes = plt.subplots(1, 2, figsize=(10, 5))\n",
        "for ax, train_metric, val_metric, metric in zip(axes, [train_losses, train_errors], [val_losses, val_errors], [\"loss\", \"error\"]):\n",
        "    epochs_range = np.arange(len(train_metric)) + 1\n",
        "\n",
        "    sns.lineplot(ax=ax, x=epochs_range, y=train_metric, label=\"train\")\n",
        "    sns.lineplot(ax=ax, x=epochs_range, y=val_metric, label=\"val\")\n",
        "\n",
        "    plt.xlabel(\"epochs\")\n",
        "    plt.ylabel(metric)"
      ]
    },
    {
      "cell_type": "code",
      "execution_count": 38,
      "metadata": {
        "id": "Mls7aC237agd"
      },
      "outputs": [
        {
          "name": "stderr",
          "output_type": "stream",
          "text": [
            "Calculating loss & error: 100%|██████████| 250/250 [00:01<00:00, 134.07it/s]"
          ]
        },
        {
          "name": "stdout",
          "output_type": "stream",
          "text": [
            "\n",
            "loss=0.6006489893198014, error=0.19225000000000003\n"
          ]
        },
        {
          "name": "stderr",
          "output_type": "stream",
          "text": [
            "\n"
          ]
        }
      ],
      "source": [
        "model.load_state_dict(torch.load(\"best_weights\", weights_only=True))\n",
        "\n",
        "test_data_loader = DataLoader(CifarDataset(test_images, test_labels), batch_size, shuffle=False)\n",
        "\n",
        "loss, accuracy = test(model, criterion, test_data_loader, device)\n",
        "error = 1 - accuracy\n",
        "\n",
        "print(f\"\\n{loss=}, {error=}\")"
      ]
    },
    {
      "cell_type": "code",
      "execution_count": null,
      "metadata": {
        "id": "Rqv0Ljv3zGUs"
      },
      "outputs": [],
      "source": []
    }
  ],
  "metadata": {
    "accelerator": "GPU",
    "colab": {
      "gpuType": "T4",
      "provenance": []
    },
    "kernelspec": {
      "display_name": "Python 3",
      "name": "python3"
    },
    "language_info": {
      "codemirror_mode": {
        "name": "ipython",
        "version": 3
      },
      "file_extension": ".py",
      "mimetype": "text/x-python",
      "name": "python",
      "nbconvert_exporter": "python",
      "pygments_lexer": "ipython3",
      "version": "3.10.12"
    }
  },
  "nbformat": 4,
  "nbformat_minor": 0
}
