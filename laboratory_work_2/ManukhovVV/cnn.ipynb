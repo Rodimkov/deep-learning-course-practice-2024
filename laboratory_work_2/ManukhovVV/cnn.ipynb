{
 "cells": [
  {
   "cell_type": "markdown",
   "metadata": {
    "id": "le3Pvc2ysUoG"
   },
   "source": [
    "### Импорт библиотек"
   ]
  },
  {
   "cell_type": "code",
   "execution_count": 1,
   "metadata": {
    "id": "SpZ9g_BIsUoK",
    "vscode": {
     "languageId": "plaintext"
    }
   },
   "outputs": [],
   "source": [
    "import numpy as np\n",
    "import matplotlib.pyplot as plt\n",
    "\n",
    "import torch\n",
    "import torch.nn as nn\n",
    "import torch.optim as optim\n",
    "import torchvision\n",
    "import torchvision.transforms as transforms\n",
    "\n",
    "from torch.utils.data import DataLoader\n",
    "from tqdm import tqdm\n",
    "\n",
    "device = \"cuda\" if torch.cuda.is_available() else \"cpu\"\n",
    "\n",
    "CLASSES = ('plane', 'car', 'bird', 'cat',\n",
    "           'deer', 'dog', 'frog', 'horse',\n",
    "           'ship', 'truck')"
   ]
  },
  {
   "cell_type": "markdown",
   "metadata": {
    "id": "15ftXtfxsUoN"
   },
   "source": [
    "### Определение классов и функций"
   ]
  },
  {
   "cell_type": "code",
   "execution_count": 2,
   "metadata": {
    "id": "cish-ZWEsUoO",
    "vscode": {
     "languageId": "plaintext"
    }
   },
   "outputs": [],
   "source": [
    "def imshow(images, labels):\n",
    "    images = images / 2 + 0.5\n",
    "    np_images = images.numpy()\n",
    "\n",
    "    num_images = len(images)\n",
    "\n",
    "    cols = 4 if num_images >= 4 else num_images\n",
    "    rows = (num_images + cols - 1) // cols\n",
    "\n",
    "    if num_images == 1:\n",
    "        fig, ax = plt.subplots(figsize=(4, 4))\n",
    "        ax.imshow(np.transpose(np_images[0], (1, 2, 0)))\n",
    "        ax.set_title(CLASSES[labels[0]])\n",
    "    else:\n",
    "        fig, axes = plt.subplots(rows, cols, figsize=(cols * 2, rows * 2))\n",
    "        axes = axes.flatten()\n",
    "\n",
    "        for i in range(num_images):\n",
    "            ax = axes[i]\n",
    "            ax.imshow(np.transpose(np_images[i], (1, 2, 0)))\n",
    "            ax.set_title(CLASSES[labels[i]])\n",
    "            ax.set_xlabel(\"Width\")\n",
    "            ax.set_ylabel(\"Height\")\n",
    "\n",
    "        for i in range(num_images, len(axes)):\n",
    "            fig.delaxes(axes[i])\n",
    "\n",
    "    plt.tight_layout()\n",
    "    plt.show()\n",
    "\n",
    "\n",
    "def convolutional_block(in_channels: int,\n",
    "                        out_channels: int,\n",
    "                        kernel_size: int,\n",
    "                        padding: int) -> nn.Sequential:\n",
    "    conv_block = nn.Sequential(\n",
    "        nn.Conv2d(in_channels=in_channels,\n",
    "                  out_channels=out_channels,\n",
    "                  kernel_size=kernel_size,\n",
    "                  padding=padding),\n",
    "        nn.BatchNorm2d(num_features=out_channels),\n",
    "        nn.ReLU(),\n",
    "        nn.MaxPool2d(2, 2)\n",
    "    )\n",
    "\n",
    "    return conv_block\n",
    "\n",
    "\n",
    "class ConvNN(nn.Module):\n",
    "    def __init__(self):\n",
    "        super(ConvNN, self).__init__()\n",
    "        self.conv_block1 = convolutional_block(3, 64, 3, 1)\n",
    "        self.conv_block2 = convolutional_block(64, 128, 3, 1)\n",
    "        self.conv_block3 = convolutional_block(128, 256, 3, 1)\n",
    "        self.conv_block4 = convolutional_block(256, 512, 3, 1)\n",
    "        self.avgpool = nn.AdaptiveAvgPool2d((1, 1))\n",
    "        self.dropout = nn.Dropout(0.5)\n",
    "        self.linear = nn.Linear(512, 10)\n",
    "\n",
    "    def forward(self, x):\n",
    "        x = self.conv_block1(x)\n",
    "        x = self.conv_block2(x)\n",
    "        x = self.conv_block3(x)\n",
    "        x = self.conv_block4(x)\n",
    "        x = self.avgpool(x)\n",
    "        x = x.view(x.size(0), -1)\n",
    "        x = self.dropout(x)\n",
    "        x = self.linear(x)\n",
    "        return x"
   ]
  },
  {
   "cell_type": "markdown",
   "metadata": {
    "id": "6zJoFyPAsUoQ"
   },
   "source": [
    "### Проверка данных"
   ]
  },
  {
   "cell_type": "code",
   "execution_count": 3,
   "metadata": {
    "colab": {
     "base_uri": "https://localhost:8080/",
     "height": 295
    },
    "id": "13_5bMf8sUoR",
    "outputId": "6ac36618-2772-4325-da7f-217c95af1af5",
    "vscode": {
     "languageId": "plaintext"
    }
   },
   "outputs": [
    {
     "name": "stdout",
     "output_type": "stream",
     "text": [
      "Downloading https://www.cs.toronto.edu/~kriz/cifar-10-python.tar.gz to ./data/cifar-10-python.tar.gz\n"
     ]
    },
    {
     "name": "stderr",
     "output_type": "stream",
     "text": [
      "100%|██████████| 170M/170M [00:03<00:00, 44.3MB/s]\n"
     ]
    },
    {
     "name": "stdout",
     "output_type": "stream",
     "text": [
      "Extracting ./data/cifar-10-python.tar.gz to ./data\n",
      "Размерность батча изображений: torch.Size([4, 3, 32, 32])\n"
     ]
    },
    {
     "data": {
      "image/png": "[encoded data removed]",
      "text/plain": [
       "<Figure size 800x200 with 4 Axes>"
      ]
     },
     "metadata": {},
     "output_type": "display_data"
    }
   ],
   "source": [
    "transform = transforms.Compose(\n",
    "    [transforms.ToTensor(),\n",
    "     transforms.Normalize((0.5, 0.5, 0.5), (0.5, 0.5, 0.5))])\n",
    "\n",
    "batch_size = 4\n",
    "indices = [0, 10, 22, 30]  # or None\n",
    "\n",
    "trainset = torchvision.datasets.CIFAR10(root='./data', train=True,\n",
    "                                        download=True, transform=transform)\n",
    "\n",
    "if indices is not None:\n",
    "    subset = torch.utils.data.Subset(trainset, indices)\n",
    "    trainloader = DataLoader(subset,\n",
    "                             batch_size=batch_size,\n",
    "                             shuffle=False)\n",
    "else:\n",
    "    trainloader = DataLoader(trainset,\n",
    "                             batch_size=batch_size,\n",
    "                             shuffle=True, num_workers=2)\n",
    "\n",
    "dataiter = iter(trainloader)\n",
    "images, labels = next(dataiter)\n",
    "\n",
    "print(f\"Размерность батча изображений: {images.size()}\")\n",
    "\n",
    "imshow(images, labels)"
   ]
  },
  {
   "cell_type": "markdown",
   "metadata": {
    "id": "kY7x0CvssUoS"
   },
   "source": [
    "### Инициализация модели и гиперпараметров"
   ]
  },
  {
   "cell_type": "code",
   "execution_count": 4,
   "metadata": {
    "id": "aJKX7ud5sUoT",
    "vscode": {
     "languageId": "plaintext"
    }
   },
   "outputs": [],
   "source": [
    "model = ConvNN().to(device)\n",
    "\n",
    "learning_rate = 0.001\n",
    "num_epochs = 10  # 10\n",
    "batch_size = 32\n",
    "\n",
    "criterion = nn.CrossEntropyLoss()\n",
    "optimizer = optim.Adam(model.parameters(), lr=learning_rate)"
   ]
  },
  {
   "cell_type": "markdown",
   "metadata": {
    "id": "06gPmwuwsUoU"
   },
   "source": [
    "### Загрузка данных для обучения и оценки модели"
   ]
  },
  {
   "cell_type": "code",
   "execution_count": 5,
   "metadata": {
    "colab": {
     "base_uri": "https://localhost:8080/"
    },
    "id": "ILKrgsXcsUoW",
    "outputId": "175828c6-7324-455c-e311-50905292d13a",
    "vscode": {
     "languageId": "plaintext"
    }
   },
   "outputs": [
    {
     "name": "stdout",
     "output_type": "stream",
     "text": [
      "Files already downloaded and verified\n",
      "Files already downloaded and verified\n"
     ]
    }
   ],
   "source": [
    "trainset = torchvision.datasets.CIFAR10(root='./data',\n",
    "                                        train=True,\n",
    "                                        download=True,\n",
    "                                        transform=transform)\n",
    "trainloader = torch.utils.data.DataLoader(trainset,\n",
    "                                          batch_size=batch_size,\n",
    "                                          shuffle=True,\n",
    "                                          num_workers=2)\n",
    "\n",
    "testset = torchvision.datasets.CIFAR10(root='./data',\n",
    "                                       train=False,\n",
    "                                       download=True,\n",
    "                                       transform=transform)\n",
    "testloader = torch.utils.data.DataLoader(testset,\n",
    "                                         batch_size=batch_size,\n",
    "                                         shuffle=False,\n",
    "                                         num_workers=2)"
   ]
  },
  {
   "cell_type": "markdown",
   "metadata": {
    "id": "VY6t2sZZsUoW"
   },
   "source": [
    "### Обучение модели"
   ]
  },
  {
   "cell_type": "code",
   "execution_count": 6,
   "metadata": {
    "colab": {
     "base_uri": "https://localhost:8080/"
    },
    "id": "ciUy7Gp8sUoW",
    "outputId": "57897271-aa78-4ba5-e49b-aff5bd279d17",
    "vscode": {
     "languageId": "plaintext"
    }
   },
   "outputs": [
    {
     "name": "stderr",
     "output_type": "stream",
     "text": [
      "Epoch 1/10: 100%|██████████| 1563/1563 [00:37<00:00, 42.15batch/s, loss=1.02, accuracy=55.08%]\n"
     ]
    },
    {
     "name": "stdout",
     "output_type": "stream",
     "text": [
      "Epoch 1, Loss: 1.253, Accuracy: 55.08%\n"
     ]
    },
    {
     "name": "stderr",
     "output_type": "stream",
     "text": [
      "Epoch 2/10: 100%|██████████| 1563/1563 [00:29<00:00, 53.31batch/s, loss=0.555, accuracy=69.30%]\n"
     ]
    },
    {
     "name": "stdout",
     "output_type": "stream",
     "text": [
      "Epoch 2, Loss: 0.872, Accuracy: 69.30%\n"
     ]
    },
    {
     "name": "stderr",
     "output_type": "stream",
     "text": [
      "Epoch 3/10: 100%|██████████| 1563/1563 [00:27<00:00, 56.78batch/s, loss=0.813, accuracy=75.63%]\n"
     ]
    },
    {
     "name": "stdout",
     "output_type": "stream",
     "text": [
      "Epoch 3, Loss: 0.707, Accuracy: 75.63%\n"
     ]
    },
    {
     "name": "stderr",
     "output_type": "stream",
     "text": [
      "Epoch 4/10: 100%|██████████| 1563/1563 [00:26<00:00, 58.83batch/s, loss=0.53, accuracy=79.85%]\n"
     ]
    },
    {
     "name": "stdout",
     "output_type": "stream",
     "text": [
      "Epoch 4, Loss: 0.589, Accuracy: 79.85%\n"
     ]
    },
    {
     "name": "stderr",
     "output_type": "stream",
     "text": [
      "Epoch 5/10: 100%|██████████| 1563/1563 [00:26<00:00, 58.29batch/s, loss=0.992, accuracy=83.05%]\n"
     ]
    },
    {
     "name": "stdout",
     "output_type": "stream",
     "text": [
      "Epoch 5, Loss: 0.489, Accuracy: 83.05%\n"
     ]
    },
    {
     "name": "stderr",
     "output_type": "stream",
     "text": [
      "Epoch 6/10: 100%|██████████| 1563/1563 [00:26<00:00, 58.48batch/s, loss=0.64, accuracy=85.88%]\n"
     ]
    },
    {
     "name": "stdout",
     "output_type": "stream",
     "text": [
      "Epoch 6, Loss: 0.411, Accuracy: 85.88%\n"
     ]
    },
    {
     "name": "stderr",
     "output_type": "stream",
     "text": [
      "Epoch 7/10: 100%|██████████| 1563/1563 [00:26<00:00, 58.55batch/s, loss=0.44, accuracy=88.38%]\n"
     ]
    },
    {
     "name": "stdout",
     "output_type": "stream",
     "text": [
      "Epoch 7, Loss: 0.333, Accuracy: 88.38%\n"
     ]
    },
    {
     "name": "stderr",
     "output_type": "stream",
     "text": [
      "Epoch 8/10: 100%|██████████| 1563/1563 [00:26<00:00, 58.54batch/s, loss=0.131, accuracy=90.34%]\n"
     ]
    },
    {
     "name": "stdout",
     "output_type": "stream",
     "text": [
      "Epoch 8, Loss: 0.274, Accuracy: 90.34%\n"
     ]
    },
    {
     "name": "stderr",
     "output_type": "stream",
     "text": [
      "Epoch 9/10: 100%|██████████| 1563/1563 [00:26<00:00, 59.00batch/s, loss=0.0353, accuracy=92.20%]\n"
     ]
    },
    {
     "name": "stdout",
     "output_type": "stream",
     "text": [
      "Epoch 9, Loss: 0.223, Accuracy: 92.20%\n"
     ]
    },
    {
     "name": "stderr",
     "output_type": "stream",
     "text": [
      "Epoch 10/10: 100%|██████████| 1563/1563 [00:27<00:00, 56.34batch/s, loss=0.242, accuracy=93.42%]"
     ]
    },
    {
     "name": "stdout",
     "output_type": "stream",
     "text": [
      "Epoch 10, Loss: 0.187, Accuracy: 93.42%\n",
      "Training completed!\n"
     ]
    },
    {
     "name": "stderr",
     "output_type": "stream",
     "text": [
      "\n"
     ]
    }
   ],
   "source": [
    "train_losses = []\n",
    "train_accuracies = []\n",
    "\n",
    "for epoch in range(num_epochs):\n",
    "    train_loss = 0.0\n",
    "    num_correct_preds = 0\n",
    "    total_samples = 0\n",
    "    desc = f\"Epoch {epoch+1}/{num_epochs}\"\n",
    "    with tqdm(trainloader, desc=desc, unit=\"batch\") as batch_bar:\n",
    "        for i, data in enumerate(batch_bar):\n",
    "            inputs, labels = data\n",
    "\n",
    "            inputs = inputs.to(device)\n",
    "            labels = labels.to(device)\n",
    "\n",
    "            optimizer.zero_grad()\n",
    "\n",
    "            outputs = model(inputs)\n",
    "            loss = criterion(outputs, labels)\n",
    "\n",
    "            loss.backward()\n",
    "            optimizer.step()\n",
    "\n",
    "            train_loss += loss.item()\n",
    "            _, predicted = torch.max(outputs.data, 1)\n",
    "            total_samples += labels.size(0)\n",
    "\n",
    "            num_correct_preds += (predicted == labels).sum().item()\n",
    "\n",
    "            accuracy = num_correct_preds / total_samples\n",
    "\n",
    "            batch_bar.set_postfix({\n",
    "                'loss': loss.item(),\n",
    "                'accuracy': f'{100. * accuracy:.2f}%'\n",
    "            })\n",
    "\n",
    "    epoch_loss = train_loss / len(trainloader)\n",
    "    epoch_accuracy = 100 * num_correct_preds / total_samples\n",
    "\n",
    "    train_losses.append(epoch_loss)\n",
    "    train_accuracies.append(epoch_accuracy)\n",
    "\n",
    "    print(f'Epoch {epoch+1}, Loss: {epoch_loss:.3f}, Accuracy: {epoch_accuracy:.2f}%')\n",
    "\n",
    "print('Training completed!')"
   ]
  },
  {
   "cell_type": "markdown",
   "metadata": {
    "id": "5ohdr_bdsUoX"
   },
   "source": [
    "### Оценка модели"
   ]
  },
  {
   "cell_type": "code",
   "execution_count": 7,
   "metadata": {
    "colab": {
     "base_uri": "https://localhost:8080/"
    },
    "id": "f074LfbVsUoX",
    "outputId": "1d39401e-0527-490c-ad2d-cc687770d0dd",
    "vscode": {
     "languageId": "plaintext"
    }
   },
   "outputs": [
    {
     "name": "stdout",
     "output_type": "stream",
     "text": [
      "Loss: 0.687, Accuracy: 81.05%\n"
     ]
    }
   ],
   "source": [
    "num_correct_preds = 0\n",
    "total_samples = 0\n",
    "test_loss = 0.0\n",
    "\n",
    "with torch.no_grad():\n",
    "    for data in testloader:\n",
    "        inputs, labels = data\n",
    "\n",
    "        inputs = inputs.to(device)\n",
    "        labels = labels.to(device)\n",
    "\n",
    "        outputs = model(inputs)\n",
    "\n",
    "        loss = criterion(outputs, labels)\n",
    "\n",
    "        test_loss += loss.item()\n",
    "        _, predicted = torch.max(outputs.data, 1)\n",
    "        total_samples += labels.size(0)\n",
    "\n",
    "        num_correct_preds += (predicted == labels).sum().item()\n",
    "\n",
    "test_loss = test_loss / len(testloader)\n",
    "test_accuracy = 100 * num_correct_preds / total_samples\n",
    "print(f\"Loss: {test_loss:.3f}, Accuracy: {test_accuracy:.2f}%\")"
   ]
  },
  {
   "cell_type": "markdown",
   "metadata": {
    "id": "dSXIadUHsUoX"
   },
   "source": [
    "### Построение графиков ошибки и точности на обучении"
   ]
  },
  {
   "cell_type": "code",
   "execution_count": 8,
   "metadata": {
    "colab": {
     "base_uri": "https://localhost:8080/",
     "height": 957
    },
    "id": "5e9MM1aisUoY",
    "outputId": "685b321b-00e4-42db-ba22-8cc0d869bfb5",
    "vscode": {
     "languageId": "plaintext"
    }
   },
   "outputs": [
    {
     "data": {
      "image/png": "[encoded data removed]",
      "text/plain": [
       "<Figure size 1000x500 with 1 Axes>"
      ]
     },
     "metadata": {},
     "output_type": "display_data"
    },
    {
     "data": {
      "image/png": "[encoded data removed]",
      "text/plain": [
       "<Figure size 1000x500 with 1 Axes>"
      ]
     },
     "metadata": {},
     "output_type": "display_data"
    }
   ],
   "source": [
    "def plot_curve(data, title, label):\n",
    "    plt.figure(figsize=(10,5))\n",
    "    plt.title(title)\n",
    "    plt.plot(data, label=label)\n",
    "    plt.xlabel(\"Epoch\")\n",
    "    plt.ylabel(label)\n",
    "    plt.show()\n",
    "\n",
    "plot_curve(train_losses, \"Train loss vs epochs\", \"Loss\")\n",
    "plot_curve(train_accuracies, \"Train accuracy vs epochs\", \"Accuracy\")"
   ]
  }
 ],
 "metadata": {
  "accelerator": "GPU",
  "colab": {
   "gpuType": "T4",
   "provenance": []
  },
  "kernelspec": {
   "display_name": "Python 3 (ipykernel)",
   "language": "python",
   "name": "python3"
  },
  "language_info": {
   "codemirror_mode": {
    "name": "ipython",
    "version": 3
   },
   "file_extension": ".py",
   "mimetype": "text/x-python",
   "name": "python",
   "nbconvert_exporter": "python",
   "pygments_lexer": "ipython3",
   "version": "3.10.12"
  }
 },
 "nbformat": 4,
 "nbformat_minor": 4
}
